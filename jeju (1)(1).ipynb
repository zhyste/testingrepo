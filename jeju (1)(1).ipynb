{
 "cells": [
  {
   "cell_type": "markdown",
   "metadata": {},
   "source": [
    "# **대출.AI** [UPSTAGE API MODEL FINE-TUNING]"
   ]
  },
  {
   "cell_type": "markdown",
   "metadata": {},
   "source": [
    "Importing Libraries"
   ]
  },
  {
   "cell_type": "code",
   "execution_count": 57,
   "metadata": {},
   "outputs": [
    {
     "data": {
      "text/plain": [
       "True"
      ]
     },
     "execution_count": 57,
     "metadata": {},
     "output_type": "execute_result"
    }
   ],
   "source": [
    "import requests\n",
    "import json\n",
    "from llama_index.llms.upstage import Upstage\n",
    "import requests\n",
    "from openai import OpenAI\n",
    "from dotenv import load_dotenv\n",
    "from predibase import Predibase, FinetuningConfig, DeploymentConfig\n",
    "import csv\n",
    "import numpy as np\n",
    "from numpy.random import default_rng\n",
    "import os\n",
    "import pandas as pd\n",
    "load_dotenv()"
   ]
  },
  {
   "cell_type": "markdown",
   "metadata": {},
   "source": [
    "Extract environment keys, set up Upstage API and Predibase"
   ]
  },
  {
   "cell_type": "code",
   "execution_count": 2,
   "metadata": {},
   "outputs": [
    {
     "data": {
      "text/html": [
       "<pre style=\"white-space:pre;overflow-x:auto;line-height:normal;font-family:Menlo,'DejaVu Sans Mono',consolas,'Courier New',monospace\"><span style=\"color: #000080; text-decoration-color: #000080; font-weight: bold\">Connected to Predibase as </span><span style=\"color: #800080; text-decoration-color: #800080; font-weight: bold\">User</span><span style=\"color: #000080; text-decoration-color: #000080; font-weight: bold\">(</span><span style=\"color: #808000; text-decoration-color: #808000; font-weight: bold\">id</span><span style=\"color: #000080; text-decoration-color: #000080; font-weight: bold\">=</span><span style=\"color: #ffff00; text-decoration-color: #ffff00\">ff9179be</span><span style=\"color: #ffff00; text-decoration-color: #ffff00\">-dcd1-42bb-8713-c669d1f39e37</span><span style=\"color: #000080; text-decoration-color: #000080; font-weight: bold\">, </span><span style=\"color: #808000; text-decoration-color: #808000; font-weight: bold\">username</span><span style=\"color: #000080; text-decoration-color: #000080; font-weight: bold\">=</span><span style=\"color: #800080; text-decoration-color: #800080; font-weight: bold\">leftysg555</span><span style=\"color: #000080; text-decoration-color: #000080; font-weight: bold\">@gmail.com)</span>\n",
       "</pre>\n"
      ],
      "text/plain": [
       "\u001b[1;34mConnected to Predibase as \u001b[0m\u001b[1;35mUser\u001b[0m\u001b[1;34m(\u001b[0m\u001b[1;33mid\u001b[0m\u001b[1;34m=\u001b[0m\u001b[93mff9179be\u001b[0m\u001b[93m-dcd1-42bb-8713-c669d1f39e37\u001b[0m\u001b[1;34m, \u001b[0m\u001b[1;33musername\u001b[0m\u001b[1;34m=\u001b[0m\u001b[1;35mleftysg555\u001b[0m\u001b[1;34m@gmail.com\u001b[0m\u001b[1;34m)\u001b[0m\n"
      ]
     },
     "metadata": {},
     "output_type": "display_data"
    }
   ],
   "source": [
    "UPSTAGE_API_KEY = os.environ['UPSTAGE_API_KEY']\n",
    "PB_API_KEY = os.environ['PB_API_KEY']\n",
    "tenant_id = os.environ['TENANT_ID']\n",
    "base_model = \"solar-1-mini-chat-240612\"\n",
    "pb = Predibase(api_token=PB_API_KEY)\n",
    "pb\n",
    "client = OpenAI(\n",
    "    api_key=UPSTAGE_API_KEY,\n",
    "    base_url=\"https://api.upstage.ai/v1/solar\"\n",
    ")\n"
   ]
  },
  {
   "cell_type": "markdown",
   "metadata": {},
   "source": [
    "### SUMMARIZE MODEL"
   ]
  },
  {
   "cell_type": "code",
   "execution_count": 3,
   "metadata": {},
   "outputs": [],
   "source": [
    "def prompt_summarize(context, client=client):\n",
    "    stream = client.chat.completions.create(\n",
    "        model='solar-1-mini-chat',\n",
    "        messages=[\n",
    "            {\n",
    "                \"role\": \"system\",\n",
    "                \"content\": \"\"\"\n",
    "                You are an expert in financial analysis. Below is a page from a financial statement document. \n",
    "                Your task is to summarize the key financial information, including all relevant numerical figures, trends, and notable observations. \n",
    "                Ensure that no important numerical data is omitted. Your summary should be clear, concise, and no longer than 200 words, focusing only on the most significant details. \n",
    "                If you find the page lacks sufficient information for a summary, you MUST return an empty response.\n",
    "                \"\"\"\n",
    "            }, \n",
    "            {\n",
    "                \"role\": \"user\",\n",
    "                \"content\": f\"\"\"\n",
    "                This is the text you are to summarize:\n",
    "                {context}\n",
    "                \"\"\"\n",
    "            }\n",
    "        ],\n",
    "        stream=False\n",
    "    )\n",
    "    response = stream.choices[0].message.content\n",
    "    return response"
   ]
  },
  {
   "cell_type": "markdown",
   "metadata": {},
   "source": [
    "### Data Preprocessing"
   ]
  },
  {
   "cell_type": "code",
   "execution_count": 4,
   "metadata": {},
   "outputs": [],
   "source": [
    "def process_documents(filepath, url = \"https://api.upstage.ai/v1/document-ai/layout-analysis\", API_KEY = UPSTAGE_API_KEY):\n",
    "    # Prepare request\n",
    "    headers = {\"Authorization\": f\"Bearer {API_KEY}\"}\n",
    "    files = {\"document\": open(filepath, \"rb\")}\n",
    "    # Post request\n",
    "    response = requests.post(url, headers=headers, files=files)\n",
    "    # Get response JSON object\n",
    "    obj = response.json()\n",
    "    # Extract information\n",
    "    context = ''\n",
    "    for page in range(obj['billed_pages']):\n",
    "        page_content = ''\n",
    "        for element in obj['elements']:\n",
    "            if element['page'] == page:\n",
    "                if element['category'] == 'table':\n",
    "                    page_content += f\"\\n{element['html']}\"\n",
    "                else:\n",
    "                    page_content += f\"\\n{element['text']}\"\n",
    "        context += prompt_summarize(page_content)\n",
    "    return context"
   ]
  },
  {
   "cell_type": "code",
   "execution_count": 5,
   "metadata": {},
   "outputs": [],
   "source": [
    "def extract_pdf_files(directory):\n",
    "    pdf_files = []\n",
    "    for root, dirs, files in os.walk(directory):\n",
    "        for file in files:\n",
    "            if file.lower().endswith('.pdf'):\n",
    "                pdf_files.append(os.path.join(root, file))\n",
    "    return pdf_files"
   ]
  },
  {
   "cell_type": "code",
   "execution_count": 33,
   "metadata": {},
   "outputs": [],
   "source": [
    "def batch_process(pdf_urls = []):\n",
    "    results = []\n",
    "    pdf_files = pdf_urls\n",
    "    for filename in pdf_files:\n",
    "        try:\n",
    "            context = process_documents(filepath=filename)\n",
    "            results.append({\n",
    "                \"filename\": os.path.basename(filename),\n",
    "                \"processed_data\": context\n",
    "            })\n",
    "        except Exception as e:\n",
    "            print(f\"Error processing {filename}: {e}\")\n",
    "    df = pd.DataFrame(results)\n",
    "    return df\n",
    "data_df = batch_process(extract_pdf_files(\"./Fine-Tuning Data\"))"
   ]
  },
  {
   "cell_type": "markdown",
   "metadata": {},
   "source": [
    "### Baseline Solar Model"
   ]
  },
  {
   "cell_type": "code",
   "execution_count": 7,
   "metadata": {},
   "outputs": [],
   "source": [
    "def prompt_llm(context, client=client):\n",
    "    stream = client.chat.completions.create(\n",
    "        model='solar-1-mini-chat',\n",
    "        messages=[\n",
    "            {\n",
    "                \"role\": \"system\",\n",
    "                \"content\": \"\"\"\n",
    "                You are a bank loan assistant tasked with determining the suitability of a loan applicant based on their provided financial statements. You must:\n",
    "\n",
    "                    1. Analyze the latest financial data provided.\n",
    "                    2. Decide whether the applicant is suitable for a loan.\n",
    "                    3. Provide three reasons or insights supporting your decision.\n",
    "\n",
    "                Your insights must be backed up with financial figures.\n",
    "\n",
    "                Your response MUST be in JSON format, following the example below:\n",
    "\n",
    "                {\n",
    "                    \"stance\": true,\n",
    "                    \"insight_1\": \"Example of the first insight\",\n",
    "                    \"insight_2\": \"Example of the second insight\",\n",
    "                    \"insight_3\": \"Example of the third insight\"\n",
    "                }\n",
    "                \"\"\"\n",
    "            }, \n",
    "            {\n",
    "                \"role\": \"user\",\n",
    "                \"content\": f\"\"\"\n",
    "                These are the applicant's financial statements provided:\n",
    "                {context}\n",
    "                \"\"\"\n",
    "            }\n",
    "        ],\n",
    "        stream=False\n",
    "    )\n",
    "    try:\n",
    "        response = json.loads(stream.choices[0].message.content.replace(\"\\n\",\"\"))\n",
    "    except:\n",
    "        return None\n",
    "    return response"
   ]
  },
  {
   "cell_type": "markdown",
   "metadata": {},
   "source": [
    "Testing"
   ]
  },
  {
   "cell_type": "code",
   "execution_count": 8,
   "metadata": {},
   "outputs": [],
   "source": [
    "test_context = data_df.iloc[0]['processed_data']"
   ]
  },
  {
   "cell_type": "code",
   "execution_count": 9,
   "metadata": {},
   "outputs": [
    {
     "data": {
      "text/plain": [
       "{'stance': True,\n",
       " 'insight_1': 'The company has a healthy net income of $2,000,000 and a return on equity of 20%.',\n",
       " 'insight_2': 'The debt-to-equity ratio of 0.5 indicates a low level of financial risk.',\n",
       " 'insight_3': \"The company's total stockholders' equity of $10,000,000 demonstrates a strong financial position.\"}"
      ]
     },
     "execution_count": 9,
     "metadata": {},
     "output_type": "execute_result"
    }
   ],
   "source": [
    "response = prompt_llm(context=test_context)\n",
    "response"
   ]
  },
  {
   "cell_type": "markdown",
   "metadata": {},
   "source": [
    "Groundedness Check"
   ]
  },
  {
   "cell_type": "code",
   "execution_count": 10,
   "metadata": {},
   "outputs": [
    {
     "data": {
      "text/plain": [
       "True"
      ]
     },
     "execution_count": 10,
     "metadata": {},
     "output_type": "execute_result"
    }
   ],
   "source": [
    "def groundedness_check(context, response, client=client):\n",
    "    result = client.chat.completions.create(\n",
    "        model='solar-1-mini-groundedness-check',\n",
    "        messages=[\n",
    "            {\n",
    "                'role':'user',\n",
    "                'content':context\n",
    "            },\n",
    "            {\n",
    "                'role':'assistant',\n",
    "                'content':str(response)\n",
    "            }\n",
    "        ]\n",
    "    )\n",
    "    return result.choices[0].message.content == 'grounded'\n",
    "grounded = groundedness_check(context=test_context, response=response)\n",
    "grounded"
   ]
  },
  {
   "cell_type": "markdown",
   "metadata": {},
   "source": [
    "### Fine-Tuning Preparation"
   ]
  },
  {
   "cell_type": "code",
   "execution_count": 34,
   "metadata": {},
   "outputs": [
    {
     "data": {
      "text/plain": [
       "[{'context': '\\n                The provided text does not contain any financial statement information. Please provide a page from a financial statement document for accurate summary.Hanwha Systems Co., Ltd reported its Q1 performance for FY2024 on April 26, 2024. Key financial figures include:\\n\\n- Revenue: KRW 2.5 trillion\\n- Operating profit: KRW 300 billion\\n- Net profit: KRW 250 billion\\n\\nNotable observations:\\n- Revenue increased by 10% YoY\\n- Operating profit grew by 15% YoY\\n- Net profit rose by 12% YoY\\n\\nOverall, Hanwha Systems Co., Ltd demonstrated strong financial performance in Q1 of FY2024, with significant growth in revenue, operating profit, and net profit compared to the same period last year.The document contains Hanwha Systems\\' unaudited financial performance data compiled under K-IFRS. It includes both consolidated and individual performance results (provisional). The data is intended for informing shareholders and investors of the company\\'s current business status. The final financial data may change during accounting reviews, and the document should not be used as evidence for investors\\' investment decisions. The document includes future projections, which may be influenced by known or unknown risks and uncertainties, leading to discrepancies between actual results and projections. The projections can also be affected by market situations and internal/external conditions, potentially resulting in different actual performance results.\\nThe provided text does not contain sufficient information for a financial summary.The provided text is a title of a document or section without any financial information. It only contains the word \"Contents\" which is not enough to summarize any financial data. Please provide more information or a different page from the financial statement document for a summary.In the 1Q24 results, the consolidated revenue and operating profit both increased year-over-year (YoY). The revenue increase was primarily due to the contribution of defense growth. The operating profit increase was achieved by expanding exports in defense and reducing self-funded R&D. Key financial figures include:\\n\\n- Revenue: KRW 544 billion, up 105 billion YoY\\n- Operating Profit: KRW 39 billion, up 27 billion YoY\\n- EBIT: KRW 61 billion, down 168 billion YoY\\n- Net Profit: KRW 50 billion, down 135 billion YoY\\n- Operating Profit Margin: 7.2%, up 4.4% YoY\\n- Net Profit Margin: 9.2%, down 32.9% YoY\\n\\nThe table also shows the quarter-over-quarter (QoQ) changes, with revenue decreasing by 238 billion and operating profit increasing by 28 billion.In the Defense sector, both Revenue and Operating Profit increased year-over-year (YoY). Revenue growth was driven by TICN 4th MPP and export projects, while Operating Profit increased in line with the growth of export projects. The Q1 \\'24 Revenue was KRW 382 billion, with a YoY increase of 89 billion. Operating Profit stood at KRW 34 billion, showing a YoY increase of 21 billion. The Operating Profit Margin was 8.9%, increasing by 4.4% YoY. However, there was a seasonal decline in Revenue, with a quarter-over-quarter (QoQ) decrease of KRW 235 billion.In the first quarter of \\'24, the ICT sector experienced a year-over-year (YoY) increase in both revenue and operating profit. Revenue increased by 14% YoY, primarily due to captive projects, while operating profit increased in line with the revenue growth. Compared to the previous quarter, revenue remained similar, and operating profit increased due to the base effect of year-end bonuses. The operating profit margin was 7.5%, representing a 9.7% increase QoQ and a 2.3% YoY increase.In the first quarter of \\'24, the operating losses of subsidiaries such as Hanwha Intelligence, H-Foundation, and Hanwha Systems USA decreased. The revenue increased by 2 KRW billion, while the operating profit also increased by 2 KRW billion compared to the previous quarter. However, the operating profit margin remains negative. Investment companies like Hanwha Phasor, Overair, and Hanwha Ocean are accounted for using the equity method, and the figures include the effect of exiting businesses.The consolidated balance sheet indicates a significant increase in total assets from KRW 2,695 billion in 2020 to KRW 4,483 billion in 2023. Current assets have decreased from KRW 2,676 billion in 2021 to KRW 1,890 billion in 2023, while non-current assets have increased. Liabilities have also increased from KRW 1,662 billion in 2020 to KRW 2,329 billion in 2023, with current liabilities accounting for a larger portion. Equity has decreased from KRW 2,240 billion in 2021 to KRW 2,154 billion in 2023. Borrowings have fluctuated between KRW 110 billion and KRW 340 billion, and the debt ratio has ranged from 74% to 108%. As of March 2024, the cash balance is expected to be KRW 455 billion.The financial statement highlights investment progress from 2021 to 2024 in Korean Won (KRW) billions. In Q1 2024, the total investment is expected to be 8 billion KRW, with 8 billion KRW allocated to the digital platform segment. For 2023, the total investment is 54 billion KRW, with significant investments in satellite (30 billion KRW) and digital platforms (7 billion KRW). The 2022 investment totaled 716 billion KRW, with major allocations to satellite (399 billion KRW) and digital platforms (252 billion KRW). In 2021, the total investment was 187 billion KRW, with notable investments in satellite (54 billion KRW) and digital platforms (79 billion KRW). The above figures represent investments for new business initiatives, including equity investments.In the 1Q24 summary, the company experienced a significant increase in revenue, primarily due to the TICN 4th MPP and export projects in the Defense sector, as well as captive projects in the ICT sector. The operating profit also increased in line with the revenue growth. The company\\'s operating profit margin (OPM) was 7.2%, and the net profit was 61 billion KRW. The company\\'s revenue for the quarter was 544 billion KRW, with Defense accounting for 382 billion KRW and ICT contributing 161 billion KRW. The new business sector contributed 2 billion KRW. The company\\'s revenue increased by 105 billion KRW year-over-year (YoY) and decreased by 238 billion KRW quarter-over-quarter (QoQ). The Defense sector\\'s revenue increased by 89 billion KRW YoY and decreased by 235 billion KRW QoQ. The ICT sector\\'s revenue increased by 14 billion KRW YoY and decreased by 4 billion KRW QoQ. The new business sector\\'s revenue remained relatively stable.',\n",
       "  'response': '{\\'stance\\': True, \\'insight_1\\': \\'The company demonstrated strong financial performance in Q1 of FY2024, with significant growth in revenue, operating profit, and net profit compared to the same period last year.\\', \\'insight_2\\': \\'The operating profit increase was achieved by expanding exports in defense and reducing self-funded R&D.\\', \\'insight_3\\': \"The company\\'s revenue for the quarter was 544 billion KRW, with Defense accounting for 382 billion KRW and ICT contributing 161 billion KRW.\"}'},\n",
       " {'context': \"\\n                The provided text does not contain any financial information or data. Therefore, I am unable to summarize any key financial details.\\nThe provided text does not contain sufficient financial information for a summary.Key Consolidated Subsidiaries: NCSOFT Corporation (KOR), NC West Holdings (USA), NC America (USA), NC Europe (GBR), NC Japan (JPN), NC Taiwan (TWN), NCSOFT Service (KOR), NC Dinos (KOR), NC ITS (KOR), Ntreev Soft (KOR), This Game Studio (CAN), NC Vietnam Visual Studio (VNM).\\n\\nPlease note that the financial results for Q1 2024 are unaudited and subject to change during the independent auditing process. NCSOFT is not responsible for individual investment decisions based on this material.\\n                The provided document contains financial information from a company. The key points include:\\n                \\n                I. Consolidated Earnings:\\n                - Financial Highlights: Not specified.\\n                - Sales Breakdown: Not provided.\\n                - Cost Breakdown: Not given.\\n                \\n                II. Appendix:\\n                - Consolidated Financial Statements: Included.\\n                - Strategies for Sales Growth: Detailed.\\n                \\n                Unfortunately, the document lacks sufficient numerical figures and trends for a comprehensive summary.In the first quarter of 2023, the company experienced a 9% decrease in sales quarter-over-quarter (QoQ) and a 17% decrease year-over-year (YoY), totaling KRW 397.9 billion. However, operating profit increased 568% QoQ to KRW 25.7 billion but decreased 68% YoY. Pre-tax income turned to profit QoQ with KRW 57.1 billion, while net income increased 127% QoQ to KRW 44.0 billion. The company faced a 45% YoY decrease in pre-tax income and a 50% YoY decrease in net income.In the given financial statement, the company's mobile game sales decreased by 17% quarter-over-quarter to KRW 249.4 billion, while PC online game sales increased by 4% to KRW 91.5 billion. Mobile games accounted for 63% of total sales, and PC online games accounted for 23%. The sales breakdown for both mobile and PC games is provided, with specific figures for each game.The financial statement shows a sales breakdown by region for the first quarter of 2023. Korea sales were KRW 259.4 billion, a 9% decline from the previous quarter. Overseas and royalty sales dropped 10% qoq to KRW 138.5 billion, accounting for 35% of total sales. The total sales for the quarter were KRW 478.77 billion, with royalty sales accounting for KRW 42.31 billion. Regional sales include NA/EU at KRW 33.34 billion, Asia at KRW 99.39 billion, and Korea at KRW 303.71 billion.The financial statement shows a total operating expense of KRW 372.2 billion, a 14% quarter-over-quarter (qoq) decrease and a 6% year-over-year (yoy) decrease. Labor cost was KRW 202.8 billion, down 1% qoq and 4% yoy. Marketing expenses dropped 83% qoq to KRW 6.9 billion due to optimized marketing spending. Variables and other costs decreased 17% qoq to KRW 134.7 billion due to lower distribution fees from decreased mobile game sales. The cost breakdown for the periods mentioned is provided in the table, with total expenses ranging from KRW 372.188 billion to KRW 433.856 billion.The consolidated financial statements for FY 2023 and 1Q 24 show total assets of 4,393.8 billion KRW and 4,295.6 billion KRW, respectively. Current assets include cash and cash equivalents (365.2 billion KRW and 233.8 billion KRW), short-term financial instruments (1,167.5 billion KRW and 1,104.5 billion KRW), account receivables (132.7 billion KRW and 133.8 billion KRW), and other receivables (39.6 billion KRW and 25.7 billion KRW). Non-current assets amount to 2,056.9 billion KRW and 2,154.7 billion KRW, including long-term investment assets (640.4 billion KRW and 782.6 billion KRW), investment property (88.9 billion KRW and 88.5 billion KRW), and tangible assets (1,000.5 billion KRW and 983.1 billion KRW).\\n\\nCurrent liabilities total 614.3 billion KRW and 516.8 billion KRW, with borrowings (239.9 billion KRW and 129.9 billion KRW), account payables (78.1 billion KRW and 122.7 billion KRW), and other current liabilities (254.7 billion KRW and 217.1 billion KRW). Non-current liabilities amount to 526.5 billion KRW and 513.6 billion KRW, including debentures and borrowings (169.7 billion KRW and 169.7 billion KRW), defined benefit obligations (5.8 billion KRW and 0.9 billion KRW), and lease liabilities (192.7 billion KRW and 182.9 billion KRW).\\n\\nShareholders' equity amounts to 3,253.0 billion KRW and 3,265.2 billion KRW, with capital stock (10.9 billion KRW and 10.9 billion KRW), retained earnings (3,472.6 billion KRW and 3,469.4 billion KRW), and non-controlling interest (3.3 billion KRW and 3.4 billion KRW).The consolidated financial statements show the financial performance of the company for the first three quarters of 2023 and the first quarter of 2024. Sales ranged from KRW 397,911 million to KRW 478,770 million, while operating expenses ranged from KRW 372,188 million to KRW 433,856 million. The company's operating income ranged from KRW 25,723 million to KRW 81,628 million, and pre-tax income ranged from KRW 78,365 million to KRW 141,299 million. The income tax ranged from KRW 27,121 million to KRW (45,558) million, and net income ranged from KRW 114,178 million to KRW 30,542 million. The equity attribution to the owners of the parent company ranged from KRW 57,176 million to KRW 113,697 million, while the non-controlling interest ranged from KRW 481 million to KRW 664 million.The company aims to stabilize legacy IPs, expand their global presence, develop new genre games based on existing IPs, diversify product offerings with new IPs, and pursue business opportunities with PURPLE. Specifically, they plan to launch B&S 2 in China, Lineage 2M in Southeast Asia, and TL globally. They also aim to launch 3 new genre games based on existing IPs and release Battle Crush, BSS, Project G, AION 2, LLL, and more. Additionally, they aim to release 3rd party AAA-level games on PURPLE within this year.\",\n",
       "  'response': '{\\'stance\\': True, \\'insight_1\\': \\'The company experienced a significant decrease in sales in the first quarter of 2023, which could be a cause for concern. However, the company has a clear strategy for sales growth through diversifying their product offerings and expanding their global presence.\\', \\'insight_2\\': \"The company\\'s operating profit increased significantly in the first quarter of 2023, which could indicate that they are becoming more efficient in their operations. This could be a positive sign for potential investors.\", \\'insight_3\\': \"The company\\'s total assets and shareholders\\' equity are relatively high, indicating a strong financial position. This could be an attractive feature for potential investors.\"}'},\n",
       " {'context': \"Based on the provided text, there is not enough information to summarize any key financial information. The text appears to be a list of names and numbers, but it lacks context and details necessary for financial analysis. Therefore, I am unable to provide a summary.\\n                The financial statement document contains the following key information:\\n\\n                Revenue: $10,200,000\\n                Cost of Goods Sold: $6,550,000\\n                Gross Profit: $3,650,000\\n                Operating Expenses: $2,900,000\\n                Operating Income: $750,000\\n                Interest Expense: $200,000\\n                Pre-Tax Income: $550,000\\n                Income Tax Expense: $220,000\\n                Net Income: $330,000\\n\\n                Notable observations include a gross profit margin of 35.9% and an operating margin of 7.4%. Additionally, the company has a positive net income of $330,000.The Independent Auditor's Report for Hyosung TNC Corporation presents the separate financial statements for the years ended December 31, 2022 and 2021, which include separate statements of financial position, profit or loss, comprehensive income, changes in equity, and cash flows. The auditor's opinion is that the financial statements are in accordance with International Financial Reporting Standards as adopted by the Republic of Korea.\\n\\nThe key audit matter identified was the impairment assessment on investments in subsidiaries, specifically Hyosung Spandex (GuangDong) Co., Ltd. and Hyosung Spandex (Jiaxing) Co., Ltd. The investments in subsidiaries are tested for impairment if events or changes in circumstances indicate that it might be impaired. An impairment loss is recognized for the amount by which the asset's carrying amount exceeds its recoverable amount. The recoverable amount is the higher of an asset's fair value less costs of disposal and value in use.\\n\\nThe auditor focused on this area due to the significant size of the investments in subsidiaries and because the assessment of the 'value in use' of the Company's investments in subsidiaries involves management's judgements about the future results of the business and the discount rates applied to future cash flow forecast. The auditor performed key audit procedures, including understanding and evaluating the control in relation to impairment assessment on investments in subsidiaries.The Independent Auditor's Report for the Company's financial statements includes the following key points:\\n\\n1. Those charged with governance are responsible for overseeing the Company's financial reporting process.\\n2. The auditor's responsibilities include obtaining reasonable assurance about whether the financial statements are free from material misstatement, whether due to fraud or error.\\n3. The auditor evaluated the appropriateness of identification of investments in subsidiaries, the independence and competence of external experts, and the medium- and long-term business plan used in evaluating value in use.\\n4. The auditor compared the actual performance in 2022 and the estimation in 2021 to confirm that optimistic assumptions are included in the estimation.\\n5. The auditor evaluated the adequacy of the valuation model used in evaluating value in use and the reasonableness of major significant assumptions.\\n6. The auditor examined the accuracy of calculation of the evaluated amount.\\n7. The auditor maintained professional skepticism throughout the audit and exercised professional judgment.\\n8. Management is responsible for the preparation and fair presentation of the separate financial statements in accordance with Korean IFRS.\\n9. The engagement partner on the audit resulting in this independent auditor's report is SeongPil Hwang, Certified Public Accountant.\\n10. The report is effective as of March 8, 2023, and certain subsequent events or circumstances may have a material impact on the accompanying separate financial statements and notes thereto.Hyosung TNC Corporation's financial statement for the year ended December 31, 2022, shows total assets of 1,677,616,349,705 Korean won, with current assets at 697,316,638,089 and non-current assets at 980,299,711,616. The company's total liabilities amount to 845,718,443,908, while equity stands at 21,638,410,000.\\n\\nRevenue for the year was 5,364,505,669,881 Korean won, with a gross profit of 341,418,117,719. Operating profit was 178,825,559,525, and profit before income tax was 303,615,954,199. The company recorded an income tax expense of 13,909,844,400, resulting in a profit for the year of 289,706,109,799.\\n\\nBasic earnings per share were 67,129 Korean won.The financial statement for Hyosung TNC Corporation shows a profit for the year of 289,706,109,799 Korean won in 2022, up from 275,987,685,621 won in 2021. Other comprehensive income for 2022 was 2,072,027,502 won, while total comprehensive income for the year was 291,778,137,301 won. In terms of equity, share capital remained at 21,638,410,000 won, share premium was 402,774,060,410 won, and retained earnings were 327,403,851,794 won. Other components of equity were 4,087,946,292 won, resulting in a total equity of 755,904,268,496 won. In 2022, dividends paid amounted to 215,784,500,000 won.Summary:\\n\\nThe provided text is a summary of Hyosung TNC Corporation's separate statements of cash flows for the years ended December 31, 2022, and 2021. The cash flows from operating activities show a net cash inflow of 242,349,505,650 Korean won in 2022, compared to 204,461,362,747 Korean won in 2021. The cash flows from investing activities resulted in a net cash outflow of 117,248,432,280 Korean won in 2022, while the cash flows from financing activities also resulted in a net cash outflow of 127,829,082,808 Korean won in 2022. The independent auditor's report states that the accompanying consolidated financial statements present fairly, in all material respects, the consolidated financial position of Hyosung TNC Corporation and its subsidiaries as at December 31, 2022, and 2021, and its consolidated financial performance and its consolidated cash flows for the years then ended in accordance with International Financial Reporting Standards as adopted by the Republic of Korea (Korean IFRS). The key audit matter identified by the auditor was the impairment assessment on a cash-generating unit, specifically in relation to the CGU of Hyosung Spandex (GuangDong) Co., Ltd, Hyosung Spandex (Jiaxing) Co., Ltd., and Hyosung Spandex (Quzhou) Co., Ltd. The auditor performed various procedures to address this key audit matter, including evaluating the appropriateness of the determination of the CGU, the independence and competence of external experts, the medium- and long-term business plan, and the valuation model used in evaluating the value in use.The independent auditor's report provides an assessment of the consolidated financial statements of a company, prepared in accordance with Korean IFRS. The auditor's responsibilities include identifying and assessing risks of material misstatement, designing and performing audit procedures, and obtaining sufficient audit evidence to provide a basis for their opinion. Management is responsible for preparing and presenting the financial statements fairly, while those charged with governance oversee the financial reporting process. The auditor's report does not include any material misstatements or significant deficiencies in internal control. The engagement partner is SeongPil Hwang, Certified Public Accountant. The report is effective as of March 8, 2023, and there may be subsequent events or circumstances that could impact the financial statements. Additional information can be found on the HYOSUNG TNC website.As of December 31, 2022, Hyosung TNC Corporation and Subsidiaries had total assets of 4,319,879,312,472 Korean won, with current assets amounting to 2,143,068,335,976 Korean won and non-current assets totaling 2,176,810,976,496 Korean won. The company's liabilities amounted to 2,804,355,654,281 Korean won, with current liabilities of 2,184,964,278,981 Korean won and non-current liabilities of 619,391,375,300 Korean won. The company's equity was 1,515,523,658,191 Korean won, with share capital and share premium of 402,774,060,410 Korean won and retained earnings of 779,977,482,681 Korean won.\\n\\nIn the year ended December 31, 2022, the company had revenue of 8,882,729,665,188 Korean won, cost of sales of 8,450,584,851,726 Korean won, and gross profit of 432,144,813,462 Korean won. Operating expenses included selling and administrative expenses of 287,364,145,142 Korean won, research and development expenses of 21,187,160,604 Korean won, and operating profit of 123,593,507,716 Korean won. Other income was 80,204,060,282 Korean won, other expenses were 63,579,964,924 Korean won, finance income was 387,061,685,452 Korean won, and finance costs were 496,631,960,067 Korean won. The company had a profit before income tax of 30,658,603,776 Korean won, income tax expense of 11,475,355,527 Korean won, and profit for the year of 19,183,248,249 Korean won. Earnings per share attributable to the equity holders of the Parent Company were 2,686 Korean won.The financial statement summarizes the consolidated statements of comprehensive income and changes in equity for Hyosung TNC Corporation and its subsidiaries for the years ended December 31, 2022, and 2021. In 2022, the profit for the year was KRW 19,183,248,249, while in 2021, it was KRW 1,007,902,535,415. The other comprehensive income for 2022 was KRW 23,149,027,649, and for 2021, it was KRW 96,349,672,412. The total comprehensive income for 2022 was KRW 42,332,275,898, and for 2021, it was KRW 1,104,252,207,827. The total equity as of December 31, 2022, was KRW 1,515,523,658,191.Key financial information for Hyosung TNC Corporation and Subsidiaries:\\n\\n- Net cash inflow from operating activities: KRW 293,383 billion in 2022, KRW 643,292 billion in 2021\\n- Net cash outflow from investing activities: KRW -362,559 billion in 2022, KRW -369,477 billion in 2021\\n- Net cash inflow from financing activities: KRW 28,519 billion in 2022, KRW -252,302 billion in 2021\\n- Net increase in cash and cash equivalents: KRW -40,656 billion in 2022, KRW 21,521 billion in 2021\\n- Cash and cash equivalents at the end of 2022: KRW 103,107 billion\",\n",
       "  'response': '{\\'stance\\': False, \\'insight_1\\': \\'The company has a negative net cash flow from operating activities, which may indicate financial distress.\\', \\'insight_2\\': \\'The company has a high level of debt, with a debt-to-equity ratio of 4.36.\\', \\'insight_3\\': \"The company\\'s profit for the year has decreased significantly, by 80.6%, from 2021 to 2022.\"}'},\n",
       " {'context': '\\n                The provided text is not sufficient for a financial summary as it lacks relevant numerical figures and information.\\n                The company has announced its earnings results for the fourth quarter of 2023 (4Q23) and the full year 2023 (FY2023). The announcement was made on February 8, 2024. However, specific financial details, numerical figures, trends, and notable observations are not provided in the given text. Therefore, a summary cannot be generated without additional information.The document contains consolidated financial statements of KRAFTON, Inc. and its subsidiaries prepared in accordance with K-IFRS. The financial results and operational performance are for investors\\' convenience only and have not been audited, so some parts are subject to change. The information may not be accurate or complete, and the company is not responsible for any losses from its use. It should not be used for investment decision-making or legal proceedings.\\n                The provided text does not contain sufficient information for a financial summary.In 2023, PUBG IP demonstrated strong growth and sustainability, with a 37% revenue increase year-over-year. The game strengthened its free-to-play transition momentum and saw solid growth in traffic and revenue on PC and console platforms. Enhancements to in-game and out-game content contributed to improved monetization. PUBG also confirmed its growth potential in the Indian market with the swift recovery of BGMI after relaunch, achieving record high traffic and revenue, as well as establishing a dominant position in the Indian Esports market through localized content and marketing.KRAFTON\\'s 2024 strategic focus is to shift from \"Original Creative\" to \"Scale-up the Creative.\" Key directions include strengthening production and management capabilities, expanding IP portfolio through investments and 2nd party publishing, and maximizing synergy by utilizing KRAFTON\\'s global experiences. The goal is to discover original creatives and scale them up to become \"1B IP\"s. The success of PlayerUnknown\\'s Battle Royale is highlighted as an example of this approach.The key financial information provided in the document suggests a focus on scaling up operations and restructuring the company. The direction aims to popularize core gameplay through transitioning to a GaaS model, expanding platforms, reaching new markets, and centralizing organizations to the headquarters. Additionally, the company is exploring multi-publishing lines to efficiently launch multiple new titles, with a single command line established for effective alignment. The document also mentions an aim to expand the audience, although specific figures are not provided.The document outlines strategic titles for 2024, focusing on various genres such as Extraction Shooter, Life Simulation, and Battle Royale. Key features include realistic graphics, mobile-friendly gameplay, community-first approach, and unique gameplay mechanics. The document also mentions the development of a sequel to an original IP and the adoption of AI technologies for monetization and seasonal updates. Additionally, it highlights the importance of player progression and strategic choices in one of the games.\\nThe text appears to discuss potential scale-up opportunities through second party publishing (2PP) for various game studios and projects, including Nirvanana Far From Home, Dinkum Funny Storm Gardens, Interactive, Playgig Studio, Sai Boundary, People Can Fly, and Fuzzy Bot. The text also mentions the importance of original creativity and the potential for scaling up through 2PP, with a total of 8 projects mentioned.The text discusses the goal of achieving stepwise growth for the PUBG IP and new IPs under the \"Scale-up the Creative\" strategy in 2024. The focus is on solid growth in existing live services through user-oriented services and updates, as well as operational excellence. The return on investment is expected every 3 to 5 years.\\nThe provided text does not contain sufficient information for a financial summary.The goal is to expand PUBG IP as a multi-product franchise, aiming for a 10B IP. The plan includes enhancing PUBG PC, venturing into console gaming with a gameplay platform reboot, and single-play hardcore & hybrid casual options. Mobile audience expansion and strengthening the core community are priorities. The gameplay experience will be diversified for console and mobile platforms, with a focus on casual genres for player expansion and mobile adaptation of hardcore gaming. Exploring changes in platform/genre player experiences reflecting PUBG\\'s core values is emphasized. The priority is strengthening and expanding the IP through games, with gradual expansion of branding and products beyond games to create cultural trends.\\nThe financial statement highlights steady growth in BGMI (Battlegrounds Mobile India) with a focus on publishing, esports, and new business opportunities. The company plans to expand its publishing titles, continue developing BGMI esports, and increase investment while exploring new opportunities. No specific numerical figures are provided in the statement.The text discusses advancements in deep learning technology and its role in the future. The key activities for 2023 include AI application and acceleration, with a focus on AI technology development. The development includes enhancements in Language Model (LLM), voice technology, and art generation. Additionally, the company has made significant progress in game AI, with five regular track papers published at NeurIPS 2023, ranking first among Korean game companies and third globally. The company has also achieved a dramatic reduction in production costs and a significant increase in game production efficiency. Finally, the text mentions the potential for deep learning technology to provide personalized gaming experiences and innovate the process of creative production.The text emphasizes the importance of focusing on core values of original creativity and scaling up the creative process with a long-term perspective. It suggests making more and faster attempts, possibly through multiple publishing lines, and securing M&A opportunities. The text mentions a tipping point for stepwise growth, but does not provide specific details or numerical figures.The provided text does not contain sufficient information for a financial summary.In FY2023, the company achieved an all-time high revenue of KRW 1.9, driven by their core IP, PUBG. PC/Console revenue grew significantly, with a 2X increase compared to FY2020, due to the F2P transition of PUBG PC/Console, enhanced live service, and stable traffic. As of December 2023, the company has discovered 30 original creative projects and has a multi-publishing line for continuous release of new titles.In the fourth quarter of 2022, the company reported revenue of KRW 534.6 billion, representing a quarter-over-quarter (QoQ) growth of 18.7% and a year-over-year (YoY) growth of 12.8%. This growth was driven by increased revenue from PC, mobile, and console gaming. The company\\'s operating profit for the quarter was KRW 164.3 billion, which represents a YoY increase of 30.3% but a QoQ decrease of 13.2% due to increased costs related to major game services. The company\\'s adjusted EBITDA for the quarter was KRW 219.7 billion, representing a QoQ increase of 11.4% and a YoY increase of 37.0%. The company\\'s net profit for the quarter was KRW (13.2) billion, representing a turn to deficit (T/D).In 2023, the company\\'s revenue increased by 3.1% YoY to KRW 1,910.6bn, with a QoQ increase of 18.7% and a YoY increase of 12.8%. The revenue for 4Q23 was KRW 534.6bn. The breakdown of revenue by quarter shows an increase in PC revenue by 20.1%, mobile revenue by 34.5%, and a decrease in console revenue by 74.3%. The revenue proportion for PC/Console was 33.5% in 2021 and 30.7% in 2022. The revenue proportion for PC/Console in 2023 is expected to be 48.8%.The financial statement shows that in 2023, the operating profit was KRW 768.0 billion, a 2.2% increase from the previous year. In the fourth quarter of 2023, the operating profit was KRW 164.3 billion, a 13.2% decrease from the previous quarter and a 30.3% increase from the same quarter the previous year. The Adjusted EBITDA for 2023 was KRW 903.7 billion, a 14.0% increase from the previous year. In the fourth quarter of 2023, the Adjusted EBITDA was KRW 219.7 billion, a 11.4% increase from the previous quarter and a 37.0% increase from the same quarter the previous year. The operating costs for 2023 were KRW 1,142.5 billion, a 3.6% increase from the previous year. The personnel costs for 2023 were KRW 427.3 billion, a 17.1% increase from the previous year. The platform fees/cost of revenue for 2023 were KRW 226.8 billion, a 9.5% increase from the previous year. The paid commissions for 2023 were KRW 258.9 billion, a 20.4% decrease from the previous year. The marketing expenses for 2023 were KRW 66.1 billion, a 49.1% decrease from the previous year. The share-based payment expenses for 2023 were KRW 27.6 billion. The other expenses for 2023 were KRW 135.9 billion, a 2.3% decrease from the previous year. The operating profit margin for 2023 was 40.2%, a 0.3% decrease from the previous year. The Adjusted EBITDA margin for 2023 was 47.3%, a 4.5% increase from the previous year.The financial statement shows the net profit of the company for 2023, which is KRW 594.1 billion, representing an 18.8% increase from the previous year. The non-operating profit for 4Q23 was KRW -13.2 billion. The non-operating income increased by 84.6% quarter-over-quarter, while the non-operating expense increased by 2,619.8%. The finance income decreased by 19.0%, while the finance expenses decreased by 17.3%. The profit before income tax for 4Q23 was KRW -90.6 billion. The income tax for 4Q23 was KRW -39.5 billion. The net profit for 2023 was KRW 594.1 billion, representing a 18.8% increase from the previous year. The margin percentage for 4Q23 was -2.5%.The provided text is insufficient for a financial summary as it lacks any numerical figures or relevant information.\\nThe provided text does not contain any financial information. It only mentions an appendix number \"22\". Without additional context or information, it is not possible to summarize any key financial details.Consolidated Income Statement for 2022 and 2023:\\n\\n* Revenue: 1,854.0 billion KRW in 2022, 1,910.6 billion KRW in 2023\\n* Operating Costs: 1,102.4 billion KRW in 2022, 1,142.5 billion KRW in 2023\\n* Operating Profits: 751.6 billion KRW in 2022, 768.0 billion KRW in 2023\\n* EBITDA: 856.2 billion KRW in 2022, 876.1 billion KRW in 2023\\n* Adj. EBITDA: 792.7 billion KRW in 2022, 903.7 billion KRW in 2023\\n* Non-Operating Profit: -67.7 billion KRW in 2022, 60.6 billion KRW in 2023\\n* Other Income: 284.8 billion KRW in 2022, 483.5 billion KRW in 2023\\n* Other Expenses: 378.6 billion KRW in 2022, 451.5 billion KRW in 2023\\n* Finance Income: 33.7 billion KRW in 2022, 37.5 billion KRW in 2023\\n* Finance Expenses: 7.6 billion KRW in 2022, 8.9 billion KRW in 2023\\n* Profit Before Income Tax: 683.9 billion KRW in 2022, 828.6 billion KRW in 2023\\n* Income Tax: 168.7 billion KRW in 2022, 234.6 billion KRW in 2023\\n* Profit from Discontinued Operations: -15.0 billion KRW in 2022, 0 billion KRW in 2023\\n* Net Profit: 500.2 billion KRW in 2022, 594.1 billion KRW in 2023\\n\\nNote: Adj. EBITDA = EBITDA + Share-based Payment Expenses.The consolidated statement of financial position for FY 2022 and FY 2023 shows an increase in total assets from KRW 6,037.8 billion to KRW 6,440.5 billion. Current assets increased from KRW 3,892.6 billion to KRW 3,964.4 billion, with cash and cash equivalents decreasing from KRW 3,125.3 billion to KRW 3,061.4 billion. Non-current assets increased from KRW 2,145.2 billion to KRW 2,476.0 billion. Current liabilities increased from KRW 411.5 billion to KRW 520.7 billion, while non-current liabilities decreased from KRW 509.9 billion to KRW 360.9 billion. Total liabilities increased slightly from KRW 921.4 billion to KRW 881.6 billion. Shareholders\\' equity increased from KRW 5,111.2 billion to KRW 5,554.4 billion, with retained earnings increasing from KRW 3,467.6 billion to KRW 3,895.0 billion.',\n",
       "  'response': '{\\'stance\\': True, \\'insight_1\\': \\'The company has demonstrated consistent growth in revenue, with a 3.1% increase in 2023 compared to the previous year.\\', \\'insight_2\\': \"The company\\'s operating profit margin for 2023 was 40.2%, a 0.3% decrease from the previous year.\", \\'insight_3\\': \"The company\\'s adjusted EBITDA margin for 2023 was 47.3%, a 4.5% increase from the previous year.\"}'},\n",
       " {'context': \"\\n                The provided text appears to be missing or incomplete. Please provide the full text or financial statement document for accurate summary.주식회사 호텔롯데의 재무제표에 대한 감사보고서는 안진회계법인에서 작성되었으며, 2023년 12월 31일까지의 제51기와 2022년 12월 31일까지의 제50기를 대상으로 합니다. 해당 문서는 재무제표와 관련된 구체적인 수치나 정보를 포함하고 있지 않아 요약할 수 없습니다.주어진 텍스트에는 재무제표의 목차만 포함되어 있으며, 구체적인 재무 정보가 없습니다. 따라서, 요약할 중요한 수치나 동향, 관찰 내용은 없습니다.호텔롯데의 재무제표는 독립된 감사인에 의해 검토되었으며, 회사의 2023년 및 2022년 재무상태, 성과 및 현금흐름을 공정하게 나타내고 있습니다. 감사인은 회사의 내부통제를 포함한 재무제표의 정확성과 신뢰성을 확인하기 위해 감사를 수행했습니다. 경영진은 재무제표의 정확성과 완전성에 대한 책임이 있으며, 회사의 계속기업으로서의 존속능력에 대한 평가를 수행해야 합니다.재무제표 감사를 수행한 감사인은 재무제표에 중요한 왜곡표시가 없는지 합리적인 확신을 얻기 위해 감사를 수행했습니다. 감사인은 부정이나 오류로 인한 왜곡표시 위험을 평가하고, 감사절차를 설계하고 수행했습니다. 또한, 재무제표 작성에 사용된 회계정책, 회계추정치, 관련 공시 등을 평가했습니다. 감사인은 재무제표에 대한 계속기업 가정에 대한 결론을 내렸으며, 계속기업으로서의 존속능력에 대한 중요한 불확실성이 존재하는지 여부를 고려했습니다.이 문서는 재무제표 검토와 관련된 감사보고서의 일부입니다. 감사인은 재무제표의 표시, 구조, 내용을 평가하고, 기초 거래가 공정하게 표시되었는지 확인했습니다. 또한, 감사범위, 시기, 내부통제 미비점 등의 유의적인 발견사항을 지배기구와 공유했습니다. 이 보고서는 2024년 3월 20일 현재로 유효하며, 이후 재무제표에 영향을 미칠 수 있는 사건이 발생할 수 있습니다.주식회사 호텔롯데의 2023년 재무제표 요약입니다.\\n\\n제 51 기 (2023년 01월 01일 ~ 2023년 12월 31일)\\n\\n1. 매출: 미기재\\n2. 순이익: 미기재\\n\\n제 50 기 (2022년 01월 01일 ~ 2022년 12월 31일)\\n\\n1. 매출: 미기재\\n2. 순이익: 미기재\\n\\n주: 첨부된 재무제표는 당사가 작성한 것입니다.\\n\\n주식회사 호텔롯데 대표이사 김태홍\\n본점 소재지: (도로명주소) 서울특별시 중구 을지로 30\\n(전화) 02-771-1000해당 재무상태표는 2023년 12월 31일 기준 (주)호텔롯데의 재무상태를 나타낸 것입니다. 총 자산은 14,755,778,429,516원이며, 유동자산은 2,020,971,577,374원, 비유동자산은 12,734,806,852,142원입니다. 유동자산 중 현금 및 현금성 자산은 472,917,998,505원, 매출채권은 116,251,649,725원, 기타 유동 금융자산은 862,958,082,734원, 재고자산은 486,949,507,232원, 기타 유동 비금융자산은 69,767,061,778원, 그리고 기타 유동 금융부채는 351,400,708,985원입니다. 비유동자산 중 종속기업 및 관계기업 투자는 -3,807,555,558,091원, 기타 금융자산은 1,265,506,594,375원, 유형자산은 5,704,349,614,097원, 투자부동산은 978,681,346,559원, 사용권자산은 767,633,309,881원, 무형자산은 143,135,016,002원, 기타 비금융자산은 33,844,960,966원, 그리고 순확정급여자산은 34,100,452,171원입니다. 총 부채는 4,293,990,772,421원이며, 유동부채는 4,266,952,559,258원, 차입금은 1,438,410,000,000원, 유동성 사채는 872,205,191,145원, 유동성 리스부채는 100,369,689,649원, 매입채무는 251,642,857,475원, 기타 유동 금융부채는 351,400,708,985원, 그리고 이연수익은 63,192,756,629원입니다.The financial statement provides information on the company's liabilities, equity, and total liabilities and equity as of the end of the 51st and 50th periods. The company's total liabilities amount to 8,850,441,916,750 and 9,009,028,502,744 at the end of the 51st and 50th periods, respectively. The company's equity totaled 5,905,336,512,766 and 6,113,284,093,615 at the end of the 51st and 50th periods, respectively. The company's total liabilities and equity amounted to 14,755,778,429,516 and 15,122,312,596,359 at the end of the 51st and 50th periods, respectively. The attached notes are an integral part of the financial statements.호텔롯데의 2023년 재무제표에 따르면, 매출은 3,389.5억 원, 매출원가는 2,311.3억 원으로 매출총이익은 1,078.3억 원입니다. 판매비와 관리비는 928.5억 원으로 영업이익은 149.8억 원입니다. 기타수익은 182.2억 원, 기타비용은 196.8억 원, 금융수익은 165.5억 원, 금융비용은 567.7억 원입니다. 법인세비용차감전순손실은 266.9억 원, 법인세수익은 130.7억 원, 당기순이익은 136.3억 원입니다. 기타포괄손실은 71.7억 원, 당기총포괄이익은 207.9억 원입니다. 주당순이익은 -1,333원입니다.(주)호텔롯데의 2023년 재무상태표상 자본변동표에 따르면, 자본금은 511,748,520,000원으로 변동이 없었습니다. 자본잉여금은 32,808,709,757원이었고, 기타포괄손익누계액은 -297,492,666,466원이었습니다. 이익잉여금은 5,658,271,949,475원으로, 총 자본은 5,905,336,512,766원이었습니다.금융제표의 현금흐름표는 호텔롯데의 2023년 01월 01일부터 2023년 12월 31일까지의 현금흐름을 보여줍니다. 영업활동으로 인한 현금흐름은 613,372,276,155원으로, 영업으로부터 창출된 현금흐름은 473,666,340,518원입니다. 투자활동으로 인한 현금흐름은 12,182,763,168원이며, 재무활동으로 인한 현금흐름은 -608,208,167,059원입니다. 호텔롯데의 현금 및 현금성자산의 순증가는 17,346,872,264원이며, 기말 현금 및 현금성자산은 472,917,998,505원입니다.호텔롯데는 호텔, 면세점, 테마파크, 리조트, 골프장 등을 운영하는 회사입니다. 2023년 12월 31일 기준 주요 주주는 롯데홀딩스(19.07%), L 제4투자회사(15.63%), L 제9투자회사(10.41%)이며, 기타 주주는 54.89%를 보유하고 있습니다.해당 페이지는 한국채택국제회계기준을 적용하여 작성된 재무제표에 대한 정보를 제공합니다. 이 재무제표는 기업회계기준서 제1027호에 따라 작성된 별도재무제표입니다. 또한, 해당 페이지에서는 기업회계기준서 제1117호 '보험계약'과 기업회계기준서 제1001호 '재무제표 표시' 및 국제회계기준 실무서2 '중요성에 대한 판단'에 대한 회계정책 변경 내용이 언급되어 있습니다.해당 페이지에서는 회계정책의 공시에 대한 기업회계기준서 제1001호의 개정에 대해 언급하고 있습니다. 개정된 기준에 따르면, '유의적인 회계정책'이라는 용어는 '중요한 회계정책 정보'로 대체되며, 이는 일반목적재무제표의 주요 이용자가 재무제표에 기초하여 내리는 결정에 영향을 줄 수 있는 정보를 의미합니다. 또한, 기업회계기준서 제1001호와 관련된 문단에서는 중요하지 않은 거래, 사건 또는 상황과 관련된 회계정책 정보는 중요하지 않으며 공시될 필요가 없다는 점을 명확히 하고 있습니다.The amendment reduces the scope of the exception for first-time recognition. It applies to transactions where the same amount of add-back temporary difference and subtract temporary difference is generated in a transaction that is not a business combination and does not affect accounting profits and taxable income. The amendment requires the recognition of deferred tax assets and deferred tax liabilities, and the recognition of deferred tax assets follows the criteria for recoverability in IFRS 1012. The amendment temporarily eases the accounting treatment of deferred taxes resulting from the enactment of legislation that gives effect to the Pillar 2 model rules that reform the international taxation of multinational enterprises and requires disclosure of the current tax effects. The company is reviewing the impact of the amendment on its financial statements.\\n\\nAdditionally, the company has not applied the newly issued but not yet effective standards, including Amendments to IFRS 1012 'Income Taxes' (2020), which clarifies that the classification of a liability as current or non-current is based on the entity's rights at the balance sheet date and is independent of the entity's expectation of whether it will exercise those rights. The amendment requires that the payment is transferring cash, equity instruments, or other assets or services to the counterparty. The amendment is effective for fiscal years beginning on or after January 1, 2024, and early adoption is permitted.2023년에 개정된 기업회계기준서 제1001호는 특정 조건의 약정사항이 보고기간 후 12개월 이상 부채의 결제를 연기할 수 있는 기업의 권리에 영향을 미칠 경우, 부채의 결제를 연기할 수 있는 권리에 대한 정보를 공시하도록 규정하고 있습니다. 또한, 공급자금융약정 등의 금융상품에 대한 정보를 공시하도록 기업회계기준서 제1007호와 제1107호가 개정되었습니다. 이러한 개정사항은 2024년 1월 1일 이후 최초로 시작하는 회계연도의 개시일 이후 소급적용되며, 조기적용이 허용됩니다.2024년 1월 1일 이후 회계연도부터 적용되는 공시 개정사항에는 공급자금융약정, 리스, 가상자산에 대한 공시 요건이 포함됩니다. 공급자금융약정 공시에는 조건, 장부금액, 지급기일 범위, 유동성위험 정보 등이 포함되어야 합니다. 리스 개정사항은 판매후리스에서 발생하는 리스부채에 대한 후속측정 요구사항을 추가하였습니다. 가상자산 공시 개정사항은 가상자산 관련 거래에 대한 공시 요건을 규정합니다.이 문서는 가상자산 회계처리와 외화환산에 대한 내용을 다루고 있습니다. 가상자산을 보유하는 경우, 가상자산의 일반정보, 회계정책, 취득 경로와 취득원가, 공정가치 등을 공시해야 합니다. 가상자산을 발행한 경우, 발행한 가상자산과 관련된 기업의 의무 및 의무이행상황, 매각한 가상자산의 수익인식시기 및 금액, 발행 후 보유 중인 가상자산의 수량과 중요한 계약내용 등을 공시해야 합니다. 이 개정사항은 2024년 1월 1일 이후 최초로 시작되는 회계연도부터 적용되며, 조기적용이 허용됩니다.\\n\\n재무제표는 기업의 영업활동이 이루어지는 주된 경제환경의 통화(기능통화)로 표시되며, 당사의 재무제표 작성에 있어서 기능통화 외의 통화(외화)로 이루어진 거래는 거래일의 환율로 기록됩니다. 매 보고기간 말에 화폐성 외화항목은 보고기간 말의 환율로 재환산되며, 비화폐성 외화항목은 공정가치로 측정되는 경우 공정가치가 결정된 날의 환율로 환산되고, 역사적 원가로 측정되는 경우 재환산되지 않습니다. 외환차이는 미래 생산에 사용하기 위해 건설 중인 자산과 관련된 경우와 외화차입금에 대한 이자비용조정으로 간주되는 자산의 원가에 포함되는 경우를 제외하고는 발생하는 기간의 당기손익으로 인식됩니다.요약: 이 문서는 회사의 금융자산 관리에 대해 설명하고 있습니다. 모든 금융자산은 정형화된 매입 또는 매도에 따라 매매일에 인식하거나 제거됩니다. 금융자산은 채무상품, 기타포괄손익-공정가치, 당기손익-공정가치로 분류되며, 분류에 따라 상각후원가나 공정가치로 측정됩니다. 채무상품은 특정 조건에 따라 상각후원가나 기타포괄손익-공정가치로 측정됩니다. 기타 금융자산은 당기손익-공정가치로 측정됩니다. 회사는 금융자산의 최초 인식시점에 취소불가능한 선택 또는 지정을 할 수 있습니다.이 페이지에서는 특정 요건을 충족하는 경우 지분상품의 후속 공정가치 변동을 기타포괄손익으로 표시할 수 있는 선택적 회계처리에 대해 설명하고 있습니다. 또한, 회계불일치를 제거하거나 유의적으로 줄이는 경우 상각후원가 측정 금융자산이나 기타포괄손익-공정가치측정 금융자산의 요건을 충족하는 채무상품을 당기손익-공정가치측정 항목으로 지정할 수 있습니다. 유효이자율법은 채무상품의 상각후원가와 이자수익을 계산하는 방법입니다. 이자수익은 상각후원가와 기타포괄손익-공정가치로 후속 측정되는 채무상품에 대해 유효이자율법을 적용하여 인식됩니다.취득 시 신용이 손상된 금융자산은 최초 인식 시점에서 금융자산의 상각원가에 신용조정 유효이자율을 적용하여 이자수익을 인식합니다. 신용위험이 개선되어도 이자수익의 계산은 총장부금액 기준으로 변경되지 않습니다.\\n\\n기타포괄손익-공정가치측정 항목으로 분류된 채무상품은 최초 인식 시 공정가치에 거래원가를 가산하여 측정됩니다. 후속적으로 외화환산손익, 손상차손(환입), 유효이자율법에 따른 이자수익의 결과에 따른 채무상품의 장부금액 변동은 당기손익으로 인식됩니다. 모든 장부금액 변동은 채무상품이 상각후원가로 측정되었더라면 당기손익으로 인식되었을 금액과 동일합니다. 채무상품이 제거될 때 기타포괄손익으로 인식되었던 누적손익은 당기손익으로 재분류됩니다.\\n\\n기업은 최초 인식 시점에서 지분상품에 대한 투자를 기타포괄손익-공정가치측정 항목으로 지정할 수 있습니다. 단, 단기매매목적이나 사업결합에서 취득자가 인식하는 조건부 대가인 경우에는 해당되지 않습니다. 금융자산은 주로 단기간에 매각할 목적으로 취득하는 경우, 단기이익 획득 목적의 운용형태를 가진 특정 금융상품 포트폴리오의 일부로 운용되는 경우, 파생상품(금융보증계약이나 위험회피항목으로 지정되고 효과적인 파생상품은 제외)인 경우 단기매매목적에 해당합니다.이 문서는 공정가치측정 항목에 해당하는 지분상품 투자, 당기손익-공정가치측정금융자산 등 금융자산의 회계처리에 대해 설명하고 있습니다. 지분상품 투자는 최초 인식시 공정가치에서 거래원가를 가산하여 인식하며, 후속적으로 공정가치로 측정하며 공정가치 변동에 따른 손익을 기타포괄손익으로 인식합니다. 투자의 배당금이 투자원가의 회수를 나타내지 않는 경우 당기손익으로 인식합니다.\\n\\n당기손익-공정가치측정금융자산은 매 보고기간말 공정가치로 측정하며, 위험회피계정으로 지정된 부분을 제외한 공정가치 변동에 따른 손익을 당기손익으로 인식합니다. 당기손익으로 인식한 순손익에는 금융자산으로부터 획득한 배당금이 포함되어 있으며, '금융수익 및 비용' 항목으로 계상됩니다.1. 외화환산손익: 외화로 표시되는 금융자산의 환산으로 인한 손익은 해당 회계기간의 당기손익에 반영됩니다.\\n2. 금융자산의 손상: 기대신용손실은 금융상품의 최초 인식 이후 신용위험의 변동을 반영하여 손실충당금으로 인식됩니다. 매출채권, 계약자산 및 리스채권에 대해서는 전체기간 기대신용손실이 인식됩니다. 기대신용손실은 과거 신용손실 경험, 차입자 특유의 요소 및 경제 상황을 고려하여 충당금 설정률표를 통해 추정됩니다.이 문서에서는 금융자산의 신용위험에 따른 기대신용손실 측정 방법을 설명하고 있습니다. 금융자산의 신용위험이 유의적으로 증가한 경우에는 전체기간 기대신용손실을 인식하며, 그렇지 않은 경우에는 12개월 기대신용손실을 인식합니다. 신용위험의 유의적인 증가 여부는 과거의 경험과 미래전망 정보를 고려하여 평가하며, 외부 또는 내부 신용등급의 악화, 신용스프레드나 신용부도스왑가격의 증가, 차입자의 영업성과의 악화 등을 고려합니다.해당 문서는 금융상품의 신용위험 증가와 관련된 내용을 다루고 있습니다. 신용위험 증가의 요인으로는 차입자의 다른 금융상품에 대한 신용위험의 유의적인 증가, 규제, 경제적, 기술적 환경의 불리한 변동 등이 있습니다. 신용위험의 유의적인 증가는 계약상 지급이 연체되는 경우와 금융상품의 채무불이행 발생 위험이 낮고, 단기적으로 차입자가 계약상 현금흐름 지급의무를 이행할 수 있는 강한 능력을 갖고 있으며, 장기적으로는 경제 및 사업 환경의 불리한 변화로 인해 차입자가 계약상 현금흐름 지급의무를 이행할 수 있는 능력이 약해질 수 있지만 반드시 약해지지는 않는 경우에 낮은 신용위험을 갖는다고 판단됩니다. 또한, 외부신용등급이 '투자등급'에 해당하는 금융자산 또는 내부등급이 '정상'에 해당하는 금융자산은 낮은 신용위험을 갖는다고 판단됩니다.이 문서는 금융자산의 채무불이행과 신용손상에 대한 정책을 설명하고 있습니다. 회사는 90~180일 이상의 연체, 차입자의 계약 위반, 중대한 재무적 어려움 등 여러 가지 기준을 충족하는 경우 채무불이행 사건을 구성합니다. 금융자산의 신용이 손상된 증거로는 차입자의 재무적 어려움, 계약 위반, 차입조건의 완화, 파산 또는 재무구조조정 가능성이 있습니다. 회사는 차입자가 심각한 재무적 어려움을 겪고 있고 회수에 대한 합리적인 기대가 없는 경우 금융자산을 제각합니다.이 페이지는 금융자산의 기대신용손실 측정 및 인식에 대한 내용을 다루고 있습니다. 신용손실은 채무불이행 발생확률, 손실률, 노출액에 따라 결정됩니다. 예상 신용손실은 계약상 현금흐름과 수취할 현금흐름의 차이를 최초 유효이자율로 할인하여 산정됩니다. 손상 관련 손익은 당기손익으로 인식되며, 기타포괄손익-공정가치로 측정하는 채무상품에 대한 투자는 예외입니다.금융자산은 현금흐름에 대한 계약상 권리가 소멸하거나, 위험과 보상의 대부분을 이전할 때 제거됩니다. 금융자산을 양도하고 여전히 통제하는 경우, 당사는 지속적으로 관여하는 정도까지 인식합니다. 양도한 금융자산의 위험을 보유하는 경우, 수취한 대가는 담보 차입으로 인식합니다. 상각후원가로 측정하는 금융자산을 제거할 때, 장부금액과 수취한 대가의 차이는 당기손익으로 인식합니다. 파생상품은 공정가치로 최초 인식되며, 공정가치 변동은 거래의 성격에 따라 금융수익(비용)으로 인식됩니다.The financial statement includes information on inventory assets, assets held for sale, and property, plant, and equipment. Inventory assets are valued at the lower of cost or net realizable value, with cost determined using the weighted average method. Assets held for sale are valued at the lower of carrying amount and net disposal proceeds. Property, plant, and equipment are stated at cost less accumulated depreciation and impairment losses. Depreciation is calculated on a straight-line basis over the estimated economic useful life of the asset, which varies by asset type. The estimated useful lives for buildings, buildings, and building improvements range from 10 to 45 years, while machinery and equipment range from 4 to 6 years.이 문서는 자산의 취득, 건설 또는 제조와 관련된 차입원가를 자본화하는 방법과 정부보조금의 인식에 대한 회계정책을 설명합니다. 또한 투자부동산은 최초 인식시 원가로 측정되며, 무형자산은 역사적 원가로 측정됩니다. 영업권은 주석 2.13에서 설명한 방식으로 측정되며, 원가에서 손상차손누계액을 차감한 금액으로 표시됩니다.해당 문서에서는 무형자산과 영업권에 대한 회계처리 방식을 설명하고 있습니다. 회원권은 예측 불가능한 제한으로 인해 상각되지 않습니다. 추정 내용연수가 있는 무형자산은 산업재산권 5년, 시설이용권 15~28년, 기타무형자산(소프트웨어 등) 5~20년으로 정액법 상각됩니다. 영업권은 사업결합 시 원가에서 누적 손상차손을 차감하여 인식합니다. 영업권은 매년 및 손상 징후가 있을 때마다 손상검사를 수행합니다. 영업권 손상차손은 당기에 인식되며 추후에 환입되지 않습니다. 영업권 외의 비금융자산에 대한 손상차손은 손실인정 요건에 따라 매 보고기간말에 검토됩니다.해당 문서에서는 채무상품과 지분상품의 분류 기준과 재무제표 작성 시 적용되는 회계정책에 대해 설명하고 있습니다. 채무상품과 지분상품은 계약의 실질과 금융부채 및 지분상품의 정의에 따라 분류되며, 최초 인식 이후에도 후속적인 상황의 변화를 고려하여 분류를 재검토합니다. 지분상품은 기업의 자산에서 모든 부채를 차감한 후의 잔여지분을 나타내는 모든 계약이며, 금융부채는 후속적으로 유효이자율법을 사용하여 상각후원가로 측정하거나 당기손익-공정가치로 측정합니다. 또한, 당기손익인식항목으로 지정된 금융부채는 당기손익-공정가치측정금융부채로 분류됩니다.이 문서는 금융부채의 측정과 인식에 대한 규정을 설명하고 있습니다. 단기매매항목은 주로 단기간 내에 재매입할 목적으로 부담한 경우, 특정 금융상품 포트폴리오의 일부로 운용 형태가 단기적 이익 획득 목적이라는 증거가 있는 경우, 파생상품에 해당하는 경우에 해당합니다. 또한, 금융부채가 당기손익인식항목으로 지정될 수 있는 경우는 특정 조건에 부합할 때입니다. 당기손익-공정가치측정금융부채는 공정가치로 측정되며, 위험회피관계로 지정된 부분을 제외한 공정가치의 변동으로 인해 발생하는 평가손익은 당기손익으로 인식됩니다. 금융부채의 신용위험 변동으로 인한 공정가치 변동금액은 부채의 신용위험 변동효과를 기타포괄손익으로 인식하는 것이 당기손익에 회계불일치를 일으키거나 확대하는 것이 아니라면 기타포괄손익으로 인식됩니다.이 페이지에서는 금융보증계약에서 발생한 손익과 금융부채에 대한 정보를 제공합니다. 금융보증계약에서 발생한 손익은 당기손익으로 인식되며, 공정가치는 주석 5에서 설명된 방법에 따라 결정됩니다. 금융부채는 사업결합에서 취득자의 조건부대가이거나 단기매매항목이거나 최초 인식시 당기손익인식항목으로 지정할 경우에 해당하지 않는 경우 유효이자율법을 사용하여 상각후원가로 측정됩니다. 유효이자율법은 금융부채의 상각후원가를 계산하고 관련 기간에 걸쳐 이자비용을 배분하는 방법입니다. 금융보증부채는 공정가치로 최초 측정되며, 당기손익인식항목으로 지정되거나 자산의 양도로 인해 발생한 것이 아니라면 다음 중 큰 금액으로 후속측정되어야 합니다.해당 페이지에서는 금융부채의 측정, 외화환산손익, 금융부채의 제거에 대한 내용을 다루고 있습니다. 금융부채는 보고기간 말 상각후원가로 측정되며, 위험회피관계로 지정된 부분을 제외한 외화환산손익은 당기손익으로 인식됩니다. 위험회피수단으로 지정된 경우 외화환산손익은 기타포괄손익으로 인식됩니다. 금융부채는 의무가 이행, 취소 또는 만료된 경우에만 제거되며, 제거 시 장부금액과 대가 차이는 당기손익으로 인식됩니다. 조건이 실질적으로 변경된 경우 금융부채는 소멸하고 새로운 금융부채를 인식합니다.2.16 충당부채는 의무 이행에 예상되는 지출액의 현재가치로 측정되며, 시간 경과로 인한 충당부채 증가는 이자비용으로 인식됩니다.\\n\\n2.17 당기법인세와 이연법인세는 법인세비용으로 구성됩니다. 법인세는 기타포괄손익이나 자본에 직접 인식된 항목과 관련된 금액은 해당 항목에서 직접 인식하며, 이를 제외하고는 당기손익으로 인식됩니다. 법인세비용은 보고기간말 현재 제정되었거나 실질적으로 제정된 세법에 기초하여 측정됩니다. 경영진은 적용 가능한 세법 규정이 해석에 따라 달라질 수 있는 상황에 대하여 당사 세무정책에 대하여 주기적으로 평가하고 있습니다. 당사는 세무당국에 납부할 것으로 예상되는 금액에 기초하여 당기법인세비용을 인식합니다.\\n\\n이연법인세는 자산과 부채의 장부금액과 세무기준액의 차이로 정의되는 일시적 차이에 대하여 장부금액을 회수하거나 결제할 때의 예상 법인세효과로 인식됩니다. 다만, 사업결합 이외의 거래에서 자산ㆍ부채를 최초로 인식할 때 발생하는 이연법인세자산과 부채는 그 거래가 회계이익이나 과세소득에 영향을 미치지 않는다면 인식되지 않습니다.\\n\\n이연법인세자산과 부채는 법적으로 당기법인세자산과 당기법인세부채를 상계할 수 있는 권리를 당사가 보유하고 있으며, 동시에 이연법인세자산과 부채가 동일한 과세당국에 의해서 부과되는 법인세와 관련이 있으면서 순액으로 결제할 의도가 있는 경우에 상계됩니다.보고기간 동안, 회사는 일시적 차이로 인한 이연법인세부채와 자산을 인식했습니다. 이연법인세자산과 부채는 법적으로 상계할 수 있는 권리를 가지고 있으며, 동일한 과세당국에 부과되는 법인세와 관련이 있으면서 순액으로 결제할 의도가 있는 경우에만 상계합니다. 회사의 퇴직연금제도는 확정기여제도와 확정급여제도로 구분됩니다. 확정기여제도는 별도의 기금에 고정된 금액의 기여금을 지급하며, 확정급여제도는 독립된 보험계리인에 의해 예측단위적립방식으로 산정된 부채를 가지고 있습니다. 제도개정, 축소 또는 정산이 발생하는 경우, 과거근무원가 또는 정산으로 인한 손익은 당기손익으로 인식됩니다.기타장기종업원급여는 확정급여제도와 유사한 방법으로 측정되며, 근무원가, 기타장기종업원급여부채의 순이자 및 재측정요소는 당기손익으로 인식됩니다. 수익은 고객과의 계약에서 정한 대가에 기초하여 측정되며, 고객으로부터 재화나 용역의 통제가 이전될 때 인식됩니다. 재화의 판매는 재화의 통제가 이전된 시점에 인식되며, 용역은 기간에 걸쳐 이행됩니다. 임대수익은 리스기간에 걸쳐 매출액에 연동하여 인식됩니다.제공된 텍스트는 금융제표의 일부로, 이자수익, 배당금수익, 고객충성제도 등에 대한 회계처리기준을 설명하고 있습니다. 이자수익은 유효이자율법에 따라 인식되며, 채권 손상이 발생한 경우 회수가능액까지 감액되고, 손상채권에 대한 이자수익은 최초 유효이자율에 따라 인식됩니다. 배당금수익은 배당금을 받을 권리가 확정되는 시점에 인식됩니다. 또한, 고객충성제도를 운영하고 있으며, 고객이 계약을 체결하지 않았다면 받을 수 없던 중요한 권리를 제공하기 때문에, 고객에게 포인트를 제공하는 약속은 별도의 수행의무입니다. 이 텍스트는 리스에 대한 회계처리기준도 다루고 있으며, 기업회계기준서 제1116호를 소급 적용하였습니다.해당 문서는 리스이용자가 리스 약정을 체결한 경우, 사용권자산과 그에 대응하는 리스부채를 인식하는 방법에 대한 내용을 담고 있습니다. 당사는 단기리스와 소액 기초자산 리스를 제외한 모든 리스 약정에 대해 사용권자산과 리스부채를 인식하며, 리스부채는 리스의 내재이자율 또는 증분차입이자율을 사용하여 측정합니다. 증분차입이자율은 국고채 금리에 기초한 무위험이자율, 기업 특유의 위험조정, 채권수익률에 기초한 신용위험조정, 그리고 리스제공자의 위험속성과 보증에 따른 조정을 고려하여 결정됩니다. 리스기간은 해지불능기간과 연장선택권, 종료선택권을 고려하여 산정됩니다.해당 페이지에서는 리스 제공자로서의 회계 처리 방식과 종속기업, 공동지배기업, 관계기업에 대한 내용이 다루어지고 있습니다. 리스 제공자로서의 경우, 운용리스와 금융리스로 분류하며, 기초자산의 소유에 따른 위험과 보상의 이전 여부에 따라 분류됩니다. 중간 리스 제공자로서의 경우, 상위 리스와 전대 리스를 두 개의 별도 계약으로 회계 처리하며, 기초자산이 아닌 상위 리스에서 생기는 사용권자산에 따라 전대 리스를 금융리스 또는 운용리스로 분류합니다. 운용리스 체결 과정에서 부담하는 리스개설직접원가는 기초자산의 장부금액에 더하고, 리스료 수익과 같은 기준으로 리스기간에 걸쳐 비용으로 인식합니다. 또한, 종속기업, 공동지배기업, 관계기업에 대한 투자는 직접적인 지분투자에 근거하여 원가로 측정하며, 종속기업, 공동지배기업, 관계기업으로부터 수취하는 배당금은 배당에 대한 권리가 확정되는 시점에 당기손익으로 인식합니다.이 문서는 미래 사건, 과거 경험 및 현재의 상황에 대한 추정과 가정에 기반한 회계 추정 및 가정에 대한 정보를 제공합니다. 이러한 추정 및 가정은 계속적으로 검토되며, 변경 사항이 인식되면 수정됩니다. 다음 회계 연도에 자산 및 부채 장부 금액에 조정을 일으킬 수 있는 중요한 위험은 영업권의 손상, 법인세, 투자 및 임금 증가에 따른 불확실성입니다.해당 기업 금융보고서에서는 금융상품의 공정가치 측정에 대한 불확실성이 언급되었습니다. 순확정급여부채의 현재가치는 할인율 변동에 영향을 받으며, 충당부채는 과거 경험율에 기초한 추정에 따라 결정됩니다. 또한, 손상 징후가 식별되었지만 회수가능액이 장부금액을 초과하는 자산에 대한 장부금액과 회수가능액을 산정한 기준이 제시되었습니다.The financial statement provides information on the valuation of the company's business units and investments. For the duty-free business unit, the Discounted Cash Flow (DCF) method was used with a discount rate of 7.68% and a growth rate of 0.00%. The future cash flow is estimated until the current lease contract expires. Similarly, for the hotel business unit, the DCF and appraisal methods were used with the same discount rate and growth rate.\\n\\nFor the subsidiaries and associates' investments, the DCF and net asset value methods were used with a discount rate ranging from 3.69% to 14.15% and a growth rate of 1.00%. The future cash flow is estimated for a period of 5 years. It is noted that for some of the company's business units, the future cash flow estimation takes into account the specific characteristics of the industry, such as the duty-free shop's patent completion and lease contract expiration.이 페이지에서는 회사의 재무위험관리에 대한 개요를 제공합니다. 회사는 시장위험, 신용위험, 유동성위험 등 다양한 금융 위험에 노출되어 있습니다. 위험관리는 이사회에서 승인된 정책에 따라 중앙 자금부서가 수행하며, 회사는 특정 위험을 회피하기 위해 파생상품을 사용합니다. 또한, 회사는 외환위험, 이자율위험, 신용위험, 유동성위험 등을 식별, 평가 및 회피하기 위해 현업부서와 긴밀히 협력하고 있습니다. 이사회는 전반적인 위험관리정책과 외환위험, 이자율위험, 신용위험, 파생상품 및 비파생상품 관련 정책을 검토하고 승인합니다.해당 금융제표의 주요 통화별 구성내역은 다음과 같습니다:\\n\\n* USD: 자산 71,829백만원, 부채 701,150백만원\\n* JPY: 자산 37,966백만원, 부채 990백만원\\n\\nUSD와 JPY의 환율이 10% 변동할 경우, 세전손익에 미치는 영향은 다음과 같습니다:\\n\\n* USD 10% 상승: 세전손익 +62,932백만원\\n* USD 10% 하락: 세전손익 -62,932백만원\\n* JPY 10% 상승: 세전손익 +3,698백만원\\n* JPY 10% 하락: 세전손익 -3,698백만원\\n\\n이 민감도 분석은 기능통화 이외의 외화로 표시된 화폐성 자산과 부채를 대상으로 하였습니다. 또한, 통화스왑계약이 체결된 부분은 제외하였습니다. 환율의 미래변화는 판매가격과 매출이익률의 변화에 영향을 줄 수 있습니다.해당 문서는 금융제표의 한 페이지로, 가격위험과 이자율 위험에 대한 정보를 제공합니다. 가격위험에 대해, 회사는 유가증권 투자로 인한 가격위험을 분산투자 전략으로 관리하고 있으며, 상장주식의 10% 변동시 자본에 미치는 영향은 71,007백만원에서 52,261백만원까지입니다. 이자율 위험에 대해, 회사는 이자율 스왑을 통해 주요한 변동금리부 조건의 차입금에 대한 이자율 위험을 최소화하고 있습니다.이 문서는 해당 회사의 신용위험에 대한 정보를 제공합니다. 신용위험은 수취채권, 확정계약, 현금 및 현금성자산, 파생금융상품, 금융기관 예치금 등에서 발생합니다. 도매 거래처의 신용위험은 독립적인 신용등급 또는 재무상태, 과거 경험 등을 고려하여 평가됩니다. 소매 거래처는 현금 또는 신용카드로 결제합니다. 현재 신용한도를 초과한 거래처는 없으며, 경영진은 거래처로부터 의무불이행으로 인한 손실을 예상하고 있지 않습니다.\\n\\n당기말 현재 신용위험에 대한 최대 노출정도는 다음과 같습니다: 현금 및 현금성자산 458,530백만원, 매출채권 116,252백만원, 기타유동금융자산 862,958백만원, 기타비유동금융자산 308,379백만원, 금융보증계약 3,060,905백만원, 이행보증계약 17,746백만원입니다.회사는 적정 수준의 미사용 차입금 한도를 유지하고, 영업 자금 수요를 충족시키기 위해 유동성을 예측하고 모니터링하고 있습니다. 유동성 예측에는 자금조달 계획, 약정 준수, 내부 재무비율 목표, 통화 제한과 같은 외부 법적 요구사항 등을 고려하고 있습니다.\\n\\n당기말 현재, 유동성 위험 분석 내역은 다음과 같습니다:\\n\\n- 차입금: 1년 미만 - 1,470,883백만원, 1년 이상 2년 미만 - 100,098백만원, 2년 이상 - 560,364백만원\\n- 사채: 1년 미만 - 951,579백만원, 1년 이상 2년 미만 - 746,061백만원, 2년 이상 - 1,584,019백만원\\n- 매입채무: 1년 미만 - 251,643백만원\\n- 기타금융부채 (파생상품부채, 금융보증부채 제외): 1년 미만 - 327,122백만원, 1년 이상 2년 미만 - 30,489백만원, 2년 이상 - 264,889백만원\\n- 파생상품부채: 1년 미만 - 21,313백만원, 1년 이상 2년 미만 - 24,360백만원, 2년 이상 - 19,964백만원\\n- 리스부채: 1년 미만 - 105,756백만원, 1년 이상 2년 미만 - 102,363백만원, 2년 이상 - 1,091,190백만원\\n- 금융보증계약: 1년 미만 - 3,060,905백만원\\n- 이행보증계약: 1년 미만 - 17,746백만원\\n- 총계: 1년 미만 - 6,206,947백만원, 1년 이상 2년 미만 - 1,003,371백만원, 2년 이상 - 3,520,426백만원.\\n\\n(참고: 차입금, 사채 및 리스부채는 상환 스케줄에 따라 만기까지 상환될 이자비용이 포함되어 있습니다. 기타금융부채에는 파생상품부채와 금융보증부채가 제외되어 있습니다.)당사의 재무상태표에는 1년 미만 차입금 1,379,622백만원, 1년 이상 2년 미만 차입금 531,286백만원, 2년 이상 차입금 270,095백만원, 총 차입금 2,181,003백만원 등이 포함되어 있습니다. 또한, 1년 미만 사채 1,055,248백만원, 1년 이상 2년 미만 사채 817,321백만원, 2년 이상 사채 1,731,876백만원, 총 사채 3,604,445백만원 등도 포함되어 있습니다.\\n\\n또한, 매입채무 268,392백만원, 기타금융부채 501,589백만원, 파생상품부채 32,332백만원, 리스부채 97,684백만원, 금융보증계약 2,941,053백만원, 이행보증계약 17,385백만원 등이 포함되어 있습니다. \\n\\n당사의 자본위험관리는 계속기업으로서 주주 및 이해당사자들에게 이익을 지속적이고 안정적으로 제공하기 위해 최적 자본구조를 유지하는 것입니다. 이를 위해 당사는 주주에게 지급되는 배당을 조정하고, 주주들에게 자본을 반환하며, 부채 감소를 위한 신주 발행 및 자산 매각 등을 실시하고 있습니다.해당 기업의 자본조달비율은 순부채를 총자본으로 나눈 값으로, 순부채는 총차입금에서 현금 및 현금성자산을 차감한 금액이며, 총자본은 순부채에 자본총계를 더한 금액입니다. 당기말 현재 자본조달비율은 43.45%로, 전기말 대비 44.32%에서 감소했습니다.해당 재무제표의 5번 항목에서는 금융상품의 공정가치에 대한 정보를 제공하고 있습니다. 금융자산의 경우, 현금 및 현금성 자산, 매출채권, 기타 등으로 구성되어 있으며, 금융부채의 경우, 차입금, 사채, 리스부채, 매입채무, 기타 등으로 구성되어 있습니다. 금융자산의 총 장부금액은 2,717,635백만 원, 공정가치는 2,717,635백만 원이며, 금융부채의 총 장부금액은 6,822,096백만 원, 공정가치는 6,649,247백만 원입니다. 유동성 차입금 및 사채의 공정가치는 할인에 따른 효과가 유의적이지 않기 때문에 장부금액과 동일합니다.본 문서는 회사의 공정가치 계층 체계에 따른 금융상품의 공정가치 계층 구분을 요약한 것입니다. 공정가치 계층 체계는 금융상품을 측정하는 데 사용되는 입력값의 관찰 가능성에 따라 세 가지 수준으로 구성됩니다. 수준 1은 동일한 자산이나 부채에 대한 활성 시장 가격이며, 수준 2는 직접 또는 간접적으로 관찰 가능한 입력값이며, 수준 3은 관찰 불가능한 입력값입니다.\\n\\n당기말과 전기말 현재 공정가치 계층 체계에 따른 금융상품의 공정가치 계층 구분은 다음과 같습니다:\\n\\n* 기타포괄손익-공정가치측정금융자산: 수준 1 - 710,074백만원, 수준 2 - 184,534백만원, 수준 3 - 0백만원, 합계 - 894,608백만원\\n* 당기손익-공정가치측정금융자산: 수준 1 - 0백만원, 수준 2 - 100,427백만원, 수준 3 - 62,520백만원, 합계 - 162,947백만원\\n* 파생상품자산: 수준 1 - 0백만원, 수준 2 - 55,463백만원, 수준 3 - 0백만원, 합계 - 55,463백만원\\n* 파생상품부채: 수준 1 - 0백만원, 수준 2 - 2,384백만원, 수준 3 - 63,253백만원, 합계 - 65,637백만원\\n\\n요약하면, 기타포괄손익-공정가치측정금융자산은 대부분 수준 1과 수준 3으로 분류되며, 당기손익-공정가치측정금융자산과 파생상품자산은 대부분 수준 2로 분류됩니다. 파생상품부채는 수준 2와 수준 3으로 분류됩니다.해당 금융제표에서는 3단계 공정가치 측정 금융상품의 변동 내역을 보고하고 있습니다. 기타포괄손익-공정가치측정 금융자산, 당기손익-공정가치측정 금융자산, 파생상품자산, 파생상품부채의 기초 장부금액, 취득, 처분, 대체, 평가 등의 변동이 포함되어 있습니다. 당기말 기준으로 기타포괄손익-공정가치측정 금융자산은 184,554백만원, 당기손익-공정가치측정 금융자산은 62,520백만원, 파생상품부채는 63,253백만원입니다. 가치평가기법으로는 DCF 모형, 순자산가치, 이항모형 등이 사용되었으며, 투입변수로는 가중평균자본비용, 일별변동성, 연환산변동성 등이 사용되었습니다.해당 금융제표의 요약은 다음과 같습니다:\\n\\n* 전기말 공정가치 측정 금융자산, 기타포괄손익-공정가치측정 금융자산, 당기손익-공정가치측정금융자산, 파생상품자산, 파생상품부채 등의 공정가치와 수준, 가치평가기법, 수준 3 투입변수 등이 포함되어 있습니다.\\n* 기타포괄손익-공정가치측정 금융자산의 공정가치는 167,480백만원이며, 수준 3의 DCF 모형을 사용하여 평가되었습니다. 가중평균자본비용은 7.45%에서 12.85%까지 변동합니다.\\n* 당기손익-공정가치측정금융자산의 공정가치는 61,653백만원이며, 수준 3의 순자산가치를 사용하여 평가되었습니다.\\n* 파생상품자산의 공정가치는 1,105백만원이며, 이항모형을 사용하여 평가되었습니다. 일별변동성은 2.28%이고, 주환산변동성은 6.03%입니다.\\n* 파생상품부채의 공정가치는 61,647백만원이며, 이항모형을 사용하여 평가되었습니다. 일별변동성은 1.47%에서 2.57%까지, 주환산변동성은 3.29%에서 6.03%까지 변동합니다.\\n* 수준 3으로 분류된 반복적인 공정가치 측정치의 민감도분석 결과에 따르면, 기타포괄손익-공정가치측정금융자산의 주요 관측불가능한 투입변수인 할인율을 1% 증가시키면 공정가치가 47,307백만원 증가하고, 1% 감소시키면 공정가치가 34,052백만원 감소합니다.해당 연도의 금융자산과 금융부채는 다음과 같이 분류됩니다. 금융자산은 ①현금 및 현금성자산, ②매출채권, ③기타유동금융자산, ④기타금융자산으로 구성됩니다. 당기말 현재 금융자산의 총액은 2,717,635백만원입니다. 금융부채는 ①매입채무, ②기타유동금융부채, ③유동성차입금, ④유동성사채, ⑤유동성리스부채, ⑥차입금, ⑦사채, ⑧리스부채, ⑨기타금융부채로 구성됩니다. 당기말 현재 금융부채의 총액은 6,822,095백만원입니다.2022년 12월 31일 기준 금융자산은 2,785,947백만원, 금융부채는 7,260,275백만원입니다. 금융자산 중 상각후원가측정 금융자산은 1,186,543백만원, 기타포괄손익-공정가치측정 금융자산은 961,397백만원, 당기손익-공정가치측정 금융자산은 581,310백만원, 파생금융상품은 56,697백만원입니다. 금융부채 중 상각후원가측정 금융부채는 7,196,095백만원, 파생금융상품은 64,180백만원입니다.상각후원가측정금융자산의 당기 순이익은 34,528백만원이며, 전기 순이익은 8,227백만원입니다. 당기손익-공정가치측정금융자산의 당기 순이익은 4,379백만원이며, 전기 순이익은 81백만원입니다. 기타포괄손익-공정가치측정금융자산의 당기 순이익은 -66,846백만원이며, 전기 순이익은 -33,045백만원입니다. 파생상품의 당기 순이익은 22,726백만원이며, 전기 순이익은 66,762백만원입니다. 상각후원가측정금융부채의 당기 순이익은 -247,860백만원이며, 전기 순이익은 -210,931백만원입니다.7. 현금 및 현금성 자산:\\n- 보유현금: 14,388 백만원\\n- 예금 등 (주1): 458,530 백만원\\n- 합계: 472,918 백만원\\n\\n8. 매출채권:\\n- 유동매출채권: 126,257 백만원\\n- 비유동매출채권: - 백만원\\n- 매출채권(총액): 126,257 백만원\\n- 손실충당금: (10,005) 백만원\\n- 매출채권(순액): 116,252 백만원\\n\\n주1: 전기말 월드타워면세점 임차보증금 관련 사용이 제한된 금융상품 포함 (주석 25번 참고)The financial statement shows that as of the current year-end, the company's accounts receivable total $126,257 million. Of this amount, $116,271 million is not overdue, and $9,986 million is impaired. There were no delinquent but undamaged receivables as of the current year-end. The company's allowance for doubtful accounts was $10,005 million as of the current year-end, which is a decrease of $5 million from the previous year-end.해당 금융제표의 기타금융자산 섹션은 2021년 12월 31일과 2020년 12월 31일 기준으로 기타금융자산의 내역을 상세히 설명하고 있습니다. 기타금융자산은 크게 유동자산과 비유동자산으로 구분됩니다.\\n\\n유동자산은 862,958백만원(2021년)과 852,189백만원(2020년)으로, 당해손익-공정가치측정금융자산, 매매목적파생상품자산, 국공채, 단기금융상품, 단기대여금, 미수금, 미수수익, 유동성보증금 등으로 구성됩니다.\\n\\n비유동자산은 1,265,507백만원(2021년)과 1,397,501백만원(2020년)으로, 기타포괄손익-공정가치측정금융자산, 당해손익-공정가치측정금융자산, 매매목적파생상품자산, 대여금, 미수금, 보증금 등으로 구성됩니다.\\n\\n이 두 항목을 합한 기타금융자산의 총액은 2021년 12월 31일 기준 2,128,465백만원이며, 2020년 12월 31일 기준 2,249,690백만원입니다.\\n\\n주의할 점은, 해당 금융상품 중 사용이 제한된 금융상품이 포함되어 있다는 것입니다(주석 25 참조).해당 문서는 금융상품의 사용 제한과 공정가치측정금융자산의 변동 내역을 포함한 금융제표의 일부입니다. 사용 제한이 있는 금융상품의 내역은 동반성장펀드, 이행보증, 질권설정, 당좌개설보증금 등이 있으며, 총액은 96,992백만원입니다. 공정가치측정금융자산의 변동 내역은 기타포괄손익과 당기손익의 두 가지로 나뉘며, 각각 취득, 처분, 평가 등의 변동이 있었습니다. 기말금액은 기타포괄손익이 894,608백만원, 당기손익이 162,947백만원입니다.당기말 현재 공정가치측정금융자산은 기타포괄손익-공정가치측정금융자산 894,608백만원, 당기손익-공정가치측정금융자산 162,947백만원입니다. 전기말 현재 공정가치측정금융자산은 기타포괄손익-공정가치측정금융자산 961,397백만원, 당기손익-공정가치측정금융자산 581,310백만원입니다. 투자일임계약으로 채무증권에 투자되고 있어 당기손익-공정가치측정금융자산으로 분류되었습니다. 출자금은 면세점협회 보세판매장 40백만원과 면세점협회 설립분담금 62백만원으로 구성되어 있습니다.The table provides information on marketable equity securities held by the company as of the end of the current and previous fiscal years. The table includes the name of the company, the type of security, the number of shares held, the percentage of ownership, the acquisition cost, and the book value for each security. Notable securities include SGC Energy, Shinhan Financial Group, Nippon Ski Resort Development, BNK Financial Group, and Dufry AG, with a total of 1,008,972 shares held and a book value of 710,074 million won. The company also acquired 500 shares of Lotte Wellfoods (formerly Lotte Confectionery) during the current fiscal year. Additionally, the company has pledged 553,904 of its own Lotte Shopping shares as collateral for the construction of Busan Lotte Town.The provided text contains financial information about the Company's marketable and non-marketable securities, as well as its government bonds. As of the end of the current period, the Company holds non-marketable securities with a book value of 184,534 million KRW, which is an increase of 10,919 million KRW from the previous period. The Company also holds government bonds with a book value of 37 million KRW, which is a decrease of 1 million KRW from the previous period.2023년 3월 31일 기준 현재 금융자산의 평가 및 손상 내역은 다음과 같습니다. 시장성 있는 지분증권은 취득원가 1,008,972백만원, 장부금액 710,074백만원, 기타포괄손익- 공정가치측정금융자산 평가손익(누계액) -298,898백만원, 당기손익-공정가치 측정금융자산평가손익 0백만원입니다. 시장성 없는 지분증권은 취득원가 289,838백만원, 장부금액 184,534백만원, 기타포괄손익- 공정가치측정금융자산 평가손익(누계액) -105,304백만원, 당기손익-공정가치 측정금융자산평가손익 0백만원입니다. 채무증권은 취득원가 100,000백만원, 장부금액 100,427백만원, 기타포괄손익- 공정가치측정금융자산 평가손익(누계액) 0백만원, 당기손익-공정가치 측정금융자산평가손익 4,251백만원입니다. 국공채는 취득원가 37백만원, 장부금액 37백만원, 기타포괄손익- 공정가치측정금융자산 평가손익(누계액) 0백만원, 당기손익-공정가치 측정금융자산평가손익 0백만원입니다. 수익증권은 취득원가 66,840백만원, 장부금액 62,418백만원, 기타포괄손익- 공정가치측정금융자산 평가손익(누계액) 0백만원, 당기손익-공정가치 측정금융자산평가손익 113백만원입니다. 출자금은 취득원가 102백만원, 장부금액 102백만원, 기타포괄손익- 공정가치측정금융자산 평가손익(누계액) 0백만원, 당기손익-공정가치 측정금융자산평가손익 0백만원입니다. 전기말 현재 금융자산의 평가 및 손상 내역은 다음과 같습니다. 시장성 있는 지분증권은 취득원가 1,008,916백만원, 장부금액 783,782백만원, 기타포괄손익- 공정가치측정금융자산 평가손익(누계액) -225,134백만원, 당기손익-공정가치 측정금융자산평가손익 0백만원입니다. 시장성 없는 지분증권은 취득원가 289,838백만원, 장부금액 177,616백만원, 기타포괄손익- 공정가치측정금융자산 평가손익(누계액) -112,222백만원, 당기손익-공정가치 측정금융자산평가손익 0백만원입니다. 채무증권은 취득원가 517,012백만원, 장부금액 519,657백만원, 기타포괄손익- 공정가치측정금융자산 평가손익(누계액) 0백만원, 당기손익-공정가치 측정금융자산평가손익 2,645백만원입니다. 국공채는 취득원가 44백만원, 장부금액 44백만원, 기타포괄손익- 공정가치측정금융자산 평가손익(누계액) 0백만원, 당기손익-공정가치 측정금융자산평가손익 0백만원입니다. 수익증권은 취득원가 66,100백만원, 장부금액 61,551백만원, 기타포괄손익- 공정가치측정금융자산 평가손익(누계액) 0백만원, 당기손익-공정가치 측정금융자산평가손익 -2,564백만원입니다. 출자금은 취득원가 102백만원, 장부금액 102백만원, 기타포괄손익- 공정가치측정금융자산 평가손익(누계액) 0백만원, 당기손익-공정가치 측정금융자산평가손익 0백만원입니다.재고자산은 다음과 같이 구성됩니다: 상품 463,910백만 원 (전기: 689,045백만 원), 원재료 7,346백만 원 (전기: 6,097백만 원), 저장품 6,736백만 원 (전기: 6,471백만 원), 미착품 8,958백만 원 (전기: 13,488백만 원). 총 재고자산은 486,950백만 원 (전기: 715,101백만 원). 당기 중 매출원가로 비용 인식한 재고자산의 원가는 1,653,389백만 원 (전기: 1,998,410백만 원). 재고자산평가손실환입은 44,288백만 원 (전기: 20,547백만 원)입니다.20X2년 12월 31일 기준 기타비금융자산은 103,612백만원으로, 20X1년 12월 31일 기준 130,526백만원 대비 26,914백만원 감소했습니다. 이 감소는 주로 선급비용(+12,118백만원)과 장기선급금(+18,334백만원)의 증가로 인한 것입니다. \\n\\n유동 기타비금융자산은 69,767백만원으로, 선급금(+294백만원), 선급비용(+12,118백만원), 부가세대급금(-57,719백만원), 계약자산(+59백만원)으로 구성됩니다.\\n\\n비유동 기타비금융자산은 33,845백만원으로, 장기선급금(+18,334백만원)으로 구성됩니다.\\n\\n주목할 점은 계약자산의 규모가 매우 작고, 환불로 인한 반환재고 회수권 역할을 한다는 것입니다.해당 재무제표의 12번 항목에서는 종속기업 및 관계기업 투자에 대한 정보가 제공됩니다. 당기말과 전기말 현재, 종속기업 및 관계기업 투자는 총 3,807,556백만 원과 3,925,106백만 원으로, 각각 117,550백만 원 감소하였습니다.\\n\\n당기말 현재, 종속기업 투자는 709,277백만 원으로, 주요 투자 내역으로는 롯데디에프리테일(주), 롯데면세점제주(주), KB롯데마스터리스사모부동산투자신탁제4호, 스마일위드(주), Lotte Duty Free Singapore Pte. Ltd., Hotel Lotte Holdings HK Ltd., Lotte Hotel Holdings USA Co., Ltd., Lotte Hotel Holdings Europe B.V., Lotte Hotel Arai Co., Ltd., Lotte Hotel Vladivostok LLC, Lotte World Vietnam Co., Ltd., 마스턴전문투자형사모부동산투자신탁제29호, Lotte Hotel & Retail Vietnam Pte. Ltd., 제이케이비제일차(주), 제이케이비제이차(주), 에스프로젝트엘(주) 등이 있습니다.\\n\\n당기말 현재, 관계기업 투자는 3,098,279백만 원으로, 주요 투자 내역으로는 롯데디에프리테일(주), 롯데면세점제주(주), KB롯데마스터리스사모부동산투자신탁제4호, 스마일위드(주), Lotte Duty Free Singapore Pte. Ltd., Hotel Lotte Holdings HK Ltd., Lotte Hotel Holdings USA Co., Ltd., Lotte Hotel Holdings Europe B.V., Lotte Hotel Arai Co., Ltd., Lotte Hotel Vladivostok LLC, Lotte World Vietnam Co., Ltd., 마스턴전문투자형사모부동산투자신탁제29호, Lotte Hotel & Retail Vietnam Pte. Ltd., 제이케이비제일차(주), 제이케이비제이차(주), 에스프로젝트엘(주) 등이 있습니다.\\n\\n주: 1) 당사는 Lotte Duty Free Singapore Pte. Ltd. 회수가능가액과 장부금액의 차이 26,069백만 원을 손상차손으로 인식하였습니다.\\n2) 당사는 Hotel Lotte Holdings HK Ltd. 회수가능가액과 장부금액의 차이 19,143백만 원을 손상차손으로 인식하였습니다.Lotte Hotel Holdings USA Co., Ltd.에 6,925백만원 추가 출자.\\nLotte Hotel Holdings Europe B.V.의 손상차손 98,833백만원 인식.\\nLotte Hotel Vladivostok LLC의 손상차손 4,853백만원 인식.\\nLotte World Vietnam Co., Ltd.에 6,179백만원 추가 출자.\\nLotte Hotel & Retail Vietnam Pte. Ltd.의 지분 10%+1주 취득으로 관계기업투자에서 종속기업 투자로 전환.\\n지분 미보유지만 관련활동을 지시할 힘 보유 및 변동이익에 노출되어 지배력 보유 판단.\\n지배력 상실로 종속기업에서 제외된 기업.주어진 텍스트는 특정 회사의 2021년 12월 31일 기준 관계기업투자 현황을 요약한 것입니다. 관계기업은 롯데캐피탈, 롯데물산, 롯데건설, 롯데상사, Lotte Hotel & Retail Vietnam Pte. Ltd., 롯데렌탈, 롯데알미늄, Lotte Properties HCMC Company Limited LLC, 대홍기획, 롯데벤처스, 신한AIM부동산전문투자형 사모투자신탁 제23호, Posco International Global Development Pte. Ltd., (주)블랭크코퍼레이션, 롯데프롭테크미래전략펀드 등 14개 회사입니다.\\n\\n각 회사의 지분율은 17.14%에서 43.30%까지 다양합니다. 롯데캐피탈, 롯데물산, 롯데건설, 롯데상사, 롯데렌탈, 롯데알미늄, 대홍기획, 롯데벤처스, (주)블랭크코퍼레이션의 지분율은 전기말과 동일합니다. 그러나 Lotte Hotel & Retail Vietnam Pte. Ltd.와 롯데프롭테크미래전략펀드의 지분율은 변동되었습니다.\\n\\n해당 회사의 관계기업투자액은 18,000백만원에서 936,123백만원까지 다양합니다. 총 관계기업투자액은 3,098,279백만원입니다.\\n\\n주1) 기재된 지분율은 피투자회사의 자기주식 등을 포함한 총 발행주식수에 대한 당사의 소유지분율입니다.\\n\\n주2) 당기 중 Lotte Hotel & Retail Vietnam Pte. Ltd. 10%+1주 취득 완료에 따라 지분율이 변동되어 (40% → 50%+1주) 관계기업투자에서 종속기업 투자로 전환하였고, 제1103호 단계적 취득에 따라 이전에 보유하고 있던 지분을 처분 및 취득일의 공정가치로 재측정하였습니다.\\n\\n주3) 당사는 신한AIM부동산전문투자형 사모투자신탁제[23호] 회수가능가액과 장부금액의 차이 6,147백만원을 손상차손으로 인식하였습니다.\\n\\n주4) 당사는 Posco International Global Development Pte. Ltd. 장부금액 전액 5,829백만원을 손상차손으로 인식하였습니다.\\n\\n주5) 당사는 롯데프롭테크미래전략펀드에 1,500백만원을 현금출자하여 주식 1,500주를 취득하였습니다.The company's investments in associates at the end of the current period are worth 384,250 million won, while the investments at the end of the previous period were worth 382,865 million won. The company's investments in subsidiaries and associates increased from 3,925,106 million won at the beginning of the period to 3,807,555 million won at the end of the period. This change is due to the acquisition of LHRV, which resulted in the conversion of the investment from an associate to a subsidiary, and the disposal and acquisition of previously held shares at fair value.당기말 현재 유형자산 장부금액은 5,704,350백만원이며, 이는 토지, 코스, 건물, 구축물, 기계장치, 차량운반구, 집기비품, 공구와기구, 장치장식물 및 기타유형자산으로 구성되어 있습니다. 전기말 현재 유형자산 장부금액은 4,629,863백만원이며, 이는 토지, 코스, 건물, 구축물, 기계장치, 차량운반구, 집기비품, 공구와기구, 장치장식물 및 기타유형자산으로 구성되어 있습니다.2023년 3월 31일 기준 유형자산의 장부금액은 5,704,350백만원이며, 2022년 12월 31일 기준 유형자산의 장부금액은 5,867,021백만원입니다. 유형자산의 취득원가는 8,136,760백만원이며, 감가상각누계액은 2,061,129백만원, 손상차손누계액은 208,610백만원입니다. 기타유형자산의 장부금액은 115,528백만원이며, 건설중인자산의 장부금액은 182,212백만원입니다. 당기 중 유형자산의 취득은 163,522백만원이며, 대체는 -81,311백만원, 처분은 -116,403백만원입니다. 당기 중 감가상각비는 136,768백만원이며, 손상차손은 0백만원, 손상차손환입은 8,289백만원입니다. 적격자산 취득을 위한 자본화된 차입원가는 142백만원이며, 자본화차입이자율은 3.59%입니다.투자부동산은 당기말 현재 978,681백만원으로, 토지 822,969백만원과 건물 155,712백만원으로 구성됩니다. 투자부동산 장부금액은 전기에 비해 19,376백만원 증가했습니다. 이 증가는 대체 27,866백만원과 감가상각 8,490백만원 때문입니다. 투자부동산에서 발생한 임대수익은 137,615백만원이며, 이와 관련된 운영비용은 33,844백만원입니다.본 문서는 회사의 투자부동산과 사용권자산에 대한 정보를 제공합니다. 투자부동산의 장부금액은 978,681백만원이며 공정가치는 2,816,164백만원입니다. 사용권자산은 건물, 기계장치, 차량운반구, 기타 등으로 구성되어 있으며, 장부금액은 581,260백만원, 감가상각비는 5,171백만원입니다. 사용권자산의 취득금액은 1,184,374백만원이며, 손상차손누계액은 216,696백만원입니다.당기 중 사용권자산 장부금액의 변동내역은 다음과 같습니다.\\n\\n- 당기\\n\\t+ 기초 장부금액: 591,571 백만원\\n\\t+ 신규설정 및 종료: 142,200 백만원\\n\\t+ 감가상각비: 64,996 백만원\\n\\t+ 손상차손환입: 98,858 백만원\\n\\t+ 기말 장부금액: 767,633 백만원\\n- 전기\\n\\t+ 기초 장부금액: 513,572 백만원\\n\\t+ 신규설정 및 종료: 165,475 백만원\\n\\t+ 감가상각비: 82,749 백만원\\n\\t+ 손상차손: 4,727 백만원\\n\\t+ 기말 장부금액: 591,571 백만원\\n\\n참고: 표에는 건물, 기계장치, 차량운반구, 기타 등의 사용권자산 항목이 포함되어 있습니다.해당 금융 보고서에서는 사용권자산과 관련된 손익금액을 요약하고 있습니다. 당기 사용권자산 감가상각비는 64,996백만원이며, 사용권자산 손상차손은 98,858백만원으로 환입되었습니다. 리스부채 이자비용은 34,895백만원이며, 단기리스, 소액리스 및 리스부채 측정치에 포함되지 않은 변동리스료 관련 비용은 59,392백만원입니다. 또한, 코로나19로 인한 임차료 할인 등에 대한 실무적 간편법 적용으로 인해 전기에는 28,234백만원의 당기손익이 발생했으며, 인천국제공항 면세점 임차료 감면에 따른 사용권자산 및 리스부채 조정으로 인해 전기에는 11,262백만원의 당기손익이 발생했습니다. 당기 리스로 인한 총 현금유출 금액은 172,458백만원이며, 사용권자산상각비는 매출원가와 판매비와관리비에 포함되어 있습니다.무형자산의 장부금액은 143,135백만원입니다. 주요 구성 요소는 시설이용권(27,536백만원), 회원권(6,354백만원), 기타무형자산(108,308백만원)입니다. 손상차손누계액은 66,273백만원입니다. 전년 대비 무형자산의 장부금액이 53,404백만원 증가했습니다.해당 기업의 무형자산 변동내역은 다음과 같습니다:\\n\\n* 기초 장부금액: 89,731 (전기: 87,897)\\n* 취득: 20,951 (전기: 16,490)\\n* 대체: 54,749 (전기: 8,395)\\n* 처분: -158 (전기: -1)\\n* 상각: -22,316 (전기: -23,044)\\n* 손상차손: - (전기: -6)\\n* 손상차손환입: 178 (전기: -)\\n* 기말 장부금액: 143,135 (전기: 89,731)\\n\\n무형자산상각비는 매출원가에 519백만원, 판매비와관리비에 21,797백만원이 포함되어 있습니다. 당사가 비용으로 인식한 연구와 개발 지출의 총액은 805백만원 (전기: 665백만원)입니다.이 문서는 회사의 차입금과 사채에 대한 정보를 제공합니다. 단기차입금은 710억 원이며 장기차입금은 728억 4100만 원입니다. 총 차입금은 1438억 4100만 원입니다. 사채는 872억 2050만 원이며, 총 부채는 2310억 6100만 원입니다. 이 회사는 재무비율 유지, 자산 처분 제한, 담보권 설정 제한, 신용등급 제한, 자본 유지 조건 등의 약정을 체결하고 있습니다.2022년 12월 31일 기준, 회사의 단기차입금은 710억원으로, 전년 대비 180억원 감소했습니다. 주요 차입처는 신한은행, 농협은행, 하나은행, 부산은행, 다올투자증권 등입니다. 차입금의 최장 만기일은 2024년 2월 29일입니다. 당사는 이자율변동에 따른 현금흐름 변동 위험을 회피하기 위해 이자율스왑거래를 이용하고 있습니다.The company has several long-term borrowings from various lenders, including Mizuho Bank, Industrial Bank of Korea, Woori Bank, KB Livel First Co., Ltd., KS Partnership 2020-1 Co., Ltd., Export-Import Bank of Korea, Daol Investment & Securities Co., Ltd. (KTB Securities), Shinhan Bank, Samsung Securities Co., Ltd., Hana Bank, and E-Star HL Co., Ltd. The total long-term borrowings amount to 1,368,410 million won, with a weighted average interest rate of 4.18%. The company also has several bonds, including 20-1 private placement bonds, 20-2 private placement bonds, 29-2 public offering bonds, 30 private placement bonds, and 35 private placement bonds. The total bond amount is 110,000 million won, with a weighted average interest rate of 3.09%.This table presents the financial information for various types of bonds issued by a company. The table includes the bond type, maturity date, interest rate, and principal amount for each bond. The table contains data for both current and previous periods. The total principal amount for all bonds is $1,053,730. The highest interest rate is 4.12% and the lowest is 1.46%. There are bonds with maturity dates ranging from 2023 to 2036.이 표는 여러 사채(회사채)의 만기일, 연이자율, 금액 등의 정보를 제공합니다. 표에는 64회 사모부터 72회 사모까지 9개의 사채가 나열되어 있습니다. 각 사채의 만기일은 2023년부터 2036년까지 다양합니다. 연이자율은 1.54%에서 5.37%까지 다양합니다. 금액은 32,000에서 290,115까지 범위가 있습니다. 이 표에는 사채할인발행차금, 유동성사채, 비유동성사채 장부가액 등의 정보도 포함되어 있습니다.주어진 페이지에서는 회사와 관련된 두 가지 유형의 부채, 즉 기타금융부채와 기타비금융부채에 대한 재무 정보가 제공됩니다.\\n\\n기타금융부채:\\n\\n1. 유동 기타금융부채: 미지급금, 미지급비용, 금융보증부채, 예수보증금, 파생상품부채.\\n2. 비유동 기타금융부채: 예수보증금, 파생상품부채.\\n3. 총 기타금융부채: KRW 691,104 million (당기말) 및 KRW 840,711 million (전기말).\\n\\n기타비금융부채:\\n\\n1. 유동 기타비금융부채: 선수금, 예수금.\\n2. 비유동 기타비금융부채: 장기종업원급여부채.\\n3. 총 기타비금융부채: KRW 123,022 million (당기말) 및 KRW 115,233 million (전기말).\\n\\n두 부채 항목 모두에서 유동부채는 1년 이내에 만기가 도래하는 부채를 의미하며, 비유동부채는 1년 이상 후에 만기가 도래하는 부채를 의미합니다.2021년 12월 31일 기준, 회사의 유동리스부채는 100,370백만원, 비유동리스부채는 768,770백만원으로 총 869,140백만원입니다. 2020년 12월 31일 기준으로는 유동리스부채가 95,717백만원, 비유동리스부채가 751,993백만원으로 총 847,710백만원입니다. 2021년 12월 31일 기준, 1년 이내 만기도래하는 리스부채의 명목금액은 105,756백만원이며, 현재가치는 100,370백만원입니다. 1년 초과하는 리스부채의 명목금액은 1,193,553백만원이며, 현재가치는 768,770백만원입니다.해당 금융제표 페이지에서는 순확정급여부채(자산)와 장기종업원급여부채에 대한 정보가 제공되고 있습니다. 당기말 순확정급여부채(자산) 금액은 -34,100백만원이며, 장기종업원급여부채는 30,446백만원입니다. 전기말 순확정급여부채(자산) 금액은 -53,787백만원이며, 장기종업원급여부채는 24,454백만원입니다. 또한, 사외적립자산의 공정가치에는 국민연금전환금 35백만원이 포함되어 있습니다.(3) \\n\\n당기 및 전기 중 확정급여채무의 변동내역은 다음과 같습니다.\\n\\n| 구 분 | 당기 | 전기 |\\n| --- | --- | --- |\\n| 기초금액 | 140,181 | 154,511 |\\n| 당기근무원가 | 16,240 | 18,838 |\\n| 이자비용 | 7,686 | 5,077 |\\n| 재측정요소: |  |  |\\n| - 인구통계적가정의 변동으로 인한 보험수리적손익 | -1,661 | -491 |\\n| - 재무적가정의 변동으로 인한 보험수리적손익 | 25,065 | -27,172 |\\n| - 경험적조정으로 인한 보험수리적손익 | 2,339 | 8,117 |\\n| 관계사 전출입 | 2,031 | -3,153 |\\n| 정산된 부채(주1) | -6,978 | -5,195 |\\n| 지급액 | -9,584 | -10,351 |\\n| 기말금액 | 175,319 | 140,181 |\\n\\n(주1) 확정기여형 전환으로 인한 감소액입니다.\\n\\n(4) \\n\\n당기 및 전기 중 사외적립자산의 변동내역은 다음과 같습니다.\\n\\n| 구 분 | 당기 | 전기 |\\n| --- | --- | --- |\\n| 기초금액 | 193,968 | 176,556 |\\n| 이자수익 | 10,829 | 5,853 |\\n| 재측정요소: |  |  |\\n| - 사외적립자산의 수익 | -2,005 | -2,216 |\\n| 지급액 | -9,254 | -8,138 |\\n| 관계사 전출입 | 1,836 | -2,892 |\\n| 정산된 부채(주1) | -6,978 | -5,195 |\\n| 기여금 | 21,023 | 30,000 |\\n| 기말금액 | 209,419 | 193,968 |\\n\\n(주1) 확정기여형 전환으로 인한 감소액입니다.주어진 텍스트에 따르면, 해당 금융 보고서에서는 몇 가지 주요한 재무 정보가 제공됩니다. 사외적립자산은 주로 금리형 보험상품 등으로 구성되어 있으며, 그 금액은 209,419백만 원입니다. 국민연금전환금은 35백만 원으로, 전체 자산의 0.02%를 차지합니다.\\n\\n당기말과 전기말의 공시가격은 각각 209,419백만 원과 193,968백만 원으로, 전체 자산의 100.00%를 차지합니다.\\n\\n주요 보험수리적가정인 할인율과 임금상승률은 각각 4.96 ~ 5.14%와 1.90 ~ 4.00%로 적용되었습니다.\\n\\n민감도 분석 결과, 할인율 변동이 확정급여채무에 가장 큰 영향을 미치며, 1.00% 변동 시 채무가 7.02% 감소하거나 8.07% 증가할 수 있습니다. 임금상승률 변동은 확정급여채무에 1.00% 변동 시 8.14% 증가하거나 7.20% 감소할 수 있습니다. 상쇄효과가 일부 있지만, 확정급여채무는 여전히 가장 유의적인 위험에 노출되어 있습니다.\\n\\n이러한 민감도 분석은 다른 가정은 일정하다는 가정하에 산정되었으며, 주요 보험수리적가정의 변동에 대한 확정급여채무의 민감도는 예측단위접근법을 사용하여 산정되었습니다. 민감도 분석에 사용된 방법과 가정은 전기와 동일합니다.해당 연도의 확정급여제도에 대한 예상 기여금은 19,264백만원입니다. 할인되지 않은 퇴직급여지급액의 만기분석은 각각 18,169백만원, 21,509백만원, 69,184백만원, 563,236백만원이며, 총액은 672,098백만원입니다. 확정급여채무의 가중평균만기는 7.89년입니다. 해당 연도의 확정기여제도 비용은 3,738백만원입니다.해당 금융제표 페이지에서는 당사와 전년도의 법인세비용과 이연법인세에 대한 정보를 제공합니다.\\n\\n당기 법인세부담액은 (179,276) 백만원으로, 전년도 법인세부담액인 13,043 백만원과 비교하여 큰 폭으로 감소하였습니다. 이연법인세는 일시적차이의 증감과 자본에 직접 가감되는 이연법인세를 포함하여 당기는 48,576 백만원, 전년도는 (246,746) 백만원으로 나타났습니다.\\n\\n당기 중 과거 부과처분되어 납부한 법인세와 관련하여 조세심판원의 심판청구 결과 환급받은 171,634백만원이 포함되어 있습니다.\\n\\n법인세비용차감전순이익에 대한 법인세비용과 가중평균세율을 사용하여 이론적으로 계산된 금액과의 차이는 당기는 (69,034) 백만원, 전년도는 (190,859) 백만원으로 나타났습니다. 이 차이는 세무상 과세되지 않는 수익, 세무상 차감되지 않는 비용, 이연법인세 미인식변동효과, 법인세법개정효과, 법인세추납액(환급액), 기타 등의 조정항목으로 구성되어 있습니다.\\n\\n이러한 정보를 통해 회사의 재무상태와 성과에 대한 이해를 높일 수 있습니다.해당 페이지에서는 법인세율 인하와 수입배당금 익금불산입률 개정에 따른 자본에 직접 반영된 법인세효과와 이연법인세자산 및 부채의 변동에 대한 정보가 제공됩니다. 기타포괄손익-공정가치측정 금융자산평가손익, 순확정급여부채의 재측정요소 등이 반영 전/후 수치와 법인세효과를 포함하여 표로 정리되어 있습니다. 또한, 이연법인세자산 및 부채의 변동에 대한 표도 제공되며, 토지재평가차익, 종속기업 및 관계기업 투자, 퇴직보험예치금 등이 포함됩니다. 이월결손금, 감가상각비, 퇴직급여충당금, 장기종업원급여, 연차수당, 고객충성제도, 파생상품평가이익, 자기주식, 금융보증부채 등의 항목도 포함되어 있습니다.The table provides a comparison of various financial items between the current period and the previous period. In the current period, the company has a net lease deposit of 31,388 million won, a provision for doubtful accounts of 4,023 million won, a lease liability of 174,954 million won, and a deferred tax asset of 665,468 million won.\\n\\nIn the previous period, the company had a net land revaluation surplus of 986,267 million won, an investment in subsidiaries and affiliates of 143,355 million won, a fair value measurement of financial assets of 18,878 million won, a retirement pension deposit of 43,666 million won, and a deferred tax liability of 1,339,765 million won.The financial statement shows that as of the end of the reporting period, the company has recognized no deferred tax assets. The temporary differences that have not been recognized as deferred tax assets amount to 1,416,773 million won, which is a combination of impairment losses on investments in subsidiaries and affiliates (1,403,597 million won) and unused tax losses (13,176 million won). The unused tax losses have a longest expiration date of December 31, 2028.\\n\\nThe company has changed its accounting policy for measuring deferred tax liabilities. Previously, the company used the average tax rate expected to be applied to taxable income before tax adjustments in future years when temporary differences are expected to reverse and when available tax loss carryforwards are expected to be used. However, following K-IFRS Interpretation 2023-I-KQA007, the company now uses the average tax rate expected to be applied to taxable income after tax adjustments, but applies the lowest tax rate in the future expected progressive tax rate system if future taxable income is expected to be zero or below. The company believes that this change improves the reliability and relevance of its financial information, but did not restate prior financial statements as the effect of the change was not considered significant.이 문서는 대한민국의 필라 2 법률에 대해 언급하고 있으며, 이 법률은 2024년부터 글로벌 최저한세 관련 법률을 시행합니다. 이 법률에 따라, 해당 기업은 15% 미만의 유효세율로 과세된 종속기업의 이익에 대한 추가 세금을 대한민국에 납부해야 합니다. 그러나, 기업은 이연법인세에 대한 일시적인 예외를 적용하고 있으며, 이연법인세와 관련된 정보를 공시하지 않습니다.\\n\\n다음으로, 이 문서에서는 기업의 이연수익 내역을 제공합니다. 유동 이연수익은 47,884백만원(선수수익)과 15,309백만원(고객충성제도)으로, 총 63,193백만원입니다. 비유동 이연수익은 26,899백만원(선수수익)입니다. 이연수익의 총액은 90,092백만원입니다.해당 재무제표의 24번 항목은 당사의 충당부채 내역을 보여주고 있습니다. 충당부채는 1,141,902백만원이며, 전기말 대비 276,710백만원 증가하였습니다. 이 중 유동성 충당부채는 1,124,194백만원이고, 비유동성 충당부채는 17,708백만원입니다. 주요 충당부채 계정과목은 반품충당부채, 지급보증충당부채, 소송충당부채, 복구충당부채 등이 있습니다. 25번 항목은 우발부채와 약정사항을 나타내고 있으며, 이행보증과 임대보증금 반납보증을 위한 견질어음과 수표 등이 포함되어 있습니다.해당 기업은 KB국민은행, 우리은행, 신한은행 등 여러 금융기관과 금융약정을 맺고 있습니다. 약정 종류는 구매론, 외화대출, 전자외상매출채권담보대출, 일반자금대출, 시설자금약정대출, 수입신용장발행, CP할인어음, 상생결제론, 동반성장론 등이 있습니다. 약정액은 원화와 USD로 표시되어 있으며, 당해연도 말 기준 약정액은 1,815,700백만원, 전기에 발생한 금액은 917,000백만원입니다.\\n\\n또한, 기업에서는 부산광역시와 국민은행에 담보를 제공하고 있습니다. 담보 종류는 지분증권, 단기금융상품, 현금 및 현금성 자산 등이 있으며, 당해연도 말 기준 담보 장부가액은 42,029백만원, 전기에 발생한 금액은 51,251백만원입니다.해당 페이지에는 회사의 계류 중인 소송 사건과 타인을 위해 제공된 지급 보증에 대한 정보가 포함되어 있습니다.\\n\\n계류 중인 소송 사건:\\n- 피고로 계류 중인 소송 사건: 14건, 소송금액: 33,002억원 (전기말: 18건, 28,460억원)\\n- 원고로 계류 중인 소송 사건: 9건, 소송금액: 38,043백만원 (전기말: 13건, 24,340백만원)\\n- 보고기간 이후인 2024년 1월 10일에 패소 판결된 소송 사건 1건, 소송충당부채로 확정\\n\\n타인을 위해 제공된 지급 보증:\\n- 원리금 등 지급 의무: USD, RUB, KRW, EUR, JPY, VND, AUD 등 다양한 통화로 보증 제공\\n- 주요 피보증인: JSC Lotte Rus, Lotte Properties (Shenyang), Lotte Duty Free Singapore Pte, Ltd., Lotte Hotel Vietnam Co., Ltd., Lotte Duty Free Kansai Co., Ltd., Lotte Hotel New York Palace, LLC., Lotte Hotel Holdings Europe B.V., Lotte Hotel Arai Co., Ltd., Lotte Hotel St. Petersburg LLC, Posco International Global Development Pte. Ltd., Lotte Phu Khanh Duty Free Trading Co., Ltd., Lotte Travel Retail Australia Pty Ltd.\\n- 보증 금액: USD, RUB, KRW, EUR, JPY, VND, AUD 등 다양한 통화로 보증 제공\\n- 보증 금액: USD, RUB, KRW, EUR, JPY, VND, AUD 등 다양한 통화로 보증 제공\\n\\n지급 보증에 대한 자세한 내용은 해당 페이지의 표를 참조하시기 바랍니다.\",\n",
       "  'response': \"{'stance': True, 'insight_1': '강화된 재무상태: 2023년 재무제표는 전년 대비 총자산 4.6% 증가하여 재무상태가 강화되었음을 나타냅니다.', 'insight_2': '순이익 증가: 2023년 순이익은 2022년 대비 14.5% 증가하여 회사의 수익성이 향상되었음을 보여줍니다.', 'insight_3': '차입금 의존도 감소: 회사의 총 부채는 2022년 대비 2.9% 감소하여 차입금 의존도가 감소하고 재무 안정성이 향상되었음을 시사합니다.'}\"}]"
      ]
     },
     "execution_count": 34,
     "metadata": {},
     "output_type": "execute_result"
    }
   ],
   "source": [
    "def prep_finetune_data(data_list):\n",
    "    final_data = []\n",
    "    for data in data_list['processed_data']:\n",
    "        response = str(prompt_llm(data))\n",
    "        if response is not None:\n",
    "            grounded = groundedness_check(data,response)\n",
    "            if grounded:\n",
    "                final_data.append({\n",
    "                    'context': data,\n",
    "                    'response': response\n",
    "                })\n",
    "            else:\n",
    "                continue\n",
    "    return final_data\n",
    "data_list = prep_finetune_data(data_df)\n",
    "data_list"
   ]
  },
  {
   "cell_type": "code",
   "execution_count": 35,
   "metadata": {},
   "outputs": [],
   "source": [
    "def dataset_to_csv(data_list, file_name, max_entry=-1):\n",
    "    rng = default_rng(seed=14)\n",
    "    test_index = rng.choice(len(data_list), size=round(0.25*len(data_list)), replace=False)\n",
    "    template = {\n",
    "        \"prompt\":   \"\"\"\n",
    "                    <|im_start|>system\n",
    "                    You are a bank loan assistant tasked with determining the suitability of a loan applicant based on their provided financial statements. You must:\n",
    "\n",
    "                        1. Analyze the latest financial data provided.\n",
    "                        2. Decide whether the applicant is suitable for a loan.\n",
    "                        3. Provide three reasons or insights supporting your decision.\n",
    "\n",
    "                    Your insights must be backed up with financial figures.\n",
    "\n",
    "                    Your response MUST be in JSON format, following the example below:\n",
    "\n",
    "                    {{\n",
    "                        \"stance\": True,\n",
    "                        \"insight_1\": \"Example of the first insight\",\n",
    "                        \"insight_2\": \"Example of the second insight\",\n",
    "                        \"insight_3\": \"Example of the third insight\"\n",
    "                    }}\n",
    "\n",
    "                    <|im_start|> user\n",
    "                    These are the applicant's financial statements:\n",
    "                    {context}\n",
    "                    \"\"\",\n",
    "        \"completion\":'{response}<|im_end|>',\n",
    "        \"split\": \"train\"\n",
    "    }\n",
    "    with open(file_name, 'w', newline='', encoding='utf-8') as f:\n",
    "        fieldnames = template.keys()\n",
    "        writer = csv.DictWriter(f, fieldnames)\n",
    "        writer.writeheader()\n",
    "        for i, data in enumerate(data_list):\n",
    "            if i >= max_entry:\n",
    "                break\n",
    "            if i in test_index:\n",
    "                template[\"split\"] = \"test\"\n",
    "            row = {\n",
    "                \"prompt\":template['prompt'].format(context=data['context']),\n",
    "                \"completion\":template['completion'].format(response=data['response']),\n",
    "                \"split\":template[\"split\"] \n",
    "            }\n",
    "            writer.writerow(row)\n",
    "    f.close()"
   ]
  },
  {
   "cell_type": "code",
   "execution_count": 38,
   "metadata": {},
   "outputs": [],
   "source": [
    "dataset_to_csv(\n",
    "    data_list=data_list,\n",
    "    file_name='traintestv6.csv',\n",
    "    max_entry=len(data_list)\n",
    ")"
   ]
  },
  {
   "cell_type": "code",
   "execution_count": 39,
   "metadata": {},
   "outputs": [],
   "source": [
    "file_name = 'traintestv6.csv'\n",
    "pb_dataset = pb.datasets.from_file(file_name)"
   ]
  },
  {
   "cell_type": "code",
   "execution_count": 21,
   "metadata": {},
   "outputs": [
    {
     "data": {
      "text/plain": [
       "True"
      ]
     },
     "execution_count": 21,
     "metadata": {},
     "output_type": "execute_result"
    }
   ],
   "source": [
    "def evaluate_qa_pairs(file_name):\n",
    "    '''VALIDATION FOR VALID PROMPT, COMPLETION AND SPLIT'''\n",
    "    with open(file_name, 'r', encoding='utf-8') as f:\n",
    "        reader = csv.DictReader(f)\n",
    "        for row in reader:\n",
    "            prompt, completion, split = row[\"prompt\"], row[\"completion\"], row[\"split\"]\n",
    "            assert prompt\n",
    "            assert completion\n",
    "            assert split\n",
    "    return True\n",
    "evaluate_qa_pairs('traintestv6.csv')"
   ]
  },
  {
   "cell_type": "markdown",
   "metadata": {},
   "source": [
    "Create Predibase Repo"
   ]
  },
  {
   "cell_type": "code",
   "execution_count": 22,
   "metadata": {},
   "outputs": [
    {
     "name": "stdout",
     "output_type": "stream",
     "text": [
      "uuid='fccfec2e-fce7-4a22-b23f-82123488685a' name='daechul-ai-modelv4' description='AI Evaluation Model for Daechul AI'\n"
     ]
    }
   ],
   "source": [
    "def _init_repo_(repo_name='daechul-ai-modelv4'):\n",
    "    repo = pb.repos.create(name=repo_name, description=\"AI Evaluation Model for Daechul AI\", exists_ok=True)\n",
    "    print(repo)\n",
    "    return repo\n",
    "repo = _init_repo_()"
   ]
  },
  {
   "cell_type": "markdown",
   "metadata": {},
   "source": [
    "### Fine-Tuning"
   ]
  },
  {
   "cell_type": "code",
   "execution_count": 49,
   "metadata": {},
   "outputs": [
    {
     "name": "stdout",
     "output_type": "stream",
     "text": [
      "Successfully requested finetuning of solar-1-mini-chat-240612 as `daechul-ai-modelv4/7`. (Job UUID: cedd8934-1dfe-44a6-a343-7d2d04628016).\n",
      "\n",
      "Watching progress of finetuning job cedd8934-1dfe-44a6-a343-7d2d04628016. This call will block until the job has finished. Canceling or terminating this call will NOT cancel or terminate the job itself.\n",
      "\n",
      "Job is starting. Total queue time: 0:00:45         \n",
      "Waiting to receive training metrics...\n",
      "\n",
      "┌────────────┬────────────┬─────────────────┐\n",
      "│ checkpoint \u001b[0m│ train_loss \u001b[0m│ validation_loss \u001b[0m│\n",
      "├────────────┼────────────┼─────────────────┤\n",
      "│     1      \u001b[0m│   0.2735   \u001b[0m│        --       \u001b[0m│\n",
      "│     2      \u001b[0m│   0.3051   \u001b[0m│        --       \u001b[0m│\n",
      "└────────────┴────────────┴─────────────────┘\n"
     ]
    }
   ],
   "source": [
    "adapter = pb.adapters.create(\n",
    "    config=FinetuningConfig(\n",
    "        base_model=base_model,\n",
    "        epochs=2,\n",
    "        rank=32,\n",
    "        learning_rate=1e-3\n",
    "    ),\n",
    "    dataset=pb_dataset,\n",
    "    repo=repo,\n",
    "    description=\"Initial Daechul.AI model with defaults\"\n",
    ")"
   ]
  },
  {
   "cell_type": "markdown",
   "metadata": {},
   "source": [
    "Fine-Tuned Adapter ID"
   ]
  },
  {
   "cell_type": "code",
   "execution_count": 52,
   "metadata": {},
   "outputs": [
    {
     "data": {
      "text/plain": [
       "'daechul-ai-modelv4/7'"
      ]
     },
     "execution_count": 52,
     "metadata": {},
     "output_type": "execute_result"
    }
   ],
   "source": [
    "# Get adapter ID\n",
    "adapter_id = adapter.repo + \"/\" + str(adapter.tag)\n",
    "adapter_id"
   ]
  },
  {
   "cell_type": "markdown",
   "metadata": {},
   "source": [
    "Query Adapter Function"
   ]
  },
  {
   "cell_type": "code",
   "execution_count": 50,
   "metadata": {},
   "outputs": [
    {
     "data": {
      "text/plain": [
       "{'stance': True,\n",
       " 'insight_1': \"The company's net income for the fiscal year ending December 31, 2020, was $2,000,000, indicating a profitable year.\",\n",
       " 'insight_2': \"The company's debt-to-equity ratio was 0.5, suggesting a low level of debt relative to equity.\",\n",
       " 'insight_3': \"The company's return on equity was 20%, indicating a strong profitability for shareholders.\"}"
      ]
     },
     "execution_count": 50,
     "metadata": {},
     "output_type": "execute_result"
    }
   ],
   "source": [
    "def query_adapter(adapter_id, context, tenant_id=tenant_id, base_model=base_model, PB_API_KEY = PB_API_KEY):\n",
    "    prompt = f\"\"\"\n",
    "            <|im_start|> system\n",
    "            You are a bank loan assistant tasked with determining the suitability of a loan applicant based on their provided financial statements. You must:\n",
    "\n",
    "            1. Analyze the latest financial data provided.\n",
    "            2. Decide whether the applicant is suitable for a loan.\n",
    "            3. Provide three reasons or insights supporting your decision.\n",
    "\n",
    "            Your insights must be backed up with financial figures.\n",
    "\n",
    "            The output must be in JSON format, following the example below STRICTLY:\n",
    "\n",
    "            {{\n",
    "                \"stance\": true,\n",
    "                \"insight_1\": \"Example of the first insight\",\n",
    "                \"insight_2\": \"Example of the second insight\",\n",
    "                \"insight_3\": \"Example of the third insight\"\n",
    "            }}\n",
    "\n",
    "            <|im_start|> user\n",
    "            These are the applicant's financial statements:\n",
    "            {context}\n",
    "    \"\"\"\n",
    "    # Send POST request\n",
    "    url = f\"https://serving.app.predibase.com/{tenant_id}/deployments/v2/llms/{base_model}/generate\"\n",
    "    payload = {\n",
    "        \"inputs\": prompt,\n",
    "        \"parameters\": {\n",
    "            \"adapter_id\": adapter_id,\n",
    "            \"adapter_source\": \"pbase\",\n",
    "            \"temperature\": 0.1,\n",
    "            \"max_new_tokens\": 300\n",
    "        }\n",
    "    }\n",
    "    headers = {\n",
    "        \"Content-Type\": \"application/json\",\n",
    "        \"Authorization\": f\"Bearer {PB_API_KEY}\"\n",
    "    }\n",
    "    response = requests.post(\n",
    "        url=url, \n",
    "        data=json.dumps(payload),\n",
    "        headers=headers\n",
    "    )\n",
    "    return json.loads(json.loads(response.text)['generated_text'])\n",
    "resp = query_adapter(\n",
    "    adapter=adapter,\n",
    "    context=test_context\n",
    ")\n",
    "resp"
   ]
  },
  {
   "cell_type": "markdown",
   "metadata": {},
   "source": [
    "### Backend LLM Function"
   ]
  },
  {
   "cell_type": "code",
   "execution_count": 53,
   "metadata": {},
   "outputs": [
    {
     "data": {
      "text/html": [
       "<pre style=\"white-space:pre;overflow-x:auto;line-height:normal;font-family:Menlo,'DejaVu Sans Mono',consolas,'Courier New',monospace\"><span style=\"color: #000080; text-decoration-color: #000080; font-weight: bold\">Connected to Predibase as </span><span style=\"color: #800080; text-decoration-color: #800080; font-weight: bold\">User</span><span style=\"color: #000080; text-decoration-color: #000080; font-weight: bold\">(</span><span style=\"color: #808000; text-decoration-color: #808000; font-weight: bold\">id</span><span style=\"color: #000080; text-decoration-color: #000080; font-weight: bold\">=</span><span style=\"color: #ffff00; text-decoration-color: #ffff00\">ff9179be</span><span style=\"color: #ffff00; text-decoration-color: #ffff00\">-dcd1-42bb-8713-c669d1f39e37</span><span style=\"color: #000080; text-decoration-color: #000080; font-weight: bold\">, </span><span style=\"color: #808000; text-decoration-color: #808000; font-weight: bold\">username</span><span style=\"color: #000080; text-decoration-color: #000080; font-weight: bold\">=</span><span style=\"color: #800080; text-decoration-color: #800080; font-weight: bold\">leftysg555</span><span style=\"color: #000080; text-decoration-color: #000080; font-weight: bold\">@gmail.com)</span>\n",
       "</pre>\n"
      ],
      "text/plain": [
       "\u001b[1;34mConnected to Predibase as \u001b[0m\u001b[1;35mUser\u001b[0m\u001b[1;34m(\u001b[0m\u001b[1;33mid\u001b[0m\u001b[1;34m=\u001b[0m\u001b[93mff9179be\u001b[0m\u001b[93m-dcd1-42bb-8713-c669d1f39e37\u001b[0m\u001b[1;34m, \u001b[0m\u001b[1;33musername\u001b[0m\u001b[1;34m=\u001b[0m\u001b[1;35mleftysg555\u001b[0m\u001b[1;34m@gmail.com\u001b[0m\u001b[1;34m)\u001b[0m\n"
      ]
     },
     "metadata": {},
     "output_type": "display_data"
    }
   ],
   "source": [
    "import requests\n",
    "from io import BytesIO\n",
    "import json\n",
    "import requests\n",
    "from openai import OpenAI\n",
    "from predibase import Predibase\n",
    "\n",
    "load_dotenv()\n",
    "\n",
    "\n",
    "UPSTAGE_API_KEY = os.environ['UPSTAGE_API_KEY']\n",
    "PB_API_KEY = os.environ['PB_API_KEY']\n",
    "tenant_id = os.environ['TENANT_ID']\n",
    "base_model = \"solar-1-mini-chat-240612\"\n",
    "adapter_id = 'daechul-ai-modelv4/7'\n",
    "pb = Predibase(api_token=PB_API_KEY)\n",
    "pb\n",
    "client = OpenAI(\n",
    "    api_key=UPSTAGE_API_KEY,\n",
    "    base_url=\"https://api.upstage.ai/v1/solar\"\n",
    ")\n",
    "\n",
    "def query_adapter(context, adapter_id=adapter_id, tenant_id=tenant_id, base_model=base_model, PB_API_KEY = PB_API_KEY):\n",
    "    prompt = f\"\"\"\n",
    "            <|im_start|> system\n",
    "            You are a bank loan assistant tasked with determining the suitability of a loan applicant based on their provided financial statements. You must:\n",
    "\n",
    "            1. Analyze the latest financial data provided.\n",
    "            2. Decide whether the applicant is suitable for a loan.\n",
    "            3. Provide three reasons or insights supporting your decision.\n",
    "\n",
    "            Your insights must be backed up with financial figures.\n",
    "\n",
    "            The output must be in JSON format, following the example below STRICTLY:\n",
    "\n",
    "            {{\n",
    "                \"stance\": true,\n",
    "                \"insight_1\": \"Example of the first insight\",\n",
    "                \"insight_2\": \"Example of the second insight\",\n",
    "                \"insight_3\": \"Example of the third insight\"\n",
    "            }}\n",
    "\n",
    "            <|im_start|> user\n",
    "            These are the applicant's financial statements:\n",
    "            {context}\n",
    "    \"\"\"\n",
    "    # Send POST request\n",
    "    url = f\"https://serving.app.predibase.com/{tenant_id}/deployments/v2/llms/{base_model}/generate\"\n",
    "    payload = {\n",
    "        \"inputs\": prompt,\n",
    "        \"parameters\": {\n",
    "            \"adapter_id\": adapter_id,\n",
    "            \"adapter_source\": \"pbase\",\n",
    "            \"temperature\": 0.1,\n",
    "            \"max_new_tokens\": 300\n",
    "        }\n",
    "    }\n",
    "    headers = {\n",
    "        \"Content-Type\": \"application/json\",\n",
    "        \"Authorization\": f\"Bearer {PB_API_KEY}\"\n",
    "    }\n",
    "    response = requests.post(\n",
    "        url=url, \n",
    "        data=json.dumps(payload),\n",
    "        headers=headers\n",
    "    )\n",
    "    return json.loads(json.loads(response.text)['generated_text'])\n",
    "\n",
    "def prompt_llm(context, client=client):\n",
    "    stream = client.chat.completions.create(\n",
    "        model='solar-1-mini-chat',\n",
    "        messages=[\n",
    "            {\n",
    "                \"role\": \"system\",\n",
    "                \"content\": \"\"\"\n",
    "                You are a bank loan assistant tasked with determining the suitability of a loan applicant based on their provided financial statements. You must:\n",
    "\n",
    "                    1. Analyze the latest financial data provided.\n",
    "                    2. Decide whether the applicant is suitable for a loan.\n",
    "                    3. Provide three reasons or insights supporting your decision.\n",
    "\n",
    "                Your insights must be backed up with financial figures. Be as critical as possible\n",
    "\n",
    "                Your response MUST be in JSON format, following the example below:\n",
    "\n",
    "                {\n",
    "                    \"stance\": true,\n",
    "                    \"insight_1\": \"Example of the first insight\",\n",
    "                    \"insight_2\": \"Example of the second insight\",\n",
    "                    \"insight_3\": \"Example of the third insight\"\n",
    "                }\n",
    "                \"\"\"\n",
    "            }, \n",
    "            {\n",
    "                \"role\": \"user\",\n",
    "                \"content\": f\"\"\"\n",
    "                These are the applicant's financial statements provided:\n",
    "                {context}\n",
    "                \"\"\"\n",
    "            }\n",
    "        ],\n",
    "        stream=False\n",
    "    )\n",
    "    try:\n",
    "        response = json.loads(stream.choices[0].message.content.replace(\"\\n\",\"\"))\n",
    "    except:\n",
    "        return None\n",
    "    return response\n",
    "\n",
    "def prompt_summarize(context, client=client):\n",
    "    stream = client.chat.completions.create(\n",
    "        model='solar-1-mini-chat',\n",
    "        messages=[\n",
    "            {\n",
    "                \"role\": \"system\",\n",
    "                \"content\": \"\"\"\n",
    "                You are an expert in financial analysis. Below is a page from a financial statement document. \n",
    "                Your task is to summarize the key financial information, including all relevant numerical figures, trends, and notable observations. \n",
    "                Ensure that no important numerical data is omitted. Your summary should be clear, concise, and no longer than 200 words, focusing only on the most significant details. \n",
    "                If you find the page lacks sufficient information for a summary, you MUST return an empty response.\n",
    "                \"\"\"\n",
    "            }, \n",
    "            {\n",
    "                \"role\": \"user\",\n",
    "                \"content\": f\"\"\"\n",
    "                This is the text you are to summarize:\n",
    "                {context}\n",
    "                \"\"\"\n",
    "            }\n",
    "        ],\n",
    "        stream=False\n",
    "    )\n",
    "    response = stream.choices[0].message.content\n",
    "    return response\n",
    "\n",
    "def loan_evaluation(file_url,url=\"https://api.upstage.ai/v1/document-ai/layout-analysis\", API_KEY=UPSTAGE_API_KEY):\n",
    "    response = requests.get(file_url)\n",
    "    response.raise_for_status()  \n",
    "\n",
    "    # Load the file into a BytesIO object\n",
    "    file_data = BytesIO(response.content)\n",
    "\n",
    "    headers = {\"Authorization\": f\"Bearer {API_KEY}\"}\n",
    "    files = {\"document\": file_data}\n",
    "\n",
    "    # Post request to the API\n",
    "    api_response = requests.post(url, headers=headers, files=files)\n",
    "    api_response.raise_for_status()  \n",
    "    \n",
    "    obj = api_response.json()\n",
    "\n",
    "    # Extract information\n",
    "    context = ''\n",
    "    for page in range(obj['billed_pages']):\n",
    "        page_content = ''\n",
    "        for element in obj['elements']:\n",
    "            if element['page'] == page:\n",
    "                if element['category'] == 'table':\n",
    "                    page_content += f\"\\n{element['html']}\"\n",
    "                else:\n",
    "                    page_content += f\"\\n{element['text']}\"\n",
    "        context += prompt_summarize(page_content)\n",
    "\n",
    "    loan_results=query_adapter(context)\n",
    "    \n",
    "    return loan_results"
   ]
  },
  {
   "cell_type": "markdown",
   "metadata": {},
   "source": [
    "Example Usage"
   ]
  },
  {
   "cell_type": "code",
   "execution_count": 55,
   "metadata": {},
   "outputs": [],
   "source": [
    "loan_results=loan_evaluation('https://utfs.io/f/2d94c9cb-82b5-4a15-b6fe-aa1f42820a91-aakpmq.pdf')"
   ]
  },
  {
   "cell_type": "code",
   "execution_count": 56,
   "metadata": {},
   "outputs": [
    {
     "name": "stdout",
     "output_type": "stream",
     "text": [
      "{'stance': True, 'insight_1': 'The company has a strong balance sheet with a substantial equity base of $30,000,000, which indicates financial stability and a lower risk of default on loans.', 'insight_2': \"The company's revenue growth of $40,000,000 and net income margin of 50% ($20,000,000 net income) demonstrate profitability and potential for loan repayment.\", 'insight_3': \"The plant-based meat market is experiencing rapid growth, with a projected CAGR of 19.4% from 2023 to 2030, indicating a promising market for FFC LLC's products and potential for loan repayment.\"}\n"
     ]
    }
   ],
   "source": [
    "print(loan_results)"
   ]
  }
 ],
 "metadata": {
  "kernelspec": {
   "display_name": ".venv",
   "language": "python",
   "name": "python3"
  },
  "language_info": {
   "codemirror_mode": {
    "name": "ipython",
    "version": 3
   },
   "file_extension": ".py",
   "mimetype": "text/x-python",
   "name": "python",
   "nbconvert_exporter": "python",
   "pygments_lexer": "ipython3",
   "version": "3.11.9"
  }
 },
 "nbformat": 4,
 "nbformat_minor": 2
}
