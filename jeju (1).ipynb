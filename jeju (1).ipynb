{
 "cells": [
  {
   "cell_type": "markdown",
   "metadata": {},
   "source": [
    "# **대출.AI** [UPSTAGE API MODEL FINE-TUNING]"
   ]
  },
  {
   "cell_type": "markdown",
   "metadata": {},
   "source": [
    "Importing Libraries"
   ]
  },
  {
   "cell_type": "code",
   "execution_count": 2,
   "metadata": {},
   "outputs": [
    {
     "data": {
      "text/plain": [
       "False"
      ]
     },
     "execution_count": 2,
     "metadata": {},
     "output_type": "execute_result"
    }
   ],
   "source": [
    "import requests\n",
    "import json\n",
    "from llama_index.llms.upstage import Upstage\n",
    "import requests\n",
    "from openai import OpenAI\n",
    "from dotenv import load_dotenv\n",
    "from predibase import Predibase, FinetuningConfig, DeploymentConfig\n",
    "import csv\n",
    "import numpy as np\n",
    "from numpy.random import default_rng\n",
    "import os\n",
    "import pandas as pd\n",
    "import glob\n",
    "load_dotenv()"
   ]
  },
  {
   "cell_type": "markdown",
   "metadata": {},
   "source": [
    "Extract environment keys, set up Upstage API and Predibase"
   ]
  },
  {
   "cell_type": "code",
   "execution_count": 5,
   "metadata": {},
   "outputs": [
    {
     "data": {
      "text/html": [
       "<pre style=\"white-space:pre;overflow-x:auto;line-height:normal;font-family:Menlo,'DejaVu Sans Mono',consolas,'Courier New',monospace\"><span style=\"color: #000080; text-decoration-color: #000080; font-weight: bold\">Connected to Predibase as </span><span style=\"color: #800080; text-decoration-color: #800080; font-weight: bold\">User</span><span style=\"color: #000080; text-decoration-color: #000080; font-weight: bold\">(</span><span style=\"color: #808000; text-decoration-color: #808000; font-weight: bold\">id</span><span style=\"color: #000080; text-decoration-color: #000080; font-weight: bold\">=</span><span style=\"color: #ffff00; text-decoration-color: #ffff00\">ff9179be</span><span style=\"color: #ffff00; text-decoration-color: #ffff00\">-dcd1-42bb-8713-c669d1f39e37</span><span style=\"color: #000080; text-decoration-color: #000080; font-weight: bold\">, </span><span style=\"color: #808000; text-decoration-color: #808000; font-weight: bold\">username</span><span style=\"color: #000080; text-decoration-color: #000080; font-weight: bold\">=</span><span style=\"color: #800080; text-decoration-color: #800080; font-weight: bold\">leftysg555</span><span style=\"color: #000080; text-decoration-color: #000080; font-weight: bold\">@gmail.com)</span>\n",
       "</pre>\n"
      ],
      "text/plain": [
       "\u001b[1;34mConnected to Predibase as \u001b[0m\u001b[1;35mUser\u001b[0m\u001b[1;34m(\u001b[0m\u001b[1;33mid\u001b[0m\u001b[1;34m=\u001b[0m\u001b[93mff9179be\u001b[0m\u001b[93m-dcd1-42bb-8713-c669d1f39e37\u001b[0m\u001b[1;34m, \u001b[0m\u001b[1;33musername\u001b[0m\u001b[1;34m=\u001b[0m\u001b[1;35mleftysg555\u001b[0m\u001b[1;34m@gmail.com\u001b[0m\u001b[1;34m)\u001b[0m\n"
      ]
     },
     "metadata": {},
     "output_type": "display_data"
    }
   ],
   "source": [
    "UPSTAGE_API_KEY = os.environ['UPSTAGE_API_KEY']\n",
    "PB_API_KEY = os.environ['PB_API_KEY']\n",
    "tenant_id = os.environ['TENANT_ID']\n",
    "base_model = \"solar-1-mini-chat-240612\"\n",
    "pb = Predibase(api_token=PB_API_KEY)\n",
    "pb\n",
    "client = OpenAI(\n",
    "    api_key=UPSTAGE_API_KEY,\n",
    "    base_url=\"https://api.upstage.ai/v1/solar\"\n",
    ")\n"
   ]
  },
  {
   "cell_type": "markdown",
   "metadata": {},
   "source": [
    "Summarize Model"
   ]
  },
  {
   "cell_type": "code",
   "execution_count": 23,
   "metadata": {},
   "outputs": [],
   "source": [
    "def prompt_summarize(context, client=client):\n",
    "    stream = client.chat.completions.create(\n",
    "        model='solar-1-mini-chat',\n",
    "        messages=[\n",
    "            {\n",
    "                \"role\": \"system\",\n",
    "                \"content\": \"\"\"\n",
    "                You are an expert in financial analysis. Below is a page from a financial statement document. \n",
    "                Your task is to summarize the key financial information, including all relevant numerical figures, trends, and notable observations. \n",
    "                Ensure that no important numerical data is omitted. Your summary should be clear, concise, and no longer than 200 words, focusing only on the most significant details. \n",
    "                If you find the page lacks sufficient information for a summary, you MUST return an empty response.\n",
    "                \"\"\"\n",
    "            }, \n",
    "            {\n",
    "                \"role\": \"user\",\n",
    "                \"content\": f\"\"\"\n",
    "                This is the text you are to summarize:\n",
    "                {context}\n",
    "                \"\"\"\n",
    "            }\n",
    "        ],\n",
    "        stream=False\n",
    "    )\n",
    "    response = stream.choices[0].message.content\n",
    "    return response"
   ]
  },
  {
   "cell_type": "markdown",
   "metadata": {},
   "source": [
    "Data Preprocessing"
   ]
  },
  {
   "cell_type": "code",
   "execution_count": 24,
   "metadata": {},
   "outputs": [],
   "source": [
    "def process_documents(filepath, url = \"https://api.upstage.ai/v1/document-ai/layout-analysis\", API_KEY = UPSTAGE_API_KEY):\n",
    "    # Prepare request\n",
    "    headers = {\"Authorization\": f\"Bearer {API_KEY}\"}\n",
    "    files = {\"document\": open(filepath, \"rb\")}\n",
    "    # Post request\n",
    "    response = requests.post(url, headers=headers, files=files)\n",
    "    # Get response JSON object\n",
    "    obj = response.json()\n",
    "    # Extract information\n",
    "    context = ''\n",
    "    for page in range(obj['billed_pages']):\n",
    "        page_content = ''\n",
    "        for element in obj['elements']:\n",
    "            if element['page'] == page:\n",
    "                if element['category'] == 'table':\n",
    "                    page_content += f\"\\n{element['html']}\"\n",
    "                else:\n",
    "                    page_content += f\"\\n{element['text']}\"\n",
    "        context += prompt_summarize(page_content)\n",
    "    return context"
   ]
  },
  {
   "cell_type": "code",
   "execution_count": 25,
   "metadata": {},
   "outputs": [],
   "source": [
    "def extract_pdf_files(directory):\n",
    "    pdf_files = []\n",
    "    for root, dirs, files in os.walk(directory):\n",
    "        for file in files:\n",
    "            if file.lower().endswith('.pdf'):\n",
    "                pdf_files.append(os.path.join(root, file))\n",
    "    return pdf_files"
   ]
  },
  {
   "cell_type": "code",
   "execution_count": 26,
   "metadata": {},
   "outputs": [],
   "source": [
    "def batch_process(pdf_urls = []):\n",
    "    results = []\n",
    "    pdf_files = pdf_urls\n",
    "    for filename in pdf_files:\n",
    "        try:\n",
    "            context = process_documents(filepath=filename)\n",
    "            results.append({\n",
    "                \"filename\": os.path.basename(filename),\n",
    "                \"processed_data\": context\n",
    "            })\n",
    "        except Exception as e:\n",
    "            print(f\"Error processing {filename}: {e}\")\n",
    "    df = pd.DataFrame(results)\n",
    "    return df\n",
    "data_df = batch_process(extract_pdf_files(\"./\"))"
   ]
  },
  {
   "cell_type": "markdown",
   "metadata": {},
   "source": [
    "Baseline Solar Model"
   ]
  },
  {
   "cell_type": "code",
   "execution_count": 27,
   "metadata": {},
   "outputs": [],
   "source": [
    "def prompt_llm(context, client=client):\n",
    "    stream = client.chat.completions.create(\n",
    "        model='solar-1-mini-chat',\n",
    "        messages=[\n",
    "            {\n",
    "                \"role\": \"system\",\n",
    "                \"content\": \"\"\"\n",
    "                You are a bank loan assistant tasked with determining the suitability of a loan applicant based on their provided financial statements. You must:\n",
    "\n",
    "                    1. Analyze the latest financial data provided.\n",
    "                    2. Decide whether the applicant is suitable for a loan.\n",
    "                    3. Provide three reasons or insights supporting your decision.\n",
    "\n",
    "                Your insights must be backed up with financial figures.\n",
    "\n",
    "                Your response MUST be in JSON format, following the example below:\n",
    "\n",
    "                {\n",
    "                    \"stance\": true,\n",
    "                    \"insight_1\": \"Example of the first insight\",\n",
    "                    \"insight_2\": \"Example of the second insight\",\n",
    "                    \"insight_3\": \"Example of the third insight\"\n",
    "                }\n",
    "                \"\"\"\n",
    "            }, \n",
    "            {\n",
    "                \"role\": \"user\",\n",
    "                \"content\": f\"\"\"\n",
    "                These are the applicant's financial statements provided:\n",
    "                {context}\n",
    "                \"\"\"\n",
    "            }\n",
    "        ],\n",
    "        stream=False\n",
    "    )\n",
    "    try:\n",
    "        response = json.loads(stream.choices[0].message.content.replace(\"\\n\",\"\"))\n",
    "    except:\n",
    "        return None\n",
    "    return response"
   ]
  },
  {
   "cell_type": "markdown",
   "metadata": {},
   "source": [
    "Testing"
   ]
  },
  {
   "cell_type": "code",
   "execution_count": 28,
   "metadata": {},
   "outputs": [],
   "source": [
    "test_context = data_df.iloc[0]['processed_data']"
   ]
  },
  {
   "cell_type": "code",
   "execution_count": 29,
   "metadata": {},
   "outputs": [
    {
     "data": {
      "text/plain": [
       "{'stance': True,\n",
       " 'insight_1': 'The company experienced a year-over-year increase in both revenue and operating profit, driven by growth in the defense sector.',\n",
       " 'insight_2': 'The operating profit margin improved due to revenue growth and cost control measures.',\n",
       " 'insight_3': 'The figures include the effect of exit business, which may impact the accuracy of the financial analysis.'}"
      ]
     },
     "execution_count": 29,
     "metadata": {},
     "output_type": "execute_result"
    }
   ],
   "source": [
    "response = prompt_llm(context=test_context)\n",
    "response"
   ]
  },
  {
   "cell_type": "markdown",
   "metadata": {},
   "source": [
    "Groundedness Check"
   ]
  },
  {
   "cell_type": "code",
   "execution_count": 30,
   "metadata": {},
   "outputs": [
    {
     "data": {
      "text/plain": [
       "True"
      ]
     },
     "execution_count": 30,
     "metadata": {},
     "output_type": "execute_result"
    }
   ],
   "source": [
    "def groundedness_check(context, response, client=client):\n",
    "    result = client.chat.completions.create(\n",
    "        model='solar-1-mini-groundedness-check',\n",
    "        messages=[\n",
    "            {\n",
    "                'role':'user',\n",
    "                'content':context\n",
    "            },\n",
    "            {\n",
    "                'role':'assistant',\n",
    "                'content':str(response)\n",
    "            }\n",
    "        ]\n",
    "    )\n",
    "    return result.choices[0].message.content == 'grounded'\n",
    "grounded = groundedness_check(context=test_context, response=response)\n",
    "grounded"
   ]
  },
  {
   "cell_type": "markdown",
   "metadata": {},
   "source": [
    "Fine-tune"
   ]
  },
  {
   "cell_type": "code",
   "execution_count": 31,
   "metadata": {},
   "outputs": [
    {
     "data": {
      "text/plain": [
       "[{'context': \"\\n                The provided text does not contain any financial information or data. Therefore, I am unable to summarize any key financial details.\\n                Hanwha Systems Co., Ltd reported its FY2024 Q1 Performance Report on 2024.04.26. The report highlights a 10% YoY increase in revenue to KRW 1.5 trillion. Net profit also increased by 15% YoY to KRW 100 billion. The company's operating profit grew by 12% YoY to KRW 200 billion. Notably, the company's defense systems segment contributed significantly to the growth, with a 20% YoY increase in revenue. Additionally, the company announced plans to invest in research and development to strengthen its position in the aerospace industry.The document contains Hanwha Systems' unaudited financial performance data in accordance with K-IFRS. It includes consolidated and individual performance results, and is intended to inform shareholders and investors about the company's current business status. The financial data may change during accounting reviews, and the document should not be used as evidence for investment decisions. The document includes projections for the future, which may be influenced by known or unknown risks and uncertainties, and may differ from actual results due to market and internal/external conditions.\\n                The provided text does not contain sufficient information for a financial summary.The provided text is a table of contents and does not contain any financial information. Therefore, I am unable to summarize any key financial data.In the first quarter of 2024, the company experienced a year-over-year increase in both revenue and operating profit. Revenue increased by KRW 105 billion to KRW 544 billion, primarily due to the contribution of defense growth. Operating profit increased by KRW 27 billion to KRW 39 billion, driven by enlarging exports in defense and reducing self-funded R&D. However, EBIT decreased by KRW 168 billion to KRW 61 billion, and net profit decreased by KRW 135 billion to KRW 50 billion. The operating profit margin increased by 4.4% to 7.2%, while the net profit margin decreased by 32.9% to 9.2%.In the Defense sector, both Revenue and Operating Profit have increased year-over-year (YoY). The Revenue increase is attributed to the TICN 4th MPP and export projects, while the Operating Profit increase is in line with the growth of export projects.\\n\\nFor the first quarter of '24, the Revenue was KRW 382 billion, with a YoY increase of 89 billion. The Operating Profit was KRW 34 billion, up 21 billion from the previous year. The Operating Profit Margin was 8.9%, showing a YoY increase of 4.4%.\\n\\nHowever, on a quarter-over-quarter (QoQ) basis, the Revenue declined due to seasonality, with a drop of KRW 235 billion from the previous quarter. The Operating Profit increased by KRW 11 billion, while the Operating Profit Margin increased by 5.1%.In the ICT sector, both revenue and operating profit increased year-over-year (YoY). Revenue grew due to captive projects, while operating profit increased in line with the revenue growth. In Q1 of '24, revenue was KRW 161 billion, operating profit was KRW 12 billion, and the operating profit margin was 7.5%. Compared to the previous quarter, revenue remained similar, and operating profit increased due to the base effect (year-end bonus).Summary:\\nThe operating losses of subsidiaries including Hanwha Intelligence, H-Foundation, and Hanwha Systems USA have declined. In Q1 of '24, the operating profit was -7 billion KRW, a 2 billion KRW improvement from Q4 of '23. The revenue for Q1 of '24 was 2 billion KRW, a 2 billion KRW increase from Q1 of '23. The operating profit margin is not provided. Investment companies like Hanwha Phasor, Overair, and Hanwha Ocean are accounted for using the equity method. The figures include the effect of exit business.The consolidated balance sheet shows the financial position of the company from 2020 to 2023. As of 2023 Q4, total assets stood at 4,483 billion KRW, with current assets at 1,890 billion KRW and non-current assets at 2,593 billion KRW. Liabilities amounted to 2,329 billion KRW, including current liabilities of 1,951 billion KRW and non-current liabilities of 378 billion KRW. Equity was 2,154 billion KRW, while borrowings were 212 billion KRW, resulting in a debt ratio of 108%. The cash balance as of Mar. 2024 is 455 billion KRW.The financial statement shows the investment progress in Korean Won (KRW) for the years 2021 to 2024. The total investment amounts to 80 billion KRW for 1Q24, 54 billion KRW for 2023, 716 billion KRW for 2022, and 187 billion KRW for 2021. The investment is divided into four categories: UAM, Satellite, Digital Platform, and Etc. Notable investments include 17 billion KRW in UAM and 30 billion KRW in Satellite for 2023, 65 billion KRW in UAM, 399 billion KRW in Satellite, and 252 billion KRW in Digital Platform for 2022.1Q24 Summary:\\n\\n* Revenue: KRW 544 Bn, +105 Bn YoY, +238 Bn QoQ\\n\\t+ Defense: KRW 382 Bn, +89 Bn YoY, +235 Bn QoQ\\n\\t+ ICT: KRW 161 Bn, +14 Bn YoY, +4 Bn QoQ\\n* Operating Profit: KRW 39 Bn, +2 Bn YoY, +2 Bn QoQ\\n\\t+ Defense: KRW 34 Bn, +21 Bn YoY, +11 Bn QoQ\\n\\t+ ICT: KRW 12 Bn, +4 Bn YoY, +16 Bn QoQ\\n* Operating Profit Margin (OPM): 7.2%, +4.4% YoY, +5.8% QoQ\\n* EBIT: KRW 61 Bn, -168 Bn YoY, +42 Bn QoQ\\n* Net Profit: KRW 50 Bn, -135 Bn YoY, +8 Bn QoQ\\n\\nKey observations:\\n\\n* Revenue growth driven by TICN 4th MPP and export projects in Defense sector, captive projects in ICT sector\\n* Operating Profit increased in accordance with revenue growth\\n* OPM improved due to revenue growth and cost control measures\\n* EBIT and Net Profit declined YoY but improved QoQ\\n* Figures include the effect of exit business.\",\n",
       "  'response': '{\\'stance\\': True, \\'insight_1\\': \\'The company experienced a year-over-year increase in both revenue and operating profit in the first quarter of 2024, primarily due to the contribution of defense growth.\\', \\'insight_2\\': \\'The operating profit margin increased by 4.4% to 7.2%, while the net profit margin decreased by 32.9% to 9.2%.\\', \\'insight_3\\': \"The operating losses of subsidiaries have declined, with the operating profit improving by 2 billion KRW from Q4 of \\'23 to Q1 of \\'24.\"}'},\n",
       " {'context': \"\\n                The page contains financial information for the company XYZ Inc. for the year ending December 31, 2022.\\n\\n                Revenue: $100,000,000\\n                Net Income: $15,000,000\\n                Total Assets: $125,000,000\\n                Total Liabilities: $50,000,000\\n                Shareholders' Equity: $75,000,000\\n\\n                Notable observations include a 10% increase in revenue compared to the previous year, and a 25% increase in net income. The company has a healthy balance sheet with a strong asset base and manageable liabilities.\\nThe text provided does not contain any numerical figures or financial information. It only mentions the date of the earnings release and the company, NCSOFT. Therefore, it is not possible to provide a summary of key financial information based on the given text.The provided text is a disclaimer regarding the financial results for Q1 2024, which have been prepared on an unaudited basis and may be subject to change during an independent auditing process. The text also lists key consolidated subsidiaries of NCSOFT based on K-IFRS, including their locations and ownership percentages. However, there is no specific numerical financial information provided in the text.The provided document contains information on consolidated earnings, including financial highlights, sales breakdown, and cost breakdown. In the appendix, there are consolidated financial statements and strategies for sales growth. The key financial information is not specified, and the document lacks sufficient information for a detailed summary.The financial highlights for the quarter show a decrease in sales by 9% qoq and 17% yoy, totaling KRW 397.9 billion. Operating profit increased by 568% qoq but decreased by 68% yoy, amounting to KRW 25.7 billion. Pre-tax income and net income also experienced fluctuations, with net income turning to profit qoq but decreasing by 45% yoy.In the given financial statement, the company's mobile game sales decreased by 17% quarter-over-quarter (qoq) to KRW 249.4 billion due to the high base set by Lineage 2M and Lineage W. Mobile games contributed 63% of the total sales. PC online games showed a 4% qoq increase in sales, reaching KRW 91.5 billion, mainly due to various updates. PC online games accounted for 23% of the total sales. The sales figures for specific games, such as Lineage M, Lineage 2M, Lineage W, and Blade & Soul 2, are provided for the quarters from 1Q 23 to 1Q 24. Similarly, the sales figures for PC online games, including Lineage, Lineage 2, AION, Blade & Soul, and Guild Wars 2, are also provided for the same period.The sales breakdown by region shows that Korea sales decreased by 9% qoq to KRW 259.4 billion. Overseas and royalty sales dropped by 10% qoq to KRW 138.5 billion, accounting for 35% of total sales. The total sales for the given periods are as follows: 478,770, 440,246, 423,108, 437,709, and 397,911 (Unit: KRW MN). Royalty sales amounted to KRW 42,314, 36,276, 35,289, 30,578, and 32,686. Sales in NA/EU were KRW 33,344, 31,414, 33,073, 37,937, and 36,637. Asia sales were KRW 99,396, 87,444, 78,376, 84,691, and 69,164. Korea sales were KRW 303,716, 285,112, 276,370, 284,504, and 259,424.In the third quarter of 2023, total operating expenses reported by the company were KRW 372.2 billion, representing a 14% decrease from the previous quarter and a 6% decrease from the same period last year. The cost breakdown shows that labor costs amounted to KRW 202.8 billion, marking a 1% increase from the previous quarter and a 4% decrease from the same period last year. Marketing expenses dropped significantly by 83% to KRW 6.9 billion, driven by efforts to optimize marketing spending following reduced ad campaigns for major game updates and new title releases in Korea. Variable and other costs also decreased by 17% to KRW 134.7 billion due to a decline in mobile game sales.The financial statement provides a snapshot of the company's financial position as of FY 2023 and 1Q 24. Assets total 4,393.8 billion KRW and 4,295.6 billion KRW, respectively. Current assets include cash and cash equivalents (365.2 billion KRW and 233.8 billion KRW), short-term financial instruments (1,167.5 billion KRW and 1,104.5 billion KRW), account receivables (132.7 billion KRW and 133.8 billion KRW), and short-term investment assets (585.4 billion KRW and 595.3 billion KRW). Non-current assets amount to 2,056.9 billion KRW and 2,154.7 billion KRW, including long-term investment assets (640.4 billion KRW and 782.6 billion KRW), tangible assets (1,000.5 billion KRW and 983.1 billion KRW), and intangible assets (96.1 billion KRW and 96.6 billion KRW).\\n\\nLiabilities total 1,140.7 billion KRW and 1,030.4 billion KRW, respectively. Current liabilities include borrowings (239.9 billion KRW and 129.9 billion KRW), account payables (78.1 billion KRW and 122.7 billion KRW), lease liabilities (39.9 billion KRW and 45.5 billion KRW), and other current liabilities (254.7 billion KRW and 217.1 billion KRW). Non-current liabilities amount to 526.4 billion KRW and 513.6 billion KRW, including debentures and borrowings (169.7 billion KRW and 169.7 billion KRW), lease liabilities (192.7 billion KRW and 182.9 billion KRW), and others (135.2 billion KRW and 136.0 billion KRW).\\n\\nShareholders' equity totals 3,253.0 billion KRW and 3,265.2 billion KRW, respectively, with retained earnings being the largest component (3,472.6 billion KRW and 3,469.4 billion KRW). Non-controlling interest is 3.3 billion KRW and 3.4 billion KRW, respectively.The consolidated financial statements for the period show the following key figures:\\n\\n- Sales: 478,770 KRW MN (1Q 23), 440,246 KRW MN (2Q 23), 423,108 KRW MN (3Q 23), 437,709 KRW MN (4Q 23), and 397,911 KRW MN (1Q 24).\\n- Operating Expenses: 397,142 KRW MN (1Q 23), 404,971 KRW MN (2Q 23), 406,581 KRW MN (3Q 23), 433,856 KRW MN (4Q 23), and 372,188 KRW MN (1Q 24).\\n- Operating Income: 81,628 KRW MN (1Q 23), 35,275 KRW MN (2Q 23), 16,527 KRW MN (3Q 23), 3,853 KRW MN (4Q 23), and 25,723 KRW MN (1Q 24).\\n- Non-operating Income: 59,671 KRW MN (1Q 23), 3,827 KRW MN (2Q 23), 29,667 KRW MN (3Q 23), -24,221 KRW MN (4Q 23), and 52,642 KRW MN (1Q 24).\\n- Pre-tax Income: 141,299 KRW MN (1Q 23), 39,102 KRW MN (2Q 23), 46,194 KRW MN (3Q 23), -20,368 KRW MN (4Q 23), and 78,365 KRW MN (1Q 24).\\n- Income Tax: 27,121 KRW MN (1Q 23), 8,561 KRW MN (2Q 23), 2,190 KRW MN (3Q 23), -45,558 KRW MN (4Q 23), and 21,244 KRW MN (1Q 24).\\n- Net Income: 114,178 KRW MN (1Q 23), 30,542 KRW MN (2Q 23), 44,004 KRW MN (3Q 23), 25,190 KRW MN (4Q 23), and 57,122 KRW MN (1Q 24).\\n- Equity Attribution to the Owners of the Parent Company: 113,697 KRW MN (1Q 23), 29,878 KRW MN (2Q 23), 43,611 KRW MN (3Q 23), 24,953 KRW MN (4Q 23), and 57,176 KRW MN (1Q 24).\\n- Non-controlling Interest: 481 KRW MN (1Q 23), 664 KRW MN (2Q 23), 393 KRW MN (3Q 23), 237 KRW MN (4Q 23), and -55 KRW MN (1Q 24).The key financial strategies for sales growth include:\\n\\n1. Stabilizing legacy IPs\\n2. Expanding global presence of legacy IPs with Launch B&S 2 in China, Lineage 2M in Southeast Asia, and TL globally, and strengthening global partnerships\\n3. Developing new genre games based on legacy IPs with 3 new genre games based on existing IPs\\n4. Diversifying product offerings with new IPs launching Battle Crush, BSS, Project G, AION 2, LLL, and more\\n5. Pursuing business opportunities with PURPLE aiming to release 3rd party AAA-level games on PURPLE within this year.\",\n",
       "  'response': '{\\'stance\\': True, \\'insight_1\\': \\'The company has a healthy balance sheet with a strong asset base and manageable liabilities.\\', \\'insight_2\\': \\'The company experienced a 10% increase in revenue and a 25% increase in net income compared to the previous year.\\', \\'insight_3\\': \"The company\\'s mobile game sales decreased by 17% quarter-over-quarter, but PC online games showed a 4% increase in sales.\"}'},\n",
       " {'context': '\\n                The provided text does not contain any financial statement information. Please provide the actual financial statement page for summary.\\n                The provided text does not contain sufficient information for a financial summary.The document contains consolidated financial statements of KRAFTON, Inc. and its subsidiaries prepared in accordance with K-IFRS. The financial results and operational performance are for investors\\' convenience only and have not been audited. The information is subject to change upon completion of the audit review. The company disclaims any liability for any loss arising from the use of this information, which should not be used for investment decision-making or legal proceedings.\\nThe provided text does not contain sufficient information for a financial summary.In 2023, PUBG IP demonstrated solid growth in traffic and revenue, with a 37% increase in revenue year-over-year. The game strengthened its F2P transition momentum and achieved overall enhancements in in-game and out-game content. PUBG PC/Console experienced a 70% increase in peak concurrent users from the lowest to the highest in December. The game\\'s revenue growth for three consecutive years and the successful relaunch of BGMI in India, with record high traffic and revenue, further confirm its growth potential. The focus on enhanced anti-cheat capabilities and localized content and marketing contributed to user trust, satisfaction, and revenue growth.KRAFTON\\'s 2024 strategic focus is to shift from \"Original Creative\" to \"Scale-up the Creative.\" The company aims to strengthen production and management capabilities, as well as publishing capabilities. They plan to expand their IP portfolio through investments and 2nd party publishing, with a focus on HQ control based on gameplay and quality standards. KRAFTON aims to maximize synergy by utilizing their global experiences and the creative studios\\' publishing process/infrastructure. They also plan to discover original creatives to scale up as \"1B IP\"s, with a focus on the \"Original Creative\" DNA and a shift in perspective. An example given is the success of PlayerUnknown\\'s Battlegrounds, which started as an amateur mod and was scaled up by skilled developers to become a mainstream genre and further succeed on mobile platforms.The financial statement indicates a focus on scaling up and restructuring the creative direction of the company. The goal is to popularize the core gameplay through a transition to a GaaS (Game as a Service) model, expanding platforms, and reaching new markets. The company aims to centralize organizations at the HQ and implement a multi-publishing line for efficient launching of new titles. A single command line is established to ensure effective alignment. The financial statement does not provide specific numerical figures or trends.The document outlines strategic titles for 2024, focusing on various genres such as Extraction RPG, Battle Royale, Life Simulation, and more. The titles aim to bring innovative gameplay to familiar genres, secure unique positions in the mobile market, and popularize the Extraction Shooter genre. The document mentions a sequel to an original IP, pursuing a community-first approach, and adapting the latest technologies for a unique hyper-realistic life simulation game. It also highlights the anticipated title based on global gamer reaction, inheriting and enhancing PUBG\\'s powerful gunplay, and exploring an oceanic world in stunning stylized graphics powered by Unreal Engine 5. The document also mentions the importance of player progression, risk-reward decisions, and monetization through AI technologies for continuous live service post-2024.The text discusses the potential for scaling up second party publishing (2PP) for broader discoveries in the gaming industry. It mentions several game studios and titles, including Nirvanana Far From Home, Dinkum Funny Storm Gardens Interactive, Playgig Studio, Sai Boundary, People Can Fly, and Fuzzy Bot. The text also asks if there is original creative content and potential for scaling up through 2PP. Out of the mentioned games, 8 have original creative content, and 8 have potential for scaling up through 2PP.The text discusses the goal of achieving stepwise growth for the PUBG IP and new IPs under the \"Scale-up the Creative\" strategy in 2024. It mentions the importance of discovering and nurturing new IPs, solid growth in existing live services, user-oriented service updates, and operational excellence. The text also implies a focus on return on investment in every 3 to 5 years.The provided text does not contain sufficient information for a financial summary.The PUBG IP Franchise aims to expand and ultimately scale up to a 10B IP. Key strategies include enhancing PUBG PC, venturing into console gaming, and diversifying gameplay experiences. The goal is to strengthen the core and community, implement a game experience, and explore changes in platform/genre player experiences reflecting core PUBG values. The priority is on strengthening and expanding the IP through games, with gradual expansion of branding and products beyond games to create cultural trends.\\n                In India, BGMI has shown solid growth. The company plans to maintain this steady growth by expanding its publishing titles and leveraging its strong presence. They are also committed to continuously developing BGMI Esports. Additionally, they plan to increase investment and explore new business opportunities.The financial statement highlights the company\\'s focus on AI technology development, with key activities including LLM enhancements, voice technology (Korean/multi-language/personalized TTS), high-quality 2D art generation, 2D-3D avatar generation, and reinforcement learning for game AI. The company has published five regular track papers at NeurIPS 2023, ranking #1 among Korean game companies and #3 globally. This has led to a dramatic reduction in production costs and a significant increase in game production efficiency. The company aims to reinvent gameplay, provide personalized AI gaming experiences, and innovate the creative production process.The page discusses the importance of focusing on core values of original creativity and scaling up the creative process with a long-term perspective. It also emphasizes the need for more and faster attempts, possibly through multi-publishing lines or M&A opportunities. The page mentions a tipping point for stepwise growth, but does not provide specific numerical figures or trends.No summary provided due to lack of information.Revenue: FY2023 revenue reached an all-time high of KRW 1.9, primarily driven by the success of core IP PUBG. PC/Console revenue grew significantly, with a 2x increase compared to FY2020, due to the F2P transition of PUBG PC/Console, enhanced live service, and stable traffic. The company discovered 30 original creatives and has 30 projects in its incubating pipelines, aiming for continuous release of new titles through multi-publishing lines.In the fourth quarter of 2022, the company reported revenue of KRW 534.6 billion, representing a 18.7% increase quarter-over-quarter and a 12.8% increase year-over-year. The revenue growth was driven by the success of PC, mobile, and console games. Operating profit for the quarter was KRW 164.3 billion, up 30.3% year-over-year, but down 13.2% quarter-over-quarter due to increased costs related to major games services. Adjusted EBITDA was KRW 219.7 billion, up 37.0% year-over-year. Net profit was in deficit, turning from a loss of KRW 165.4 billion in the previous quarter to a loss of KRW 13.2 billion. For the full year 2023, the company expects revenue to increase by 3.1% year-over-year to KRW 1,910.6 billion.Key Financial Information:\\n\\n* 2023 Revenue: KRW 1,910.6 billion, YoY 3.1% increase\\n* 4Q23 Revenue: KRW 534.6 billion, QoQ 18.7% increase, YoY 12.8% increase\\n* Revenue Breakdown:\\n\\t+ PC: KRW 167.1 billion, QoQ 37.8% increase, YoY 20.1% increase\\n\\t+ Mobile: KRW 342.7 billion, QoQ 10.9% increase, YoY 34.5% increase\\n\\t+ Console: KRW 17.4 billion, QoQ 44.5% increase, YoY -74.3% decrease\\n\\t+ Others: KRW 7.4 billion, QoQ -6.6% decrease, YoY -39.3% decrease\\n* Revenue Proportion (Annual):\\n\\t+ PC/Console: 48.8%\\n\\t+ Mobile: 33.5%\\n\\t+ Others: 17.6%\\n\\nSummary:\\n\\nThe company\\'s 2023 revenue increased by 3.1% YoY to KRW 1,910.6 billion, with a significant QoQ increase of 18.7% in 4Q23. The revenue breakdown shows that PC and mobile segments contributed the most, with PC revenue increasing by 20.1% YoY and mobile revenue increasing by 34.5% YoY. Console revenue decreased by 74.3% YoY, while others decreased by 39.3% YoY. The PC/Console revenue proportion for the year was 48.8%, while the mobile proportion was 33.5% and others were 17.6%.The financial statement shows that for 2023, operating profit was KRW 768.0 billion (2.2% increase YoY), Adj. EBITDA was KRW 903.7 billion (14.0% increase YoY). In 4Q23, operating profit was KRW 164.3 billion (13.2% decrease QoQ, 30.3% increase YoY), Adj. EBITDA was KRW 219.7 billion (11.4% increase QoQ, 37.0% increase YoY). Operating costs for 4Q23 were KRW 370.2 billion (41.8% increase QoQ, 6.5% increase YoY). Personnel costs were KRW 120.9 billion (18.2% increase QoQ, 90.8% increase YoY), platform fees/cost of revenue were KRW 87.9 billion (46.7% increase QoQ, 52.4% increase YoY), paid commissions were KRW 61.9 billion (-4.5% decrease QoQ, -39.7% decrease YoY), marketing expenses were KRW 34.2 billion (89.7% increase QoQ, -57.8% decrease YoY), and share-based payment expenses were KRW 28.3 billion (n/m). Other expenses were KRW 36.9 billion (3.6% increase QoQ, -29.6% decrease YoY). The operating profit margin for 4Q23 was 30.7% (-11.3%p QoQ, +4.1%p YoY), and the Adj. EBITDA margin was 41.1% (-2.7%p QoQ, +7.3%p YoY).The financial statement shows the company\\'s net profit for 2023 as KRW 594.1 billion, representing a year-over-year increase of 18.8%. The net profit for 4Q23 was KRW -13.2 billion. The non-operating income increased by 63.6% year-over-year to KRW 521.0 billion, while the non-operating expense increased by 19.2% year-over-year to KRW 460.4 billion. The profit before income tax was KRW 828.6 billion, representing a year-over-year increase of 21.2%. The income tax was KRW 234.6 billion, representing a year-over-year increase of 39.0%. The net profit margin for 4Q23 was -2.5%, a decrease of 49.5 percentage points from the previous quarter.The provided text is insufficient for a financial summary as it lacks any numerical figures or relevant information.\\n                The provided text does not contain sufficient information for a financial summary.The consolidated financial statements for 2022 and 2023 show a steady increase in revenue, operating profits, EBITDA, and adjusted EBITDA. In 2022, revenue was KRW 1,854.0 billion, operating profits were KRW 751.6 billion, EBITDA was KRW 856.2 billion, and adjusted EBITDA was KRW 792.7 billion. In 2023, revenue is expected to increase to KRW 1,910.6 billion, operating profits to KRW 768.0 billion, EBITDA to KRW 876.1 billion, and adjusted EBITDA to KRW 903.7 billion. Non-operating profit, other income, and finance income also show positive trends, while other expenses and finance expenses remain relatively stable. The profit before income tax for 2022 was KRW 683.9 billion, and it is expected to increase to KRW 828.6 billion in 2023. Income tax for 2022 was KRW 168.7 billion, and it is expected to increase to KRW 234.6 billion in 2023. Net profit for 2022 was KRW 500.2 billion, and it is expected to increase to KRW 594.1 billion in 2023.The financial statements summarized in the provided text show the consolidated statement of financial position for two years, FY 2022 and FY 2023.\\n\\nAssets:\\n- Current Assets: 3,892.6 billion KRW (FY 2022) and 3,964.4 billion KRW (FY 2023)\\n- Cash and Cash Equivalents: 3,125.3 billion KRW (FY 2022) and 3,061.4 billion KRW (FY 2023)\\n- Non-current Assets: 2,145.2 billion KRW (FY 2022) and 2,476.0 billion KRW (FY 2023)\\n\\nLiabilities:\\n- Current Liabilities: 411.5 billion KRW (FY 2022) and 520.7 billion KRW (FY 2023)\\n- Non-current Liabilities: 509.9 billion KRW (FY 2022) and 360.9 billion KRW (FY 2023)\\n- Total Liabilities: 921.4 billion KRW (FY 2022) and 881.6 billion KRW (FY 2023)\\n\\nEquity:\\n- Shareholders’ equity: 5,111.2 billion KRW (FY 2022) and 5,554.4 billion KRW (FY 2023)\\n- Paid-in Capital: 4.9 billion KRW (both years)\\n- Capital Surplus: 1,448.6 billion KRW (FY 2022) and 1,472.0 billion KRW (FY 2023)\\n- Retained Earnings: 3,467.6 billion KRW (FY 2022) and 3,895.0 billion KRW (FY 2023)\\n- Non-controlling Interests: 5.2 billion KRW (FY 2022) and 4.4 billion KRW (FY 2023)\\n- Total Equity: 5,116.4 billion KRW (FY 2022) and 5,558.8 billion KRW (FY 2023)\\n\\nIt is important to note that the summary includes other current assets, property and equipment, intangibles, investment in associates, other non-current assets, and fair value through profit or loss (FVPL). The provided text does not contain sufficient information to make any significant observations or draw conclusions about trends.',\n",
       "  'response': '{\\'stance\\': True, \\'insight_1\\': \\'The company has shown steady growth in revenue, operating profits, EBITDA, and adjusted EBITDA over the past two years.\\', \\'insight_2\\': \"The company\\'s assets have increased, with a significant portion in cash and cash equivalents.\", \\'insight_3\\': \"The company\\'s equity has increased, driven by retained earnings and capital surplus.\"}'},\n",
       " {'context': \"\\n                The provided text does not contain any financial information or data for analysis. Therefore, no summary can be generated.주식회사 빅히트아이피는 2020년 01월 01일부터 2020년 12월 31일까지의 제2기 재무제표에 대한 감사보고서를 제출했습니다. 회계법인 이상에서 감사를 진행했습니다. 또한, 2019년 10월 01일부터 2019년 12월 31일까지의 제1기 재무제표도 함께 제출되었습니다. 제공된 정보에는 구체적인 재무 수치가 포함되어 있지 않습니다.제공된 금융 보고서 페이지에는 주요 재무 정보가 포함되어 있지 않습니다. 해당 페이지에는 독립된 감사인의 감사보고서, 재무제표, 주석에 대한 목차만 있습니다. 재무 상태, 손익, 자본 변동, 현금 흐름에 대한 구체적인 수치나 동향은 언급되지 않았습니다. 따라서, 제공된 정보로는 재무 요약을 작성할 수 없습니다.2020년 12월 31일 기준, 주식회사 빅히트아이피의 재무상태표, 포괄손익계산서, 자본변동표, 현금흐름표, 그리고 유의적인 회계정책 요약이 감사되었으며, 해당 재무제표는 한국채택국제회계기준에 따라 중요한 왜곡표시가 없이 공정하게 표시되었습니다. 독립된 감사인은 대한민국의 회계감사기준에 따라 감사를 수행하였으며, 경영진과 지배기구는 재무제표의 작성과 공정성에 대한 책임이 있습니다.이 페이지는 재무제표에 대한 경영진의 책임과 감사인의 책임에 대해 다루고 있습니다. 경영진은 재무제표를 작성하고 회사의 계속기업으로서의 존속능력을 평가하며, 감사인은 재무제표에 대한 감사 의견을 제공하기 위해 중요한 왜곡표시가 없는지 확인합니다. 감사인은 부정과 오류에 대한 위험을 고려하여 감사 절차를 수행하고, 경영진이 적용한 회계정책과 회계의 계속기업전제를 평가합니다. 또한, 감사인은 재무제표에 대한 감사 의견을 제공하기 위해 충분한 감사 증거를 확보합니다.이 문서는 회사의 재무제표에 대한 검토를 논의하고 있으며, 특히 회사의 계속기업으로서의 존속에 대한 불확실성과 관련된 공시에 초점을 맞추고 있습니다. 감사인은 재무제표가 적절하게 표시되고 기초가 되는 거래와 사건을 공정하게 나타내는지 여부를 평가했습니다. 또한, 감사인은 계획된 감사 범위, 시기 및 유의적인 감사의 발견사항에 대해 지배기구와 소통했습니다. 이 감사보고서는 2021년 3월 17일 현재로 유효하며, 이후 재무제표에 중대한 영향을 미칠 수 있는 사건이나 상황이 발생할 수 있음을 유의해야 합니다.빅히트아이피의 재무제표에 따르면, 해당 회사는 2019년 10월 1일부터 2020년 12월 31일까지의 기간 동안 운영되었습니다. 재무제표는 2020년 12월 31일까지의 제2기와 2019년 10월 1일부터 2019년 12월 31일까지의 제1기를 포함하고 있습니다. 재무제표는 빅히트아이피의 대표이사가 작성하였으며, 본점 소재지는 서울특별시 강남구 테헤란로 626 5,6층입니다.빅히트아이피의 2020년 12월 31일 기준 재무상태표입니다. 자산은 88,393,088,950원으로, 유동자산은 84,430,124,430원, 비유동자산은 3,962,964,520원입니다. 주요 유동자산은 현금 및 현금성자산 4,366,303,415원, 매출채권 52,351,015,063원, 재고자산 18,680,612,989원입니다. 부채는 70,822,820,003원으로, 유동부채는 66,764,268,210원, 비유동부채는 4,058,551,793원입니다. 자본은 17,570,268,947원으로, 자본금은 1,000,000,000원, 주식발행초과금은 3,845,113,167원, 이익잉여금은 12,634,508,053원입니다.주식회사 빅히트아이피의 포괄손익계산서에 따르면, 제2기(2020년 1월 1일~12월 31일)의 매출액과 당기순이익은 각각 124,093,425,734원과 10,447,772,139원이며, 제1기(2019년 10월 1일~12월 31일)의 매출액과 당기순이익은 각각 29,510,819,330원과 2,186,735,914원이었습니다. 제2기의 당기순이익은 제1기 대비 382.5% 증가하였으며, 매출액 대비 당기순이익률은 8.4% 증가하였습니다. 또한, 제2기의 영업이익은 14,723,706,087원으로, 제1기 대비 472.3% 증가하였습니다.주식회사 빅히트아이피의 자본변동표에 따르면, 2020년 1월 1일부터 2020년 12월 31일까지의 총포괄손익은 -입니다. 당기순이익은 2,186,735,914원이며, 순확정급여부채의 재측정요소는 5,056,455원입니다. 2020년 1월 1일 기준 자본총계는 7,036,905,536원이며, 2020년 12월 31일 기준 자본총계는 17,570,268,947원입니다.빅히트아이피의 2020년 1월 1일부터 2020년 12월 31일까지의 현금흐름표는 다음과 같은 주요 사항을 보여줍니다:\\n\\n1. 영업활동으로 인한 현금흐름은 2,014,530,201원으로, 제1기의 4,876,486,404원보다 감소했습니다.\\n2. 영업으로부터 창출된 현금흐름은 3,068,562,953원으로, 이자의 수취는 8,028,992원이었습니다.\\n3. 투자활동으로 인한 현금흐름은 1,785,297,693원의 현금유출로, 유형자산과 무형자산의 취득 및 보증금 증가 등이 주요 요인입니다.\\n4. 재무활동으로 인한 현금흐름은 461,719,773원의 현금유출로, 리스부채의 감소 등이 주요 요인입니다.\\n5. 현금 및 현금성자산의 기말 잔액은 4,366,303,415원으로, 기초 현금 및 현금성자산은 4,598,790,680원이었습니다.2020년 12월 31일 기준 주식회사 빅히트아이피의 재무제표는 한국채택국제회계기준에 따라 작성되었다. 회사는 2019년 10월 1일 주식회사 빅히트엔터테인먼트의 도소매업 부문이 물적분할되어 설립되었으며, 자본금은 1,000백만원, 발행주식수는 200,000주이다. 주요 주주는 주식회사 빅히트엔터테인먼트로 지분율은 100.0%이다. 재무제표는 역사적 원가에 기초하여 작성되었으며, 확정급여제도와 공정가치로 측정하는 사외적립자산은 예외이다. 재무제표 작성에는 중요한 회계추정과 판단이 사용되었으며, 주석 3에서 자세한 내용을 확인할 수 있다.해당 페이지에서는 회사의 회계정책과 공시의 변경에 대해 설명하고 있습니다. 회사는 2020년 1월 1일부터 다음과 같은 제/개정 기준서 및 해석서를 적용하였습니다:\\n\\n1. 기업회계기준서 제1001호 '재무제표 표시', 제1008호 '회계정책, 회계추정의 변\\n경 및 오류' 개정 - 중요성의 정의\\n중 요성의 정의를 명확히 하였습니다. 정보를 누락하거나 잘못 기재하거나 불분명하\\n게 하여 주요 이용자의 의사결정에 영향을 줄 것으로 합리적으로 예상할 수 있다면\\n그 정보는 중요합니다. 해당 기준서의 개정이 재무제표에 미치는 중요한 영향은 없습\\n니다.\\n2. 기업회계기준서 제1103호 '사업결합' 개정 - 사업의 정의\\n사 업의 정의를 충족하기 위해서는 산출물의 창출에 유의적으로 기여하는 투입물과\\n실질적인 과정이 반드시 포함되어야 하며, 산출물에서 원가 감소에 따른 경제적 효익\\n은 제외하였습니다. 또한, 취득한 총자산의 대부분의 공정가치가 식별가능한 단일 자\\n산 또는 비슷한 자산의 집합에 집중되어 있는 경우에는 사업의 취득이 아니라고 간주\\n할 수 있는 선택적 집중테스트가 추가되었습니다. 해당 기준서의 개정이 재무제표에\\n미치는 중요한 영향은 없습니다.\\n3. 기업회계기준서 제1109호 '금융상품', 제1039호 '금융상품: 인식과 측정', 제110\\n7호 '금융상품: 공시' 개정 - 이자율지표 개혁\\n이 자율지표 개혁으로 인한 불확실성이 존재하는 동안 위험회피회계 적용과 관련하여\\n예외규정을 추가하였습니다. 예외규정에서는 예상현금흐름의 발생가능성이 매우 높\\n은지, 위험회피대상항목과 위험회피수단 사이의 경제적 관계가 있는지, 양자간에 높\\n습니다. 해당 기준서의 개정이 재무제표에 미치는 중요한 영향은 없습니다.2020년 6월 1일 이후 시작되는 회계연도에 적용되는 리스 개정으로 인해, 임차료 할인 등이 리스변경에 해당하는지 평가하지 않아도 되며, 이로 인해 당기손익으로 인식된 금액을 공시해야 합니다. 동 개정사항은 조기적용이 허용되며, 회사에 중요한 영향은 없을 것으로 예상됩니다. 또한, 2021년 1월 1일 이후 시작되는 회계연도에 적용되는 금융상품 개정으로 인해, 이자율지표 대체가 발생한 경우에도 중단 없이 위험회피회계를 계속할 수 있도록 하는 등의 예외규정을 포함하고 있습니다. 동 개정사항은 조기적용이 허용되며, 회사에 중요한 영향은 없을 것으로 예상됩니다.주요 재무 정보 요약:\\n\\n1. 회사는 기업회계기준서 제1037호 '충당부채, 우발부채 및 우발자산' 및 해석서 제2121호 '부담금'의 개정으로 인해 재무제표에 중요한 영향이 없을 것으로 예상하고 있습니다. 이 개정사항은 2022년 1월 1일 이후 시작하는 회계연도부터 적용되며, 조기적용이 허용됩니다.\\n2. 기업회계기준서 제1016호 '유형자산'의 개정에 따라, 기업은 유형자산을 의도한 방식으로 사용하기 전에 생산된 품목의 판매에서 발생하는 수익을 생산원가와 함께 당기손익으로 인식해야 합니다. 이 개정사항은 2022년 1월 1일 이후 시작하는 회계연도부터 적용되며, 조기적용이 허용됩니다. 회사는 이 개정으로 인한 재무제표의 영향을 검토 중입니다.\\n3. 기업회계기준서 제1037호 '충당부채, 우발부채 및 우발자산'의 개정에 따라, 손실부담계약의 식별 시 계약이행원가의 범위가 명확히 정의되었습니다. 이 개정사항은 2022년 1월 1일 이후 시작하는 회계연도부터 적용되며, 조기적용이 허용됩니다. 회사는 이 개정으로 인해 재무제표에 중요한 영향이 없을 것으로 예상하고 있습니다.\\n4. 한국채택국제회계기준 연차개선 2018-2020은 2022년 1월 1일 이후 시작하는 회계연도부터 적용되며, 조기적용이 허용됩니다. 회사는 이 개정으로 인해 재무제표에 중요한 영향이 없을 것으로 예상하고 있습니다.주어진 금융제표 문서에서 주요한 재무 정보는 다음과 같습니다:\\n\\n* 금융부채 제거를 위한 10% 테스트와 관련된 수수료.\\n* 리스 인센티브.\\n* 농업 및 어업에 대한 공정 가치 측정.\\n* 부채의 유동성 또는 비유동성 분류에 대한 회계 기준 개정.\\n* 회사는 2023년 1월 1일부터 개정된 기준으로 전환할 예정입니다.\\n* 회사는 기능통화인 대한민국 원화로 재무제표를 작성합니다.\\n* 외화 거래는 거래일 또는 재측정 항목의 환율에 따라 기능통화로 인식됩니다.\\n* 외환 차이는 조건에 따라 당기손익 또는 기타포괄손익으로 인식됩니다.\\n* 비화폐성 금융자산 및 부채로부터 발생하는 외환 차이는 공정가치 변동손익의 일부입니다.해당 페이지에서는 공정가치 측정 지분상품의 외환차이에 대한 인식 방법과 금융자산의 분류 및 측정에 대한 정보를 제공합니다. 금융자산은 경영진의 사업모델과 계약 조건에 따라 당기손익-공정가치 측정 금융자산, 기타포괄손익-공정가치 측정 금융자산, 상각후원가 측정 금융자산으로 분류됩니다. 금융자산의 손익은 해당 자산의 분류에 따라 당기손익 또는 기타포괄손익으로 인식됩니다. 또한, 단기매매항목이 아닌 지분상품에 대한 투자는 공정가치 변동을 기타포괄손익으로 표시할 수 있습니다.이 문서는 금융자산의 분류와 측정에 관한 내용을 담고 있습니다. 내재파생상품을 포함하는 복합계약은 원금과 이자로만 구성된 현금흐름이 있는 경우 해당 계약을 전체적으로 평가합니다. 금융자산은 상각후원가, 기타포괄손익-공정가치 측정, 당기손익-공정가치 측정 등 세 가지 범주로 분류됩니다. 상각후원가 금융자산은 원리금만으로 구성된 현금흐름을 수취하기 위해 보유하며, 이자수익은 금융수익으로 인식됩니다. 기타포괄손익-공정가치 측정 금융자산은 원리금만으로 구성된 현금흐름을 수취하거나 매도하여 목적을 달성하며, 평가손익은 기타포괄손익으로 인식됩니다. 당기손익-공정가치 측정 금융자산은 공정가치 변동에 따라 당기손익에 인식됩니다.해당 페이지에서는 채무상품과 지분상품에 대한 금융자산 측정 방법을 설명하고 있습니다. 채무상품은 당기손익-공정가치 측정되며, 위험회피관계가 적용되지 않는 경우 손익은 당기손익으로 인식됩니다. 지분상품은 후속적으로 공정가치로 측정되며, 장기적 투자목적 또는 전략적 투자목적인 경우 공정가치 변동은 기타포괄손익으로 인식됩니다. 금융자산의 손상 평가도 이루어지며, 금융자산의 인식과 제거에 대한 기준도 제시되어 있습니다.The financial statement text outlines several key financial policies. For financial assets and liabilities, the entity recognizes the entire asset and liability, with the received consideration being recognized as a financial liability. Financial assets and liabilities may be offset if there is a legally enforceable right of setoff and the entity intends to settle the net amount or to settle the asset and liability simultaneously.\\n\\nFor trade receivables, they are initially recognized at the amount of the unconditional right to payment and subsequently measured at the amortized cost using the effective interest rate method. Inventory is valued at the lower of cost and net realizable value, with cost determined by the moving average method.\\n\\nFixed assets are recognized at cost, less accumulated depreciation and impairment losses. Depreciation is calculated using the straight-line method over the assets' estimated useful lives, which for furniture is 5 years.시설장치 유형자산은 5년 내용연수로 감가상각되며, 감가상각 방법과 잔존가치 및 내용연수는 매년 검토됩니다. 무형자산은 역사적 원가로 인식되며, 추정 내용연수 동안 정액법으로 상각됩니다. 소프트웨어 무형자산은 5년 내용연수로 상각됩니다. 영업권이나 내용연수가 비한정인 무형자산에 대한 손상검사는 매년 수행됩니다. 매입채무와 기타채무는 재화나 용역을 제공받았으나 지급되지 않은 부채로, 유동부채로 표시됩니다. 이러한 채무는 최초에 공정가치로 인식되고, 유효이자율법을 적용한 상각후원가로 측정됩니다.2.11 금융부채: 회사는 주로 단기매매목적의 금융상품인 당기손익-공정가치 측정 금융부채를 가지고 있습니다. 이러한 부채는 단기매매금융부채로 분류되며, 위험회피회계의 수단으로 지정되지 않은 파생상품이나 금융상품으로부터 분리된 내재파생상품도 포함됩니다. 모든 비파생금융부채는 상각후원가로 측정되며, 재무상태표 상 '매입채무' 및 '기타금융부채' 등으로 표시됩니다. 특정일에 의무적으로 상환해야 하는 전환상환우선주는 부채로 분류되며, 유효이자율법에 따른 이자비용은 손익계산서 상 '금융비용'으로 인식됩니다. 금융부채는 계약상 의무가 이행, 취소 또는 만료되어 소멸되거나 기존 금융부채의 조건이 실질적으로 변경된 경우에 재무상태표에서 제거됩니다.\\n2.12 충당부채: 회사는 법적의무나 의제의무가 존재하고, 그 의무를 이행하기 위한 자원의 유출가능성이 높으며, 당해 금액을 신뢰성 있게 추정 가능한 경우 충당부채를 인식합니다. 충당부채는 의무를 이행하기 위하여 예상되는 지출액의 현재가치로 측정되며, 시간경과로 인한 충당부채의 증가는 이자비용으로 인식됩니다.해당 페이지에서는 법인세와 이연법인세에 대한 내용을 다루고 있습니다. 법인세는 당기법인세와 이연법인세로 구성되며, 당기법인세비용은 보고기간말 현재 제정된 세법에 근거하여 측정됩니다. 이연법인세는 자산과 부채의 장부금액과 세무기준액의 차이로 발생하는 일시적 차이에 대한 예상 법인세효과로 인식됩니다. 이연법인세자산은 차감할 일시적 차이가 사용될 수 있는 미래 과세소득의 발생가능성이 높은 경우에 인식되며, 상계 가능합니다. 또한, 해당 페이지에서는 단기종업원급여에 대한 내용도 언급하고 있습니다.해당 문서는 단기종업원급여와 퇴직급여에 대한 내용을 다루고 있습니다. 단기종업원급여는 근무용역과 교환하여 지급이 예상되는 금액을 근무용역이 제공된 때에 당기손익으로 인식하고 있으며, 할인하지 않은 금액으로 측정하고 있습니다. 퇴직급여는 확정급여제도와 관련된 퇴직급여부채를 사외적립자산의 공정가치를 차감하여 인식하고 있으며, 순확정급여부채의 재측정요소는 보험수리적손익, 순확정급여부채의 순이자에 포함된 금액을 제외한 사외적립자산의 수익 및 순확정급여부채의 순이자에 포함된 금액을 제외한 자산인식상한효과의 변동으로 구성되어 있으며, 즉시 기타포괄손익으로 인식됩니다. 회사는 순확정급여부채의 순이자를 순확정급여부채에 연차보고기간 초에 결정된 할인율을 곱하여 결정되며 보고기간 동안 기여금 납부와 급여지급으로 인한 순확정급여부채의 변동을 고려하여 결정하고 있습니다. 확정급여제도와 관련된 순이자비용과 기타비용은 당기손익으로 인식됩니다.해당 재무제표는 회사의 수익 인식 정책, 리스 수익 인식, 리스 자산 및 부채 인식에 대한 정보를 제공합니다. 회사는 5단계 수익인식모형을 적용하며, 리스 제공자의 경우 운용리스 수익을 리스기간에 걸쳐 정액기준으로 인식합니다. 회사는 리스요소와 비리스요소를 상대적 개별가격에 따라 배분하며, 리스이용자인 부동산 리스의 경우 실무적 간편법을 적용합니다. 리스된 자산을 사용할 수 있는 리스개시일에 사용권자산과 부채를 인식하며, 리스부채는 현재가치기준으로 측정됩니다.The text describes the accounting treatment of leases. Lease liabilities are measured as the present value of the lease payments, including any lease payments that will be made as a result of reasonably certain renewal options. The interest rate used to discount the lease payments is either the implicit interest rate if it can be readily determined, or the lessee's incremental borrowing rate if the implicit interest rate cannot be readily determined. Each lease payment is allocated between the repayment of the lease liability and the recognition of finance costs. Finance costs are recognized in profit or loss over the lease term using the effective interest method. The right-of-use asset is measured at cost, which includes the lease liability, any lease payments made at or before the lease commencement date, the lessee's direct costs of drawing up the lease, and an estimate of the cost of dismantling and removing the asset. The right-of-use asset is depreciated over the shorter of the lease term and the useful life of the underlying asset. If the lessee is reasonably certain to exercise a purchase option, the right-of-use asset is depreciated over the useful life of the underlying asset.단기리스와 소액자산 리스는 정액 기준에 따라 당기손익으로 인식됩니다. 2021년 2월 23일자로 이사회에서 승인된 재무제표는 정기주주총회에서 수정승인될 수 있습니다. 재무제표 작성에는 판단과 추정이 필요하며, 중요한 회계추정 및 가정은 법인세와 금융자산의 손상입니다. 이러한 추정은 과거 경험과 현재 시장 상황에 기반하여 이루어집니다.주석 3은 순확정급여부채의 현재가치가 보험수리적방식에 의해 결정되는 다양한 요소들, 특히 할인율의 변동에 영향을 받는다고 언급하고 있습니다. 주석 4에서는 리스기간을 산정할 때 경영진이 연장선택권이나 종료선택권을 행사할 경제적 유인이 생기게 하는 관련 사실을 고려하며, 유의적인 원가나 사업 중단 없이 자산을 대체할 수 없는 경우에만 연장선택권을 리스부채에 포함합니다. 주석 5에서는 COVID-19가 국내외 경제에 중대한 영향을 미치고 있으며, 회사의 재무상태와 재무성과에도 부정적인 영향을 미칠 수 있다고 언급하고 있습니다.현금 및 현금성 자산은 4,366,303천원으로, 4,598,791천원에서 감소했습니다. 매출채권은 52,356,639천원으로, 18,728,828천원에서 증가했습니다. 매출채권 손실충당금은 5,624천원으로, 0원에서 증가했습니다.해당 페이지에는 회사의 매출채권, 손실충당금, 기타금융자산, 기타유동자산에 대한 정보가 포함되어 있습니다. 매출채권은 3개월 초과 6개월 이하, 6개월 초과 9개월 이하, 9개월 초과 12개월 이하, 1년 초과 및 대손 확정으로 구분되어 있으며, 손실충당금은 해당 기간 동안 변동이 없는 것으로 나타났습니다. 기타금융자산은 미수금, 보증금, 현재가치할인차금으로 구성되어 있으며, 12개월 기대신용손실로 인식된 손실충당금은 유의적인 수준이 아니므로 인식되지 않았습니다. 기타유동자산은 선급금으로 구성되어 있으며, 해당 자산은 유동자산으로 분류됩니다.The provided financial statement shows the company's financial position as of the end of the reporting period. The statement includes information on prepaid expenses, deferred sales tax liabilities, and inventory assets. The company has $8,331,240 in prepaid expenses and deferred sales tax liabilities, with $4,197,212 classified as current and $1,138,675 as non-current. Inventory assets amount to $18,680,613, with a cost of goods sold of $51,883 million. The company's fixed assets increased by $871,351 during the reporting period, with a net book value of $1,578,892.해당 페이지의 재무제표 요약은 다음과 같습니다:\\n\\n1. 비품 및 시설장치:\\n\\t* 기말 순장부금액: 비품 1,021,104 천원, 시설장치 17,083 천원, 합계 1,038,187 천원 (전기: 비품 298,323 천원)\\n\\t* 취득원가: 비품 1,267,931 천원, 시설장치 205,000 천원, 합계 1,472,931 천원 (전기: 비품 340,149 천원)\\n\\t* 상각누계액: 비품 (246,826) 천원, 시설장치 (187,917) 천원, 합계 (434,743) 천원 (전기: 비품 (41,826) 천원)\\n2. 감가상각비는 전액 판매비와관리비에 계상되어 있습니다.\\n3. 무형자산:\\n\\t* 소프트웨어: 기말 순장부금액 345,670 천원 (전기: 147,360 천원), 취득원가 429,363 천원 (전기: 160,511 천원), 상각누계액 (83,694) 천원 (전기: (13,151) 천원)\\n4. 무형자산상각비는 전액 판매비와관리비에 계상되어 있습니다.\\n5. 단기차입금: (금액 미제공)\\n\\n참고: 단기차입금에 대한 구체적인 금액은 제공되지 않았습니다.해당 재무제표 페이지에서는 (주)빅히트엔터테인먼트의 차입금, 기타 금융부채, 기타부채에 대한 정보가 제공되고 있습니다. 차입금 내역은 관계사 차입금이며, 이자율은 4.60%입니다. 당기말 현재 기타 금융부채의 총액은 43,027,019천원이며, 기타부채의 총액은 9,969,723천원으로 이 중 3,838,859천원은 비유동부채입니다. 또한, 충당부채는 94,655천원으로 전기 대비 증가하였습니다.회사는 원상복구 의무가 있는 사용권자산부동산의 반환 시 발생할 수 있는 복구비용과 관련하여 과거 경험율을 기초로 장래에 지출될 것이 예상되는 금액의 현재가치를 추정하여 복구충당부채로 계상하였습니다. 회사는 종업원을 위해 확정급여제도를 운영하고 있으며, 퇴직급여부채의 보험수리적 평가는 예측단위적립방식을 사용하여 적격성이 있는 독립적인 보험계리인에 의해 수행되었습니다. 연금의 수준은 종업원의 근무기간 및 최종 임금에 근거하여 산출되며, 연금의 대부분은 기금에 적립되어 외부 전문 신탁사에 의해 운영되나, 일부 연금은 기금에 적립돼 있지 않습니다. 한편, 기금을 운영하는 외부 전문 신탁사는 해당 국가의 규제를 받습니다.\\n\\n순확정급여부채의 내역은 다음과 같습니다:\\n- 확정급여채무의 현재가치: 961,922,000\\n- 사외적립자산의 공정가치: -778,436,000\\n- 재무상태표상 순확정급여부채: 183,486,000\\n\\n확정급여채무의 현재가치 변동내역은 다음과 같습니다:\\n- 기초 금액: 421,484,000\\n- 당기근무원가: 619,125,000\\n- 이자원가: 13,994,000\\n- 재측정요소: 0\\n\\n주석에는 기말에 대한 정보가 제공되지 않았으므로, 기말 정보를 알 수 없습니다.이 문서는 한 회사의 사외적립자산과 관련된 재무 정보를 제공합니다. 사외적립자산의 변동 내역을 살펴보면, 당기말 금액은 778,436천원으로 기초금액인 170,279천원 대비 크게 증가했습니다. 이러한 증가는 주로 사용자의 기여금 686,021천원과 이자수익 5,173천원에 기인합니다. 또한, 사외적립자산의 구성 내역을 살펴보면, 정기예금 등은 16,893천원으로 총액의 2.2%를 차지하고 있으며, 채권 등은 761,534천원으로 총액의 97.8%를 차지하고 있습니다. 마지막으로, 주요 보험수리적 가정으로는 수익률 가정이 있습니다.해당 문서는 회사의 확정급여채무와 관련된 정보를 담고 있습니다. 3.64%의 할인율과 6.00%의 미래임금상승율이 사용되었습니다. 주요 보험수리적 가정 변동에 따른 순확정급여채무의 민감도 분석 결과, 할인율의 1% 증가는 102,889천원의 감소, 1% 감소는 123,573천원의 증가를 초래할 것으로 나타났습니다. 미래임금상승율의 1% 증가는 119,461천원의 증가, 1% 감소는 101,763천원의 감소를 초래할 것으로 나타났습니다. 회사는 기금의 적립수준을 매년 검토하고, 기금에 결손이 발생하는 경우 이를 보전하는 정책을 보유하고 있습니다. 당기말 현재 확정급여채무의 가중평균만기는 12.12년이며, 할인되지 않은 연금 급여지급액의 만기 분석 결과, 10년 초과가 18,596,117천원으로 가장 큰 비중을 차지하였습니다.요약:\\n\\n해당 기업은 법인세비용 내역을 보고하고 있습니다. 당기법인세비용은 3,087,529천원이며, 법인세비용차감전순이익은 13,003,578천원입니다. 법인세비용차감전순이익에 대한 법인세비용과 이익에 적용된 가중평균세율을 사용하여 이론적으로 계산한 금액과의 차이는 2,555,806천원입니다. 기타포괄손익의 각 구성 항목과 관련된 법인세 효과는 85,591천원으로, 재측정요소에는 법인세효과가 고려되었습니다.해당 보고서의 내용은 기업에 대한 자산 및 부채와 관련된 정보로, 이연법인세자산과 부채에 대한 내용이 담겨 있습니다. 이연법인세자산은 12개월 이내에 회수될 금액이 1,230,257,000 원이며, 이연법인세부채는 12개월 이내에 결제될 금액이 192,305,000 원입니다. 이연법인세자산과 부채를 합한 순액은 1,326,199,000 원입니다.\\n\\n이연법인세자산과 부채의 변동 내역은 퇴직자산운용, 유형자산, 사용권자산, 미지급비용, 확정급여부채, 임차보증금, 리스부채, 재고자산, 회수충당부채 등으로 구성되어 있습니다. 당기 변동 내역은 1,326,199,000 원으로, 전기 변동 내역은 818,617,000 원입니다.\\n\\n또한, 자본금과 주식발행초과금에 대한 내용도 포함되어 있으며, 자본금은 5,000,000,000 원, 주식발행초과금은 60,679,000 원입니다.This financial statement document contains information about the company's capital structure, capital stock, and retained earnings. The company has 50,000,000 authorized shares, 200,000 issued shares, and a par value of 5,000 won per share. The total capital stock is 1,000,000 thousand won. The paid-in capital fluctuation shows that the company's capital stock remained unchanged during the period. The retained earnings increased from 2,186,736 thousand won to 12,634,508 thousand won. There is no profit distribution planned or confirmed.Key financial information for the second quarter includes a retained earnings balance of 12,634,508 and total revenue of 124,093,426. The revenue is derived from product sales (111,529,927) and service sales (12,563,499), with the majority of sales being domestic (56,554,350) and in Asia (45,426,224). The company's revenue is recognized at a point in time (117,642,542) and over time (6,450,884). There is no information provided about a specific external customer accounting for more than 10% of the company's sales.해당 페이지는 A사, B사, C사, D사의 매출액과 비율, 그리고 계약부채와 관련된 자산 및 부채에 대한 정보를 제공합니다. A사와 B사는 각각 33.7%와 34.0%의 비율을 차지하며, C사는 10.6%를 차지합니다. D사는 전기에는 해당 사항이 없습니다. 계약부채는 11,151,281,000원으로, 이 중 488,000,000원은 전기에서 이월된 계약부채와 과거 보고기간에 부분적으로 이행한 수행의무와 관련하여 인식된 수익입니다. 나머지 수행의무에 배분된 거래가격은 11,151,281,000원으로, 이 중 7,312,422,000원은 1년 이내에, 3,838,859,000원은 1년 초과~2년 이내에 이행될 예정입니다.당기 판매비와관리비는 15,864,324천원이며, 전기에는 3,285,328천원이었습니다. 판매비와관리비의 주요 구성 요소는 급여(9,511,231천원), 퇴직급여(804,027천원), 지급수수료(2,868,878천원), 사용권자산상각비(560,678천원), 건물관리비(272,141천원) 등이었습니다.\\n\\n당기 비용의 성격별 분류는 재고자산의 변동 등이 51,832,650천원으로 가장 큰 비중을 차지하였고, 그 다음은 종업원급여(10,315,258천원), 지급수수료(41,177,405천원), 외주가공비(1,134,743천원), 지급임차료(446,080천원) 등이었습니다.\\n\\n전기에는 재고자산의 변동 등이 11,347,710천원이었고, 종업원급여(2,729,603천원), 지급수수료(9,157,825천원), 지급임차료(1,368,973천원) 등이 있었습니다.Summary:\\n\\nThe financial statement shows the following key information:\\n\\n1. Operating expenses for the period include:\\n   - Freight expenses: 1,303,361\\n   - Consumable expenses: 132,251\\n   - Depreciation and amortization: 1,024,634\\n   - Building management expenses: 272,141\\n   - Other expenses: 1,731,197\\n   - Total operating expenses: 109,369,720\\n\\n2. Other income for the period is 534 thousand won.\\n3. Other expenses for the period are 7,872 thousand won, including:\\n   - Asset disposal loss: 3,405\\n   - Fixed asset disposal loss: 2,205\\n   - Other losses: 2,262\\n\\n4. Financial income for the period is not provided.\\n\\nPlease note that the information provided is limited, and a more comprehensive summary would require additional data.당기 순이익은 13,003,578천원이며, 전기 순이익은 2,555,783천원이었습니다. 조정 항목으로는 이자수익, 이자비용, 대손상각비, 퇴직급여, 사용권자산처분손실, 유형자산폐기손실, 감가상각비, 사용권자산상각비, 무형자산상각비 등이 있습니다.The provided financial statement shows the changes in working capital, with a decrease in accounts receivable of $33,627,811 and an increase in accounts payable of $5,828,651. Inventory decreased by $15,900,556, while other current assets and other non-current assets also decreased. Other current liabilities and other non-current liabilities increased, with a decrease in net defined benefit liability. The company generated $3,068,563 in cash from operations. The statement also lists special relationships, including the controlling company and nine other special relationships, all of which are subsidiaries of the controlling company. There is no information provided on the specific transactions between the company and its special relationships.이 문서는 (주)빅히트엔터테인먼트와 그 특수관계자들의 재무 정보를 요약한 것입니다. 매출은 101,699,641천원으로, 전년 대비 13,407,721천원 증가했습니다. 매입은 38,835,211천원으로, 전년 대비 6,792,095천원 증가했습니다. 특수관계자에 대한 채권은 51,314,402천원으로, 전년 대비 12,831,139천원 증가했습니다. 특수관계자에 대한 채무는 46,325,940천원으로, 전년 대비 14,224,055천원 증가했습니다. 이 문서에는 지급보증이나 특수관계자로부터 제공받은 지급보증에 대한 정보는 없습니다.해당 문서에서는 주요 경영진에 대한 보상이 367,520천원으로 보고되었으며, 이는 전년 대비 168,894천원의 증가를 나타냅니다. 주요 경영진은 등기 임원 등으로 구성되어 있으며, 회사의 계획, 운영, 통제에 대한 중요한 권한과 책임을 가지고 있습니다. 또한, 회사는 시장위험, 신용위험, 유동성위험과 같은 재무위험에 노출되어 있으며, 주요 경영진은 이러한 위험들을 관리하기 위한 절차를 검토하고 있습니다. 회사는 투기적인 파생상품 거래를 실행하지 않는 것이 기본적인 정책입니다.The company is exposed to foreign currency risk due to its business operations and investments in foreign subsidiaries. As of the reporting date, a 10% change in the exchange rate would impact the company's profit and loss by approximately 3.2 million KRW for JPY and 0.9 million KRW for USD. The company also manages credit risk by evaluating the creditworthiness of its customers and requiring collateral for credit transactions.해당 페이지는 회사의 금융자산, 금융부채, 신용위험, 유동성위험, 자본위험관리 등에 대한 정보를 제공합니다. 금융자산의 장부금액은 손상차손 차감 후 금액이며, 금융부채의 계약상 금액은 3개월 이내, 3개월~1년, 1년 초과로 구분되어 있습니다. 회사는 현금흐름 예측과 금융자산 및 금융부채의 만기 대응을 통해 유동성 위험을 관리하고 있습니다. 자본위험관리는 영업활동을 유지하고 주주가치를 극대화하기 위한 목적으로 이루어집니다.해당 금융제표 페이지에서는 회사의 자본구조, 부채비율, 재무활동에서 생기는 부채의 변동, 그리고 금융상품의 범주별 분류에 대한 정보가 제공됩니다. 회사는 부채총계를 자본총계로 나눈 부채비율을 사용하여 감독하고 있습니다. 보고기간종료일 현재 부채비율은 403.08%로, 전년 대비 증가하였습니다. 재무활동에서 생기는 부채의 변동은 단기차입금과 리스부채로 구성되어 있으며, 단기차입금은 3,678,392천원으로, 리스부채는 92,514천원으로 변동되었습니다. 금융상품의 범주별 분류는 현금및현금성자산, 매출채권, 기타유동금융자산으로 구성되어 있으며, 상각후원가측정 금융자산과 금융부채는 없습니다.제공된 페이지에는 금융자산과 부채에 대한 정보가 포함되어 있습니다. 상각후원가측정 금융자산은 57,436,828천 원이며, 기타비유동금융자산은 18,557천 원입니다. 상각후원가측정 금융부채는 53,822,631천 원이며, 매입채무, 단기차입금, 유동리스부채, 기타유동금융부채가 포함되어 있습니다. 금융상품 범주별 순손익 내역은 상각후원가측정 금융자산과 금융부채의 이자수익, 외환차익, 외환환산이익, 대손상각비, 이자비용, 외환차손, 외화환산손실이 포함되어 있습니다. 리스 정보는 사용권자산과 리스부채의 재무상태표 인식 금액이 포함되어 있습니다.\",\n",
       "  'response': '{\\'stance\\': True, \\'insight_1\\': \\'The company has a strong cash position with a cash balance of 4,366,303,415 KRW and a positive cash flow from operations of 2,014,530,201 KRW.\\', \\'insight_2\\': \\'The company has a significant amount of inventory, with a value of 18,680,612,989 KRW, indicating potential future sales opportunities.\\', \\'insight_3\\': \"The company\\'s revenue is diversified, with domestic sales accounting for 56,554,350 KRW and sales in Asia accounting for 45,426,224 KRW, indicating a strong presence in various markets.\"}'}]"
      ]
     },
     "execution_count": 31,
     "metadata": {},
     "output_type": "execute_result"
    }
   ],
   "source": [
    "def prep_finetune_data(data_list):\n",
    "    final_data = []\n",
    "    for data in data_list['processed_data']:\n",
    "        response = str(prompt_llm(data))\n",
    "        if response is not None:\n",
    "            grounded = groundedness_check(data,response)\n",
    "            if grounded:\n",
    "                final_data.append({\n",
    "                    'context': data,\n",
    "                    'response': response\n",
    "                })\n",
    "            else:\n",
    "                continue\n",
    "    return final_data\n",
    "data_list = prep_finetune_data(data_df)\n",
    "data_list"
   ]
  },
  {
   "cell_type": "code",
   "execution_count": 32,
   "metadata": {},
   "outputs": [],
   "source": [
    "def dataset_to_csv(data_list, file_name, max_entry=-1):\n",
    "    rng = default_rng(seed=14)\n",
    "    test_index = rng.choice(len(data_list), size=round(0.25*len(data_list)), replace=False)\n",
    "    template = {\n",
    "        \"prompt\":   \"\"\"\n",
    "                    <|im_start|>system\n",
    "                    You are a bank loan assistant tasked with determining the suitability of a loan applicant based on their provided financial statements. You must:\n",
    "\n",
    "                        1. Analyze the latest financial data provided.\n",
    "                        2. Decide whether the applicant is suitable for a loan.\n",
    "                        3. Provide three reasons or insights supporting your decision.\n",
    "\n",
    "                    Your insights must be backed up with financial figures.\n",
    "\n",
    "                    Your response MUST be in JSON format, following the example below:\n",
    "\n",
    "                    {{\n",
    "                        \"stance\": True,\n",
    "                        \"insight_1\": \"Example of the first insight\",\n",
    "                        \"insight_2\": \"Example of the second insight\",\n",
    "                        \"insight_3\": \"Example of the third insight\"\n",
    "                    }}\n",
    "\n",
    "                    <|im_start|> user\n",
    "                    These are the applicant's financial statements:\n",
    "                    {context}\n",
    "                    \"\"\",\n",
    "        \"completion\":'{response}<|im_end|>',\n",
    "        \"split\": \"train\"\n",
    "    }\n",
    "    with open(file_name, 'w', newline='', encoding='utf-8') as f:\n",
    "        fieldnames = template.keys()\n",
    "        writer = csv.DictWriter(f, fieldnames)\n",
    "        writer.writeheader()\n",
    "        for i, data in enumerate(data_list):\n",
    "            if i >= max_entry:\n",
    "                break\n",
    "            if i in test_index:\n",
    "                template[\"split\"] = \"test\"\n",
    "            row = {\n",
    "                \"prompt\":template['prompt'].format(context=data['context']),\n",
    "                \"completion\":template['completion'].format(response=data['response']),\n",
    "                \"split\":template[\"split\"] \n",
    "            }\n",
    "            writer.writerow(row)\n",
    "    f.close()"
   ]
  },
  {
   "cell_type": "code",
   "execution_count": 36,
   "metadata": {},
   "outputs": [],
   "source": [
    "dataset_to_csv(\n",
    "    data_list=data_list,\n",
    "    file_name='traintestv4.csv',\n",
    "    max_entry=len(data_list)\n",
    ")"
   ]
  },
  {
   "cell_type": "code",
   "execution_count": 38,
   "metadata": {},
   "outputs": [],
   "source": [
    "file_name = 'traintestv4.csv'\n",
    "pb_dataset = pb.datasets.from_file(file_name)"
   ]
  },
  {
   "cell_type": "code",
   "execution_count": null,
   "metadata": {},
   "outputs": [
    {
     "data": {
      "text/plain": [
       "True"
      ]
     },
     "execution_count": 69,
     "metadata": {},
     "output_type": "execute_result"
    }
   ],
   "source": [
    "def evaluate_qa_pairs(file_name):\n",
    "    '''VALIDATION FOR VALID PROMPT, COMPLETION AND SPLIT'''\n",
    "    with open(file_name, 'r', encoding='utf-8') as f:\n",
    "        reader = csv.DictReader(f)\n",
    "        for row in reader:\n",
    "            prompt, completion, split = row[\"prompt\"], row[\"completion\"], row[\"split\"]\n",
    "            assert prompt\n",
    "            assert completion\n",
    "            assert split\n",
    "    return True\n",
    "evaluate_qa_pairs('traintestv2.csv')"
   ]
  },
  {
   "cell_type": "markdown",
   "metadata": {},
   "source": [
    "CREATE REPO"
   ]
  },
  {
   "cell_type": "code",
   "execution_count": 39,
   "metadata": {},
   "outputs": [
    {
     "name": "stdout",
     "output_type": "stream",
     "text": [
      "uuid='fccfec2e-fce7-4a22-b23f-82123488685a' name='daechul-ai-modelv4' description='AI Evaluation Model for Daechul AI'\n"
     ]
    }
   ],
   "source": [
    "def _init_repo_(repo_name='daechul-ai-modelv4'):\n",
    "    repo = pb.repos.create(name=repo_name, description=\"AI Evaluation Model for Daechul AI\", exists_ok=True)\n",
    "    print(repo)\n",
    "    return repo\n",
    "repo = _init_repo_()"
   ]
  },
  {
   "cell_type": "code",
   "execution_count": 40,
   "metadata": {},
   "outputs": [
    {
     "name": "stdout",
     "output_type": "stream",
     "text": [
      "Successfully requested finetuning of solar-1-mini-chat-240612 as `daechul-ai-modelv4/1`. (Job UUID: 3caf0f8c-20c2-4ea1-89f0-5571c45391f5).\n",
      "\n",
      "Watching progress of finetuning job 3caf0f8c-20c2-4ea1-89f0-5571c45391f5. This call will block until the job has finished. Canceling or terminating this call will NOT cancel or terminate the job itself.\n",
      "\n",
      "Job is starting. Total queue time: 0:00:46         \n",
      "Waiting to receive training metrics...\n",
      "\n",
      "┌────────────┬────────────┬─────────────────┐\n",
      "│ checkpoint \u001b[0m│ train_loss \u001b[0m│ validation_loss \u001b[0m│\n",
      "├────────────┼────────────┼─────────────────┤\n",
      "│     1      \u001b[0m│   0.2018   \u001b[0m│        --       \u001b[0m│\n",
      "│     2      \u001b[0m│   0.2018   \u001b[0m│        --       \u001b[0m│\n",
      "└────────────┴────────────┴─────────────────┘\n"
     ]
    }
   ],
   "source": [
    "adapter = pb.adapters.create(\n",
    "    config=FinetuningConfig(\n",
    "        base_model=base_model,\n",
    "        epochs=2,\n",
    "        rank=16,\n",
    "        learning_rate=1e-3\n",
    "    ),\n",
    "    dataset=pb_dataset,\n",
    "    repo=repo,\n",
    "    description=\"Initial Daechul.AI model with defaults\"\n",
    ")"
   ]
  },
  {
   "cell_type": "code",
   "execution_count": 46,
   "metadata": {},
   "outputs": [],
   "source": [
    "def query_adapter(adapter, context, tenant_id=tenant_id, base_model=base_model, PB_API_KEY = PB_API_KEY):\n",
    "    prompt = f\"\"\"\n",
    "            <|im_start|> system\n",
    "            You are a bank loan assistant tasked with determining the suitability of a loan applicant based on their provided financial statements. You must:\n",
    "\n",
    "            1. Analyze the latest financial data provided.\n",
    "            2. Decide whether the applicant is suitable for a loan.\n",
    "            3. Provide three reasons or insights supporting your decision.\n",
    "\n",
    "            Your insights must be backed up with financial figures.\n",
    "\n",
    "            The output must be in JSON format, following the example below:\n",
    "\n",
    "            {{\n",
    "                \"stance\": true,\n",
    "                \"insight_1\": \"Example of the first insight\",\n",
    "                \"insight_2\": \"Example of the second insight\",\n",
    "                \"insight_3\": \"Example of the third insight\"\n",
    "            }}\n",
    "\n",
    "            <|im_start|> user\n",
    "            These are the applicant's financial statements:\n",
    "            {context}\n",
    "\"\"\"\n",
    "    # Get adapter ID\n",
    "    adapter_id = adapter.repo + \"/\" + str(adapter.tag)\n",
    "    # Send POST request\n",
    "    url = f\"https://serving.app.predibase.com/{tenant_id}/deployments/v2/llms/{base_model}/generate\"\n",
    "    payload = {\n",
    "        \"inputs\": prompt,\n",
    "        \"parameters\": {\n",
    "            \"adapter_id\": adapter_id,\n",
    "            \"adapter_source\": \"pbase\",\n",
    "            \"temperature\": 0.1,\n",
    "            \"max_new_tokens\": 300\n",
    "        }\n",
    "    }\n",
    "    headers = {\n",
    "        \"Content-Type\": \"application/json\",\n",
    "        \"Authorization\": f\"Bearer {PB_API_KEY}\"\n",
    "    }\n",
    "    response = requests.post(\n",
    "        url=url, \n",
    "        data=json.dumps(payload),\n",
    "        headers=headers\n",
    "    )\n",
    "    return response\n",
    "# resp = query_adapter(\n",
    "#     adapter=adapter,\n",
    "#     context=test_context\n",
    "# )"
   ]
  },
  {
   "cell_type": "markdown",
   "metadata": {},
   "source": [
    "### FUNCTION FOR BACKEND"
   ]
  },
  {
   "cell_type": "code",
   "execution_count": 56,
   "metadata": {},
   "outputs": [
    {
     "data": {
      "text/html": [
       "<pre style=\"white-space:pre;overflow-x:auto;line-height:normal;font-family:Menlo,'DejaVu Sans Mono',consolas,'Courier New',monospace\"><span style=\"color: #000080; text-decoration-color: #000080; font-weight: bold\">Connected to Predibase as </span><span style=\"color: #800080; text-decoration-color: #800080; font-weight: bold\">User</span><span style=\"color: #000080; text-decoration-color: #000080; font-weight: bold\">(</span><span style=\"color: #808000; text-decoration-color: #808000; font-weight: bold\">id</span><span style=\"color: #000080; text-decoration-color: #000080; font-weight: bold\">=</span><span style=\"color: #ffff00; text-decoration-color: #ffff00\">ff9179be</span><span style=\"color: #ffff00; text-decoration-color: #ffff00\">-dcd1-42bb-8713-c669d1f39e37</span><span style=\"color: #000080; text-decoration-color: #000080; font-weight: bold\">, </span><span style=\"color: #808000; text-decoration-color: #808000; font-weight: bold\">username</span><span style=\"color: #000080; text-decoration-color: #000080; font-weight: bold\">=</span><span style=\"color: #800080; text-decoration-color: #800080; font-weight: bold\">leftysg555</span><span style=\"color: #000080; text-decoration-color: #000080; font-weight: bold\">@gmail.com)</span>\n",
       "</pre>\n"
      ],
      "text/plain": [
       "\u001b[1;34mConnected to Predibase as \u001b[0m\u001b[1;35mUser\u001b[0m\u001b[1;34m(\u001b[0m\u001b[1;33mid\u001b[0m\u001b[1;34m=\u001b[0m\u001b[93mff9179be\u001b[0m\u001b[93m-dcd1-42bb-8713-c669d1f39e37\u001b[0m\u001b[1;34m, \u001b[0m\u001b[1;33musername\u001b[0m\u001b[1;34m=\u001b[0m\u001b[1;35mleftysg555\u001b[0m\u001b[1;34m@gmail.com\u001b[0m\u001b[1;34m)\u001b[0m\n"
      ]
     },
     "metadata": {},
     "output_type": "display_data"
    }
   ],
   "source": [
    "import requests\n",
    "from io import BytesIO\n",
    "import json\n",
    "import requests\n",
    "from openai import OpenAI\n",
    "from predibase import Predibase\n",
    "\n",
    "load_dotenv()\n",
    "\n",
    "\n",
    "UPSTAGE_API_KEY = os.environ['UPSTAGE_API_KEY']\n",
    "PB_API_KEY = os.environ['PB_API_KEY']\n",
    "tenant_id = os.environ['TENANT_ID']\n",
    "base_model = \"solar-1-mini-chat-240612\"\n",
    "pb = Predibase(api_token=PB_API_KEY)\n",
    "pb\n",
    "client = OpenAI(\n",
    "    api_key=UPSTAGE_API_KEY,\n",
    "    base_url=\"https://api.upstage.ai/v1/solar\"\n",
    ")\n",
    "\n",
    "\n",
    "\n",
    "\n",
    "\n",
    "def prompt_llm(context, client=client):\n",
    "    stream = client.chat.completions.create(\n",
    "        model='solar-1-mini-chat',\n",
    "        messages=[\n",
    "            {\n",
    "                \"role\": \"system\",\n",
    "                \"content\": \"\"\"\n",
    "                You are a bank loan assistant tasked with determining the suitability of a loan applicant based on their provided financial statements. You must:\n",
    "\n",
    "                    1. Analyze the latest financial data provided.\n",
    "                    2. Decide whether the applicant is suitable for a loan.\n",
    "                    3. Provide three reasons or insights supporting your decision.\n",
    "\n",
    "                Your insights must be backed up with financial figures. Be as critical as possible\n",
    "\n",
    "                Your response MUST be in JSON format, following the example below:\n",
    "\n",
    "                {\n",
    "                    \"stance\": true,\n",
    "                    \"insight_1\": \"Example of the first insight\",\n",
    "                    \"insight_2\": \"Example of the second insight\",\n",
    "                    \"insight_3\": \"Example of the third insight\"\n",
    "                }\n",
    "                \"\"\"\n",
    "            }, \n",
    "            {\n",
    "                \"role\": \"user\",\n",
    "                \"content\": f\"\"\"\n",
    "                These are the applicant's financial statements provided:\n",
    "                {context}\n",
    "                \"\"\"\n",
    "            }\n",
    "        ],\n",
    "        stream=False\n",
    "    )\n",
    "    try:\n",
    "        response = json.loads(stream.choices[0].message.content.replace(\"\\n\",\"\"))\n",
    "    except:\n",
    "        return None\n",
    "    return response\n",
    "\n",
    "def prompt_summarize(context, client=client):\n",
    "    stream = client.chat.completions.create(\n",
    "        model='solar-1-mini-chat',\n",
    "        messages=[\n",
    "            {\n",
    "                \"role\": \"system\",\n",
    "                \"content\": \"\"\"\n",
    "                You are an expert in financial analysis. Below is a page from a financial statement document. \n",
    "                Your task is to summarize the key financial information, including all relevant numerical figures, trends, and notable observations. \n",
    "                Ensure that no important numerical data is omitted. Your summary should be clear, concise, and no longer than 200 words, focusing only on the most significant details. \n",
    "                If you find the page lacks sufficient information for a summary, you MUST return an empty response.\n",
    "                \"\"\"\n",
    "            }, \n",
    "            {\n",
    "                \"role\": \"user\",\n",
    "                \"content\": f\"\"\"\n",
    "                This is the text you are to summarize:\n",
    "                {context}\n",
    "                \"\"\"\n",
    "            }\n",
    "        ],\n",
    "        stream=False\n",
    "    )\n",
    "    response = stream.choices[0].message.content\n",
    "    return response\n",
    "\n",
    "def loan_evaluation(file_url,url=\"https://api.upstage.ai/v1/document-ai/layout-analysis\", API_KEY=UPSTAGE_API_KEY):\n",
    "    response = requests.get(file_url)\n",
    "    response.raise_for_status()  \n",
    "\n",
    "    # Load the file into a BytesIO object\n",
    "    file_data = BytesIO(response.content)\n",
    "\n",
    "    headers = {\"Authorization\": f\"Bearer {API_KEY}\"}\n",
    "    files = {\"document\": file_data}\n",
    "\n",
    "    # Post request to the API\n",
    "    api_response = requests.post(url, headers=headers, files=files)\n",
    "    api_response.raise_for_status()  \n",
    "    \n",
    "    obj = api_response.json()\n",
    "\n",
    "    # Extract information\n",
    "    context = ''\n",
    "    for page in range(obj['billed_pages']):\n",
    "        page_content = ''\n",
    "        for element in obj['elements']:\n",
    "            if element['page'] == page:\n",
    "                if element['category'] == 'table':\n",
    "                    page_content += f\"\\n{element['html']}\"\n",
    "                else:\n",
    "                    page_content += f\"\\n{element['text']}\"\n",
    "        context += prompt_summarize(page_content)\n",
    "\n",
    "    loan_results=prompt_llm(context)\n",
    "    \n",
    "    return loan_results\n",
    "\n",
    "\n",
    "\n",
    "\n"
   ]
  },
  {
   "cell_type": "markdown",
   "metadata": {},
   "source": [
    "### EXAMPLE USAGE"
   ]
  },
  {
   "cell_type": "code",
   "execution_count": 57,
   "metadata": {},
   "outputs": [],
   "source": [
    "loan_results=loan_evaluation('https://utfs.io/f/2d94c9cb-82b5-4a15-b6fe-aa1f42820a91-aakpmq.pdf',adapter=adapter)"
   ]
  },
  {
   "cell_type": "code",
   "execution_count": 59,
   "metadata": {},
   "outputs": [
    {
     "name": "stdout",
     "output_type": "stream",
     "text": [
      "{'stance': True, 'insight_1': \"The company's target market, which includes health-conscious millennials and Gen Z, vegetarians, vegans, flexitarians, and curious meat-eaters, aligns with current consumer trends and shows potential for strong demand.\", 'insight_2': 'The competitive landscape includes traditional fried chicken chains and other plant-based meat companies, but FFC LLC differentiates itself with its proprietary recipe and commitment to sustainability, animal welfare, health, and customer experience.', 'insight_3': \"The projected CAGR of 19.4% for the plant-based meat market from 2023 to 2030 indicates a favorable industry growth trend, supporting the potential success of FFC LLC's business model.\"}\n"
     ]
    }
   ],
   "source": [
    "print(loan_results)"
   ]
  },
  {
   "cell_type": "code",
   "execution_count": null,
   "metadata": {},
   "outputs": [],
   "source": []
  }
 ],
 "metadata": {
  "kernelspec": {
   "display_name": ".venv",
   "language": "python",
   "name": "python3"
  },
  "language_info": {
   "codemirror_mode": {
    "name": "ipython",
    "version": 3
   },
   "file_extension": ".py",
   "mimetype": "text/x-python",
   "name": "python",
   "nbconvert_exporter": "python",
   "pygments_lexer": "ipython3",
   "version": "3.12.1"
  }
 },
 "nbformat": 4,
 "nbformat_minor": 2
}
